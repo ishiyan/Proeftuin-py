{
 "cells": [
  {
   "cell_type": "markdown",
   "source": [
    "### Conditionals"
   ],
   "metadata": {}
  },
  {
   "cell_type": "markdown",
   "source": [
    "A conditional is a construct that allows you to branch your code based on conditions being met (or not)"
   ],
   "metadata": {}
  },
  {
   "cell_type": "markdown",
   "source": [
    "This is achieved using **if**, **elif** and **else** or the **ternary operator** (aka conditional expression)"
   ],
   "metadata": {}
  },
  {
   "cell_type": "code",
   "execution_count": 1,
   "source": [
    "a = 2\r\n",
    "if a < 3:\r\n",
    "    print('a < 3')\r\n",
    "else:\r\n",
    "    print('a >= 3')"
   ],
   "outputs": [
    {
     "output_type": "stream",
     "name": "stdout",
     "text": [
      "a < 3\n"
     ]
    }
   ],
   "metadata": {}
  },
  {
   "cell_type": "markdown",
   "source": [
    "**if** statements can be nested:"
   ],
   "metadata": {}
  },
  {
   "cell_type": "code",
   "execution_count": 2,
   "source": [
    "a = 15\r\n",
    "\r\n",
    "if a < 5:\r\n",
    "    print('a < 5')\r\n",
    "else:\r\n",
    "    if a < 10:\r\n",
    "        print('5 <= a < 10')\r\n",
    "    else:\r\n",
    "        print('a >= 10')"
   ],
   "outputs": [
    {
     "output_type": "stream",
     "name": "stdout",
     "text": [
      "a >= 10\n"
     ]
    }
   ],
   "metadata": {}
  },
  {
   "cell_type": "markdown",
   "source": [
    "But the **elif** statement provides far better readability:"
   ],
   "metadata": {}
  },
  {
   "cell_type": "code",
   "execution_count": 3,
   "source": [
    "a = 15\r\n",
    "if a < 5:\r\n",
    "    print('a < 5')\r\n",
    "elif a < 10:\r\n",
    "    print('5 <= a < 10')\r\n",
    "else:\r\n",
    "    print('a >= 10')"
   ],
   "outputs": [
    {
     "output_type": "stream",
     "name": "stdout",
     "text": [
      "a >= 10\n"
     ]
    }
   ],
   "metadata": {}
  },
  {
   "cell_type": "markdown",
   "source": [
    "In Python, **elif** is the closest you'll find to the switch/case statement available in some other languages."
   ],
   "metadata": {}
  },
  {
   "cell_type": "markdown",
   "source": [
    "Python also provides a conditional expression (ternary operator):\n",
    "\n",
    "X if (condition) else Y\n",
    "\n",
    "returns (and evaluates) X if (condition) is True, otherwise returns (and evaluates) Y"
   ],
   "metadata": {}
  },
  {
   "cell_type": "code",
   "execution_count": 4,
   "source": [
    "a = 5\r\n",
    "res = 'a < 10' if a < 10 else 'a >= 10'\r\n",
    "print(res)"
   ],
   "outputs": [
    {
     "output_type": "stream",
     "name": "stdout",
     "text": [
      "a < 10\n"
     ]
    }
   ],
   "metadata": {}
  },
  {
   "cell_type": "code",
   "execution_count": 5,
   "source": [
    "a = 15\r\n",
    "res = 'a < 10' if a < 10 else 'a >= 10'\r\n",
    "print(res)"
   ],
   "outputs": [
    {
     "output_type": "stream",
     "name": "stdout",
     "text": [
      "a >= 10\n"
     ]
    }
   ],
   "metadata": {}
  },
  {
   "cell_type": "markdown",
   "source": [
    "Note that **X** and **Y** can be any expression, not just literal values:"
   ],
   "metadata": {}
  },
  {
   "cell_type": "code",
   "execution_count": 6,
   "source": [
    "def say_hello():\r\n",
    "    print('Hello!')\r\n",
    "    \r\n",
    "def say_goodbye():\r\n",
    "    print('Goodbye!')"
   ],
   "outputs": [],
   "metadata": {
    "collapsed": true
   }
  },
  {
   "cell_type": "code",
   "execution_count": 7,
   "source": [
    "a = 5\r\n",
    "say_hello() if a < 10 else say_goodbye()"
   ],
   "outputs": [
    {
     "output_type": "stream",
     "name": "stdout",
     "text": [
      "Hello!\n"
     ]
    }
   ],
   "metadata": {}
  },
  {
   "cell_type": "code",
   "execution_count": 8,
   "source": [
    "a = 15\r\n",
    "say_hello() if a < 10 else say_goodbye()"
   ],
   "outputs": [
    {
     "output_type": "stream",
     "name": "stdout",
     "text": [
      "Goodbye!\n"
     ]
    }
   ],
   "metadata": {}
  }
 ],
 "metadata": {
  "kernelspec": {
   "name": "python3",
   "display_name": "Python 3.8.8 64-bit ('base': conda)"
  },
  "language_info": {
   "codemirror_mode": {
    "name": "ipython",
    "version": 3
   },
   "file_extension": ".py",
   "mimetype": "text/x-python",
   "name": "python",
   "nbconvert_exporter": "python",
   "pygments_lexer": "ipython3",
   "version": "3.8.8"
  },
  "interpreter": {
   "hash": "9b012e293b5a2aed87bbef946c0abe67acd9832c431e6e846756da6baacdda87"
  }
 },
 "nbformat": 4,
 "nbformat_minor": 2
}