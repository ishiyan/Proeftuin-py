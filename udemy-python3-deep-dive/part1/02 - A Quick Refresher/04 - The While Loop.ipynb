{
 "cells": [
  {
   "cell_type": "markdown",
   "source": [
    "### While Loops"
   ],
   "metadata": {}
  },
  {
   "cell_type": "markdown",
   "source": [
    "The **while** loop is a way to repeatg a block of code as long as a specified condition is met."
   ],
   "metadata": {}
  },
  {
   "cell_type": "markdown",
   "source": [
    "``while <exp is true>:\n",
    "    code block``"
   ],
   "metadata": {}
  },
  {
   "cell_type": "code",
   "execution_count": 6,
   "source": [
    "i = 0\r\n",
    "while i < 5:\r\n",
    "    print(i)\r\n",
    "    i += 1"
   ],
   "outputs": [
    {
     "output_type": "stream",
     "name": "stdout",
     "text": [
      "0\n",
      "1\n",
      "2\n",
      "3\n",
      "4\n"
     ]
    }
   ],
   "metadata": {}
  },
  {
   "cell_type": "markdown",
   "source": [
    "Note that there is no guarantee that a **while** loop will execute at all, not even once, because the condition is tested **before** the loop runs."
   ],
   "metadata": {}
  },
  {
   "cell_type": "code",
   "execution_count": 7,
   "source": [
    "i = 5\r\n",
    "while i < 5:\r\n",
    "    print(i)\r\n",
    "    i += 1"
   ],
   "outputs": [],
   "metadata": {
    "collapsed": true
   }
  },
  {
   "cell_type": "markdown",
   "source": [
    "Some languages have a concept of a while loop that is guaranteed to execute at least once:\n",
    "\n",
    "``do\n",
    "    code block\n",
    "while <exp is true>\n",
    "``"
   ],
   "metadata": {}
  },
  {
   "cell_type": "markdown",
   "source": [
    "There is no such thing in Python, but it's easy enough to write code that works that way.\n",
    "\n",
    "We create an infinite loop and test the condition inside the loop and break out of the loop when the condition becomes false:"
   ],
   "metadata": {}
  },
  {
   "cell_type": "code",
   "execution_count": 8,
   "source": [
    "i = 5\r\n",
    "\r\n",
    "while True:\r\n",
    "    print(i)\r\n",
    "    if i >= 5:\r\n",
    "        break\r\n"
   ],
   "outputs": [
    {
     "output_type": "stream",
     "name": "stdout",
     "text": [
      "5\n"
     ]
    }
   ],
   "metadata": {}
  },
  {
   "cell_type": "markdown",
   "source": [
    "As you can see the loop executed once (and will always execute at least once, no matter the starting value of i.)\n",
    "\n",
    "This is a standard pattern and can be useful in a variety of scenarios.\n",
    "\n",
    "A simple example might be getting repetitive user input until the user performs and action or provides some specific value."
   ],
   "metadata": {}
  },
  {
   "cell_type": "raw",
   "source": [
    "For example, suppose we want to use the console to let users enter their name. We just want to make sure their name is at least 2 characters long, contains printable characters only, and only contains alphabetic characters:"
   ],
   "metadata": {}
  },
  {
   "cell_type": "markdown",
   "source": [
    "We might try it this way:"
   ],
   "metadata": {}
  },
  {
   "cell_type": "code",
   "execution_count": 1,
   "source": [
    "min_length = 2\r\n",
    "\r\n",
    "name = input('Please enter your name:')\r\n",
    "\r\n",
    "while not(len(name) >= min_length  and name.isprintable() and name.isalpha()):\r\n",
    "    name = input('Please enter your name:')\r\n",
    "\r\n",
    "print('Hello, {0}'.format(name))\r\n"
   ],
   "outputs": [
    {
     "output_type": "stream",
     "name": "stdout",
     "text": [
      "Hello, abc\n"
     ]
    }
   ],
   "metadata": {
    "scrolled": true
   }
  },
  {
   "cell_type": "markdown",
   "source": [
    "This works just fine, but notice that we had to write the code to elicit user input **twice** in our code. This is not good practice, and we can easily clean this up as follows:"
   ],
   "metadata": {}
  },
  {
   "cell_type": "code",
   "execution_count": 2,
   "source": [
    "min_length = 2\r\n",
    "\r\n",
    "while True:\r\n",
    "    name = input('Please enter your name:')\r\n",
    "    if len(name) >= min_length  and name.isprintable() and name.isalpha():\r\n",
    "        break\r\n",
    "\r\n",
    "print('Hello, {0}'.format(name))"
   ],
   "outputs": [
    {
     "output_type": "stream",
     "name": "stdout",
     "text": [
      "Hello, abc\n"
     ]
    }
   ],
   "metadata": {}
  },
  {
   "cell_type": "markdown",
   "source": [
    "We saw how the **break** statement exits the **while** loop and execution resumes on the line immediately after the while code block.\n",
    "\n",
    "Sometimes, we just want to cut the current iteration short, but continue looping, without exiting the loop itself.\n",
    "\n",
    "This is done using the **continue** statement:"
   ],
   "metadata": {}
  },
  {
   "cell_type": "code",
   "execution_count": 3,
   "source": [
    "a = 0\r\n",
    "while a < 10:\r\n",
    "    a += 1\r\n",
    "    if a % 2:\r\n",
    "        continue\r\n",
    "    print(a)"
   ],
   "outputs": [
    {
     "output_type": "stream",
     "name": "stdout",
     "text": [
      "2\n",
      "4\n",
      "6\n",
      "8\n",
      "10\n"
     ]
    }
   ],
   "metadata": {}
  },
  {
   "cell_type": "markdown",
   "source": [
    "Note that there are much better ways of doing this! We'll cover that in later videos (comprehensions, generators, etc)"
   ],
   "metadata": {}
  },
  {
   "cell_type": "markdown",
   "source": [
    "The **while** loop also can be used with an **else** clause!!"
   ],
   "metadata": {}
  },
  {
   "cell_type": "markdown",
   "source": [
    "The **else** is executed if the while loop terminated without hitting a **break** statement (we say the loop terminated **normally**)"
   ],
   "metadata": {}
  },
  {
   "cell_type": "markdown",
   "source": [
    "Suppose we want to test if some value is present in some list, and if not we want to append it to the list (again there are better ways of doing this):"
   ],
   "metadata": {}
  },
  {
   "cell_type": "markdown",
   "source": [
    "First, here's how we might do it without the benefit of the **else** clause:"
   ],
   "metadata": {}
  },
  {
   "cell_type": "code",
   "execution_count": 5,
   "source": [
    "l = [1, 2, 3]\r\n",
    "val = 10\r\n",
    "\r\n",
    "found = False\r\n",
    "idx = 0\r\n",
    "while idx < len(l):\r\n",
    "    if l[idx] == val:\r\n",
    "        found = True\r\n",
    "        break\r\n",
    "    idx += 1\r\n",
    "    \r\n",
    "if not found:\r\n",
    "    l.append(val)\r\n",
    "print(l)"
   ],
   "outputs": [
    {
     "output_type": "stream",
     "name": "stdout",
     "text": [
      "[1, 2, 3, 10]\n"
     ]
    }
   ],
   "metadata": {}
  },
  {
   "cell_type": "markdown",
   "source": [
    "Using the **else** clause is easier:"
   ],
   "metadata": {}
  },
  {
   "cell_type": "code",
   "execution_count": 9,
   "source": [
    "l = [1, 2, 3]\r\n",
    "val = 10\r\n",
    "\r\n",
    "idx = 0\r\n",
    "while idx < len(l):\r\n",
    "    if l[idx] == val:\r\n",
    "        break\r\n",
    "    idx += 1\r\n",
    "else:\r\n",
    "    l.append(val)\r\n",
    "\r\n",
    "print(l)"
   ],
   "outputs": [
    {
     "output_type": "stream",
     "name": "stdout",
     "text": [
      "[1, 2, 3, 10]\n"
     ]
    }
   ],
   "metadata": {}
  },
  {
   "cell_type": "code",
   "execution_count": 10,
   "source": [
    "l = [1, 2, 3]\r\n",
    "val = 3\r\n",
    "\r\n",
    "idx = 0\r\n",
    "while idx < len(l):\r\n",
    "    if l[idx] == val:\r\n",
    "        break\r\n",
    "    idx += 1\r\n",
    "else:\r\n",
    "    l.append(val)\r\n",
    "\r\n",
    "print(l)"
   ],
   "outputs": [
    {
     "output_type": "stream",
     "name": "stdout",
     "text": [
      "[1, 2, 3]\n"
     ]
    }
   ],
   "metadata": {}
  }
 ],
 "metadata": {
  "kernelspec": {
   "name": "python3",
   "display_name": "Python 3.8.8 64-bit ('base': conda)"
  },
  "language_info": {
   "codemirror_mode": {
    "name": "ipython",
    "version": 3
   },
   "file_extension": ".py",
   "mimetype": "text/x-python",
   "name": "python",
   "nbconvert_exporter": "python",
   "pygments_lexer": "ipython3",
   "version": "3.8.8"
  },
  "interpreter": {
   "hash": "9b012e293b5a2aed87bbef946c0abe67acd9832c431e6e846756da6baacdda87"
  }
 },
 "nbformat": 4,
 "nbformat_minor": 2
}