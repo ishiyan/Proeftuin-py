{
 "cells": [
  {
   "cell_type": "code",
   "execution_count": null,
   "metadata": {
    "colab": {
     "base_uri": "https://localhost:8080/"
    },
    "executionInfo": {
     "elapsed": 545,
     "status": "ok",
     "timestamp": 1634194937241,
     "user": {
      "displayName": "Nero C",
      "photoUrl": "https://lh3.googleusercontent.com/a-/AOh14GjQRoCAV4q10k-DC7od7DeLQhSUCkvaI26E0x4r=s64",
      "userId": "13659571702895310340"
     },
     "user_tz": -630
    },
    "id": "k_E0VELS4NP2",
    "outputId": "318fd8a1-541e-4c80-f6c8-53e887737e0b"
   },
   "outputs": [],
   "source": []
  },
  {
   "cell_type": "code",
   "execution_count": 1,
   "metadata": {
    "colab": {
     "base_uri": "https://localhost:8080/"
    },
    "executionInfo": {
     "elapsed": 558,
     "status": "ok",
     "timestamp": 1634194938260,
     "user": {
      "displayName": "Nero C",
      "photoUrl": "https://lh3.googleusercontent.com/a-/AOh14GjQRoCAV4q10k-DC7od7DeLQhSUCkvaI26E0x4r=s64",
      "userId": "13659571702895310340"
     },
     "user_tz": -630
    },
    "id": "Qyy2IpTzbgF0",
    "outputId": "dba31e90-5e76-4abc-d262-c73586c76ebe",
    "scrolled": true
   },
   "outputs": [
    {
     "name": "stdout",
     "output_type": "stream",
     "text": [
      "Fri Jan 28 20:49:47 2022       \r\n",
      "+-----------------------------------------------------------------------------+\r\n",
      "| NVIDIA-SMI 470.86       Driver Version: 470.86       CUDA Version: 11.4     |\r\n",
      "|-------------------------------+----------------------+----------------------+\r\n",
      "| GPU  Name        Persistence-M| Bus-Id        Disp.A | Volatile Uncorr. ECC |\r\n",
      "| Fan  Temp  Perf  Pwr:Usage/Cap|         Memory-Usage | GPU-Util  Compute M. |\r\n",
      "|                               |                      |               MIG M. |\r\n",
      "|===============================+======================+======================|\r\n",
      "|   0  NVIDIA GeForce ...  Off  | 00000000:09:00.0 Off |                  N/A |\r\n",
      "| 30%   33C    P2    32W / 350W |   2595MiB / 24259MiB |    100%      Default |\r\n",
      "|                               |                      |                  N/A |\r\n",
      "+-------------------------------+----------------------+----------------------+\r\n",
      "                                                                               \r\n",
      "+-----------------------------------------------------------------------------+\r\n",
      "| Processes:                                                                  |\r\n",
      "|  GPU   GI   CI        PID   Type   Process name                  GPU Memory |\r\n",
      "|        ID   ID                                                   Usage      |\r\n",
      "|=============================================================================|\r\n",
      "|    0   N/A  N/A      1016      G   /usr/lib/xorg/Xorg                 56MiB |\r\n",
      "|    0   N/A  N/A      1245      G   /usr/bin/gnome-shell                9MiB |\r\n",
      "|    0   N/A  N/A      6622      C   .../bit/anaconda3/bin/python     2525MiB |\r\n",
      "+-----------------------------------------------------------------------------+\r\n"
     ]
    }
   ],
   "source": [
    "!nvidia-smi"
   ]
  },
  {
   "cell_type": "markdown",
   "metadata": {
    "id": "IeZyx1-fcLXe"
   },
   "source": []
  },
  {
   "cell_type": "code",
   "execution_count": null,
   "metadata": {
    "id": "GmBFBvfbOj0a"
   },
   "outputs": [],
   "source": []
  },
  {
   "cell_type": "code",
   "execution_count": 2,
   "metadata": {
    "colab": {
     "base_uri": "https://localhost:8080/"
    },
    "executionInfo": {
     "elapsed": 11155,
     "status": "ok",
     "timestamp": 1634194949413,
     "user": {
      "displayName": "Nero C",
      "photoUrl": "https://lh3.googleusercontent.com/a-/AOh14GjQRoCAV4q10k-DC7od7DeLQhSUCkvaI26E0x4r=s64",
      "userId": "13659571702895310340"
     },
     "user_tz": -630
    },
    "id": "dPdpNulr5rdc",
    "outputId": "3d3fdba3-f071-4d90-c3da-9a3ce74627af"
   },
   "outputs": [
    {
     "name": "stdout",
     "output_type": "stream",
     "text": [
      "Requirement already satisfied: ltp in /home/bit/anaconda3/lib/python3.9/site-packages (4.1.5.post2)\n",
      "Requirement already satisfied: torch>=1.2.0 in /home/bit/anaconda3/lib/python3.9/site-packages (from ltp) (1.10.0)\n",
      "Requirement already satisfied: packaging>=20.0 in /home/bit/anaconda3/lib/python3.9/site-packages (from ltp) (21.0)\n",
      "Requirement already satisfied: transformers<=4.7.0,>=4.0.0 in /home/bit/anaconda3/lib/python3.9/site-packages (from ltp) (4.7.0)\n",
      "Requirement already satisfied: pygtrie<2.5,>=2.3.0 in /home/bit/anaconda3/lib/python3.9/site-packages (from ltp) (2.4.2)\n",
      "Requirement already satisfied: pyparsing>=2.0.2 in /home/bit/anaconda3/lib/python3.9/site-packages (from packaging>=20.0->ltp) (3.0.4)\n",
      "Requirement already satisfied: typing_extensions in /home/bit/anaconda3/lib/python3.9/site-packages (from torch>=1.2.0->ltp) (3.10.0.2)\n",
      "Requirement already satisfied: sacremoses in /home/bit/anaconda3/lib/python3.9/site-packages (from transformers<=4.7.0,>=4.0.0->ltp) (0.0.46)\n",
      "Requirement already satisfied: filelock in /home/bit/anaconda3/lib/python3.9/site-packages (from transformers<=4.7.0,>=4.0.0->ltp) (3.3.1)\n",
      "Requirement already satisfied: pyyaml in /home/bit/anaconda3/lib/python3.9/site-packages (from transformers<=4.7.0,>=4.0.0->ltp) (6.0)\n",
      "Requirement already satisfied: regex!=2019.12.17 in /home/bit/anaconda3/lib/python3.9/site-packages (from transformers<=4.7.0,>=4.0.0->ltp) (2021.8.3)\n",
      "Requirement already satisfied: tqdm>=4.27 in /home/bit/anaconda3/lib/python3.9/site-packages (from transformers<=4.7.0,>=4.0.0->ltp) (4.62.3)\n",
      "Requirement already satisfied: huggingface-hub==0.0.8 in /home/bit/anaconda3/lib/python3.9/site-packages (from transformers<=4.7.0,>=4.0.0->ltp) (0.0.8)\n",
      "Requirement already satisfied: tokenizers<0.11,>=0.10.1 in /home/bit/anaconda3/lib/python3.9/site-packages (from transformers<=4.7.0,>=4.0.0->ltp) (0.10.3)\n",
      "Requirement already satisfied: numpy>=1.17 in /home/bit/anaconda3/lib/python3.9/site-packages (from transformers<=4.7.0,>=4.0.0->ltp) (1.20.3)\n",
      "Requirement already satisfied: requests in /home/bit/anaconda3/lib/python3.9/site-packages (from transformers<=4.7.0,>=4.0.0->ltp) (2.26.0)\n",
      "Requirement already satisfied: charset-normalizer~=2.0.0 in /home/bit/anaconda3/lib/python3.9/site-packages (from requests->transformers<=4.7.0,>=4.0.0->ltp) (2.0.4)\n",
      "Requirement already satisfied: certifi>=2017.4.17 in /home/bit/anaconda3/lib/python3.9/site-packages (from requests->transformers<=4.7.0,>=4.0.0->ltp) (2021.10.8)\n",
      "Requirement already satisfied: idna<4,>=2.5 in /home/bit/anaconda3/lib/python3.9/site-packages (from requests->transformers<=4.7.0,>=4.0.0->ltp) (3.2)\n",
      "Requirement already satisfied: urllib3<1.27,>=1.21.1 in /home/bit/anaconda3/lib/python3.9/site-packages (from requests->transformers<=4.7.0,>=4.0.0->ltp) (1.26.7)\n",
      "Requirement already satisfied: click in /home/bit/anaconda3/lib/python3.9/site-packages (from sacremoses->transformers<=4.7.0,>=4.0.0->ltp) (8.0.3)\n",
      "Requirement already satisfied: six in /home/bit/anaconda3/lib/python3.9/site-packages (from sacremoses->transformers<=4.7.0,>=4.0.0->ltp) (1.16.0)\n",
      "Requirement already satisfied: joblib in /home/bit/anaconda3/lib/python3.9/site-packages (from sacremoses->transformers<=4.7.0,>=4.0.0->ltp) (1.1.0)\n",
      "Python implementation: CPython\n",
      "Python version       : 3.9.7\n",
      "IPython version      : 7.29.0\n",
      "\n",
      "numpy       : 1.20.3\n",
      "pandas      : 1.3.4\n",
      "torch       : 1.10.0\n",
      "transformers: 4.7.0\n",
      "\n"
     ]
    }
   ],
   "source": [
    "!pip install ltp\n",
    "!pip install -q -U watermark\n",
    "!pip install -qq transformers\n",
    "%reload_ext watermark\n",
    "%watermark -v -p numpy,pandas,torch,transformers"
   ]
  },
  {
   "cell_type": "code",
   "execution_count": 3,
   "metadata": {
    "colab": {
     "base_uri": "https://localhost:8080/"
    },
    "executionInfo": {
     "elapsed": 1642,
     "status": "ok",
     "timestamp": 1634194951035,
     "user": {
      "displayName": "Nero C",
      "photoUrl": "https://lh3.googleusercontent.com/a-/AOh14GjQRoCAV4q10k-DC7od7DeLQhSUCkvaI26E0x4r=s64",
      "userId": "13659571702895310340"
     },
     "user_tz": -630
    },
    "id": "pEHKZt-qRG5x",
    "outputId": "c9b85caa-7c2c-4578-fce2-d41c84ef0dc2"
   },
   "outputs": [
    {
     "data": {
      "text/plain": [
       "device(type='cuda', index=0)"
      ]
     },
     "execution_count": 3,
     "metadata": {},
     "output_type": "execute_result"
    }
   ],
   "source": [
    "#@title Setup & Config\n",
    "import transformers\n",
    "from transformers import BertModel, BertTokenizer, AdamW, get_linear_schedule_with_warmup\n",
    "import torch\n",
    "import unicodedata\n",
    "import numpy as np\n",
    "import pandas as pd\n",
    "import seaborn as sns\n",
    "from pylab import rcParams\n",
    "import matplotlib.pyplot as plt\n",
    "from matplotlib import rc\n",
    "from sklearn.model_selection import train_test_split\n",
    "from sklearn.metrics import confusion_matrix, classification_report\n",
    "from collections import defaultdict\n",
    "from textwrap import wrap\n",
    "\n",
    "from torch import nn, optim\n",
    "from torch.utils.data import Dataset, DataLoader\n",
    "import torch.nn.functional as F\n",
    "from sklearn.metrics import f1_score\n",
    "from torch.nn import TransformerEncoder, TransformerEncoderLayer\n",
    "from collections import Counter\n",
    "import ast\n",
    "import random\n",
    "\n",
    "\n",
    "%matplotlib inline\n",
    "%config InlineBackend.figure_format='retina'\n",
    "\n",
    "sns.set(style='whitegrid', palette='muted', font_scale=1.2)\n",
    "\n",
    "HAPPY_COLORS_PALETTE = [\"#01BEFE\", \"#FFDD00\", \"#FF7D00\", \"#FF006D\", \"#ADFF02\", \"#8F00FF\"]\n",
    "\n",
    "sns.set_palette(sns.color_palette(HAPPY_COLORS_PALETTE))\n",
    "\n",
    "rcParams['figure.figsize'] = 12, 8\n",
    "\n",
    "RANDOM_SEED = 10\n",
    "np.random.seed(RANDOM_SEED)\n",
    "torch.manual_seed(RANDOM_SEED)\n",
    "\n",
    "device = torch.device(\"cuda:0\" if torch.cuda.is_available() else \"cpu\")\n",
    "device"
   ]
  },
  {
   "cell_type": "markdown",
   "metadata": {
    "id": "HHAlx_DgsuY6"
   },
   "source": [
    "## New Section"
   ]
  },
  {
   "cell_type": "code",
   "execution_count": 4,
   "metadata": {
    "id": "xRdWcGGBFYTu"
   },
   "outputs": [],
   "source": [
    "from transformers import BertTokenizer,BertModel\n",
    "PRE_TRAINED_MODEL_NAME = \"hfl/chinese-roberta-wwm-ext\"\n",
    "# PRE_TRAINED_MODEL_NAME = \"hfl/chinese-roberta-wwm-ext-large\"\n",
    "# PRE_TRAINED_MODEL_NAME = \"hfl/chinese-bert-wwm-ext\"\n",
    "# PRE_TRAINED_MODEL_NAME = \"bert-base-uncased\"\n",
    "# PRE_TRAINED_MODEL_NAME = \"ProsusAI/finbert\"\n",
    "# PRE_TRAINED_MODEL_NAME = \"bert-base-chinese\"\n",
    "\n",
    "tokenizer = BertTokenizer.from_pretrained(PRE_TRAINED_MODEL_NAME,do_lower_case=True)\n",
    "PRE_TRAINED_MODEL_NAME = '/home/bit/stock/model/pretrained-bert/ROBERT_4_model.bin'"
   ]
  },
  {
   "cell_type": "markdown",
   "metadata": {
    "id": "eg7yz0zXQujX"
   },
   "source": [
    "## Generating the masks of verb, A0, A1"
   ]
  },
  {
   "cell_type": "code",
   "execution_count": 5,
   "metadata": {
    "id": "IWNPdn8fg4gG"
   },
   "outputs": [],
   "source": [
    "\n",
    "\n",
    "def string_to_tuples_list(text):\n",
    "  if text is np.nan or text =='[]':\n",
    "    return []\n",
    "  text = ''.join(text.split('], ['))\n",
    "  tmp = eval(text.strip('[').strip(']'))\n",
    "  if not isinstance(tmp[0],tuple):\n",
    "    return [tmp]\n",
    "  return list(tmp)\n",
    "\n",
    "def mask(df):\n",
    "  df = df.reset_index(drop = True)\n",
    "  df['verb_mask'] = 0\n",
    "  df['A0_mask'] = 0\n",
    "  df['A1_mask'] = 0\n",
    "  df['verb_mask'] = df['verb_mask'].astype('object')\n",
    "  df['A0_mask'] = df['A0_mask'].astype('object')\n",
    "  df['A1_mask'] = df['A1_mask'].astype('object')\n",
    "  for index,row in df.iterrows():\n",
    "\n",
    "    df.at[index,'stock_factors'] = [*map(float,df.loc[index,'stock_factors'])]\n",
    "    AV_num = 0\n",
    "    for k,col in enumerate(['verb','A0','A1']):\n",
    "      masks = []\n",
    "      for j in range(len(row['verbA0A1'])):\n",
    "        mask = np.zeros(299)\n",
    "        idx = []\n",
    "        for v in row['verbA0A1'][j][k]:\n",
    "          \n",
    "          idx = idx + [int(i) for i in range(v[0],v[0]+v[1])]\n",
    "        # idx = np.unique(idx).tolist()\n",
    "        counter = Counter(idx)\n",
    "\n",
    "        mask = [0 if counter[i]== 0 else 1/len(counter) for i in range(0,len(mask))]\n",
    "        mask.insert(0,0)\n",
    "        masks.append(mask)\n",
    "      AV_num = len(masks)\n",
    "      for i in range(10 - len(masks)):\n",
    "        masks.append(np.zeros(300))\n",
    "      while len(masks)>10:\n",
    "        masks.pop()\n",
    "      name = col+'_mask'\n",
    "      df.at[index,name] = np.array(masks)\n",
    "    if AV_num>10:\n",
    "      AV_num=10\n",
    "    df.loc[index,'AV_num'] = int(AV_num)\n",
    "  df.AV_num = df.AV_num.astype('int')\n",
    "  df.stock_factors = df.stock_factors.apply(np.array)\n",
    "  return df"
   ]
  },
  {
   "cell_type": "code",
   "execution_count": 6,
   "metadata": {
    "id": "c4joMCxJKR5a"
   },
   "outputs": [],
   "source": [
    "df_train = pd.read_csv('../data/pre/train.csv',sep='\\t')\n",
    "df_val = pd.read_csv('../data/pre/val.csv',sep='\\t')\n",
    "df_test = pd.read_csv('../data/pre/test.csv',sep='\\t')\n",
    "df_ood = pd.read_csv('../data/pre/ood.csv',sep='\\t')\n",
    "\n",
    "\n",
    "df_train = df_train.drop(df_train.loc[df_train.verbA0A1.isna()].index)\n",
    "df_test = df_test.drop(df_test.loc[df_test.verbA0A1.isna()].index)\n",
    "df_val = df_val.drop(df_val.loc[df_val.verbA0A1.isna()].index)\n",
    "df_ood = df_ood.drop(df_ood.loc[df_ood.verbA0A1.isna()].index)\n",
    "\n",
    "df_train = df_train.drop(df_train.loc[df_train.verbA0A1=='[]'].index)\n",
    "df_test = df_test.drop(df_test.loc[df_test.verbA0A1=='[]'].index)\n",
    "df_val = df_val.drop(df_val.loc[df_val.verbA0A1=='[]'].index)\n",
    "df_ood = df_ood.drop(df_ood.loc[df_ood.verbA0A1=='[]'].index)\n",
    "\n",
    "\n",
    "for col in ['verb','A0','A1']:\n",
    "  df_train[col] = df_train[col].apply(string_to_tuples_list)\n",
    "  df_val[col] = df_val[col].apply(string_to_tuples_list)\n",
    "  df_test[col] = df_test[col].apply(string_to_tuples_list)\n",
    "  df_ood[col] = df_ood[col].apply(string_to_tuples_list)\n",
    "\n",
    "for col in ['stock_factors','verbA0A1']:\n",
    "# for col in ['verbA0A1']:\n",
    "  df_train[col] = df_train[col].apply(ast.literal_eval)\n",
    "  df_val[col] = df_val[col].apply(ast.literal_eval)\n",
    "  df_test[col] = df_test[col].apply(ast.literal_eval)\n",
    "  df_ood[col] = df_ood[col].apply(ast.literal_eval)\n",
    "\n",
    "\n",
    "\n",
    "df_train = mask(df_train)\n",
    "df_test = mask(df_test)\n",
    "df_val = mask(df_val)\n",
    "df_ood = mask(df_ood)"
   ]
  },
  {
   "cell_type": "code",
   "execution_count": 7,
   "metadata": {
    "colab": {
     "base_uri": "https://localhost:8080/",
     "height": 1000
    },
    "executionInfo": {
     "elapsed": 673,
     "status": "ok",
     "timestamp": 1634194989992,
     "user": {
      "displayName": "Nero C",
      "photoUrl": "https://lh3.googleusercontent.com/a-/AOh14GjQRoCAV4q10k-DC7od7DeLQhSUCkvaI26E0x4r=s64",
      "userId": "13659571702895310340"
     },
     "user_tz": -630
    },
    "id": "bnCu_pWRk8Ba",
    "outputId": "3a0e2ecd-dced-4ccf-97b2-69b702b82f43"
   },
   "outputs": [
    {
     "data": {
      "text/html": [
       "<div>\n",
       "<style scoped>\n",
       "    .dataframe tbody tr th:only-of-type {\n",
       "        vertical-align: middle;\n",
       "    }\n",
       "\n",
       "    .dataframe tbody tr th {\n",
       "        vertical-align: top;\n",
       "    }\n",
       "\n",
       "    .dataframe thead th {\n",
       "        text-align: right;\n",
       "    }\n",
       "</style>\n",
       "<table border=\"1\" class=\"dataframe\">\n",
       "  <thead>\n",
       "    <tr style=\"text-align: right;\">\n",
       "      <th></th>\n",
       "      <th>CODE</th>\n",
       "      <th>NAME</th>\n",
       "      <th>DATE</th>\n",
       "      <th>CREATED_DATE</th>\n",
       "      <th>text_a</th>\n",
       "      <th>DESCRIPTION</th>\n",
       "      <th>READ</th>\n",
       "      <th>MARKET</th>\n",
       "      <th>CHANGE</th>\n",
       "      <th>FIRST_DAY</th>\n",
       "      <th>...</th>\n",
       "      <th>verb_mask</th>\n",
       "      <th>A0_mask</th>\n",
       "      <th>A1_mask</th>\n",
       "      <th>AV_num</th>\n",
       "      <th>trade_date</th>\n",
       "      <th>open_close_chg</th>\n",
       "      <th>co_label</th>\n",
       "      <th>cc_label</th>\n",
       "      <th>stock_factors</th>\n",
       "      <th>label</th>\n",
       "    </tr>\n",
       "  </thead>\n",
       "  <tbody>\n",
       "    <tr>\n",
       "      <th>0</th>\n",
       "      <td>600165</td>\n",
       "      <td>新日恒力</td>\n",
       "      <td>2021-01-03 14:07:00</td>\n",
       "      <td>2021-01-03 14:07:00</td>\n",
       "      <td>新日恒力公告，控股子公司宁夏恒力生物新材料有限责任公司建设的5万吨/年月桂二酸项目，截至目前...</td>\n",
       "      <td>新日恒力公告，控股子公司宁夏恒力生物新材料有限责任公司建设的5万吨/年月桂二酸项目，截至目前...</td>\n",
       "      <td>5656545.0</td>\n",
       "      <td>1.0</td>\n",
       "      <td>0.057299</td>\n",
       "      <td>2020-12-31</td>\n",
       "      <td>...</td>\n",
       "      <td>[[0.0, 0.0, 0.0, 0.0, 0.0, 0.0, 0.0, 0.0, 0.0,...</td>\n",
       "      <td>[[0.0, 0.0, 0.0, 0.0, 0.0, 0.0, 0.0, 0.0, 0.05...</td>\n",
       "      <td>[[0.0, 0.0, 0.0, 0.0, 0.0, 0.0, 0.0, 0.0, 0.0,...</td>\n",
       "      <td>3</td>\n",
       "      <td>2020-12-31</td>\n",
       "      <td>3.764881</td>\n",
       "      <td>3.0</td>\n",
       "      <td>4.0</td>\n",
       "      <td>[-0.2940583520796876, -0.2879241038280342, -0....</td>\n",
       "      <td>2</td>\n",
       "    </tr>\n",
       "    <tr>\n",
       "      <th>1</th>\n",
       "      <td>603980</td>\n",
       "      <td>吉华集团</td>\n",
       "      <td>2021-01-03 15:42:00</td>\n",
       "      <td>2021-01-03 14:13:00</td>\n",
       "      <td>吉华集团披露于股东所持公司股份拟被司法拍卖的进展，杭州市中级人民法院于公司于2020年12月...</td>\n",
       "      <td>吉华集团披露于股东所持公司股份拟被司法拍卖的进展，杭州市中级人民法院于公司于2020年12月...</td>\n",
       "      <td>5561922.0</td>\n",
       "      <td>1.0</td>\n",
       "      <td>0.004637</td>\n",
       "      <td>2020-12-31</td>\n",
       "      <td>...</td>\n",
       "      <td>[[0.0, 0.0, 0.0, 0.0, 0.0, 0.5, 0.5, 0.0, 0.0,...</td>\n",
       "      <td>[[0.0, 0.25, 0.25, 0.25, 0.25, 0.0, 0.0, 0.0, ...</td>\n",
       "      <td>[[0.0, 0.0, 0.0, 0.0, 0.0, 0.0, 0.0, 0.0555555...</td>\n",
       "      <td>4</td>\n",
       "      <td>2020-12-31</td>\n",
       "      <td>0.192770</td>\n",
       "      <td>2.0</td>\n",
       "      <td>2.0</td>\n",
       "      <td>[-0.3107922628444556, -0.3125204395801499, -0....</td>\n",
       "      <td>1</td>\n",
       "    </tr>\n",
       "    <tr>\n",
       "      <th>2</th>\n",
       "      <td>2623</td>\n",
       "      <td>亚玛顿</td>\n",
       "      <td>2021-01-03 16:10:00</td>\n",
       "      <td>2021-01-03 16:09:00</td>\n",
       "      <td>亚玛顿公告，公司与晶澳科技签署战略合作协议，拟于2021年1月至2022年12月期间向晶澳科...</td>\n",
       "      <td>亚玛顿公告，公司与晶澳科技签署战略合作协议，拟于2021年1月至2022年12月期间向晶澳科...</td>\n",
       "      <td>5147605.0</td>\n",
       "      <td>0.0</td>\n",
       "      <td>0.090930</td>\n",
       "      <td>2020-12-31</td>\n",
       "      <td>...</td>\n",
       "      <td>[[0.0, 0.0, 0.0, 0.0, 0.0, 0.0, 0.0, 0.0, 0.0,...</td>\n",
       "      <td>[[0.0, 0.0, 0.0, 0.0, 0.0, 0.0, 0.0, 0.5, 0.5,...</td>\n",
       "      <td>[[0.0, 0.0, 0.0, 0.0, 0.0, 0.0, 0.0, 0.0, 0.0,...</td>\n",
       "      <td>2</td>\n",
       "      <td>2020-12-31</td>\n",
       "      <td>6.046046</td>\n",
       "      <td>4.0</td>\n",
       "      <td>4.0</td>\n",
       "      <td>[0.4234596882860056, 0.4565189568188482, 0.432...</td>\n",
       "      <td>2</td>\n",
       "    </tr>\n",
       "    <tr>\n",
       "      <th>3</th>\n",
       "      <td>673</td>\n",
       "      <td>ST当代</td>\n",
       "      <td>2021-01-03 16:23:00</td>\n",
       "      <td>2021-01-03 16:23:00</td>\n",
       "      <td>*ST当代公告，全资子公司盟将威拟将所持有的河北当代100%的股权转让给井冈山市星斗，股权转...</td>\n",
       "      <td>*ST当代公告，全资子公司盟将威拟将所持有的河北当代100%的股权转让给井冈山市星斗，股权转...</td>\n",
       "      <td>5247566.0</td>\n",
       "      <td>0.0</td>\n",
       "      <td>0.048387</td>\n",
       "      <td>2020-12-31</td>\n",
       "      <td>...</td>\n",
       "      <td>[[0.0, 0.0, 0.0, 0.0, 0.0, 0.0, 0.0, 0.0, 0.0,...</td>\n",
       "      <td>[[0.0, 0.0, 0.0, 0.0, 0.0, 0.0, 0.0, 0.0, 0.0,...</td>\n",
       "      <td>[[0.0, 0.0, 0.0, 0.0, 0.0, 0.0, 0.0, 0.0, 0.0,...</td>\n",
       "      <td>3</td>\n",
       "      <td>2020-12-31</td>\n",
       "      <td>3.160409</td>\n",
       "      <td>4.0</td>\n",
       "      <td>4.0</td>\n",
       "      <td>[-0.4152800608936067, -0.4130802726283031, -0....</td>\n",
       "      <td>2</td>\n",
       "    </tr>\n",
       "    <tr>\n",
       "      <th>4</th>\n",
       "      <td>676</td>\n",
       "      <td>智度股份</td>\n",
       "      <td>2021-01-03 16:25:00</td>\n",
       "      <td>2021-01-03 16:25:00</td>\n",
       "      <td>智度股份公告，公司2018年对比特大陆进行了投资，并于2019年完成了对比特大陆联合创始人吴...</td>\n",
       "      <td>智度股份公告，公司2018年对比特大陆进行了投资，并于2019年完成了对比特大陆联合创始人吴...</td>\n",
       "      <td>5602165.0</td>\n",
       "      <td>0.0</td>\n",
       "      <td>0.100601</td>\n",
       "      <td>2020-12-31</td>\n",
       "      <td>...</td>\n",
       "      <td>[[0.0, 0.0, 0.0, 0.0, 0.0, 0.0, 0.0, 0.0, 0.0,...</td>\n",
       "      <td>[[0.0, 0.0, 0.0, 0.0, 0.0, 0.0, 0.0, 0.0, 0.5,...</td>\n",
       "      <td>[[0.0, 0.0, 0.0, 0.0, 0.0, 0.0, 0.0, 0.0, 0.0,...</td>\n",
       "      <td>4</td>\n",
       "      <td>2020-12-31</td>\n",
       "      <td>6.702012</td>\n",
       "      <td>4.0</td>\n",
       "      <td>4.0</td>\n",
       "      <td>[-0.3095943552329049, -0.3064220281475708, -0....</td>\n",
       "      <td>2</td>\n",
       "    </tr>\n",
       "    <tr>\n",
       "      <th>...</th>\n",
       "      <td>...</td>\n",
       "      <td>...</td>\n",
       "      <td>...</td>\n",
       "      <td>...</td>\n",
       "      <td>...</td>\n",
       "      <td>...</td>\n",
       "      <td>...</td>\n",
       "      <td>...</td>\n",
       "      <td>...</td>\n",
       "      <td>...</td>\n",
       "      <td>...</td>\n",
       "      <td>...</td>\n",
       "      <td>...</td>\n",
       "      <td>...</td>\n",
       "      <td>...</td>\n",
       "      <td>...</td>\n",
       "      <td>...</td>\n",
       "      <td>...</td>\n",
       "      <td>...</td>\n",
       "      <td>...</td>\n",
       "      <td>...</td>\n",
       "    </tr>\n",
       "    <tr>\n",
       "      <th>3995</th>\n",
       "      <td>2228</td>\n",
       "      <td>合兴包装</td>\n",
       "      <td>2021-04-20 20:54:00</td>\n",
       "      <td>2021-04-20 20:49:00</td>\n",
       "      <td>合兴包装公告，拟以3000万-6000万元回购股份，价格不超过人民币5.85元/股。本次回购...</td>\n",
       "      <td>合兴包装公告，拟以3000万-6000万元回购股份，价格不超过人民币5.85元/股。本次回购...</td>\n",
       "      <td>3756018.0</td>\n",
       "      <td>0.0</td>\n",
       "      <td>0.005181</td>\n",
       "      <td>2021-04-20</td>\n",
       "      <td>...</td>\n",
       "      <td>[[0.0, 0.0, 0.0, 0.0, 0.0, 0.0, 0.0, 0.0, 1.0,...</td>\n",
       "      <td>[[0.0, 0.16666666666666666, 0.1666666666666666...</td>\n",
       "      <td>[[0.0, 0.0, 0.0, 0.0, 0.0, 0.0, 0.0, 0.0, 0.0,...</td>\n",
       "      <td>2</td>\n",
       "      <td>2021-04-20</td>\n",
       "      <td>0.794254</td>\n",
       "      <td>2.0</td>\n",
       "      <td>2.0</td>\n",
       "      <td>[-0.3583662515082645, -0.3584074864174853, -0....</td>\n",
       "      <td>1</td>\n",
       "    </tr>\n",
       "    <tr>\n",
       "      <th>3996</th>\n",
       "      <td>300098</td>\n",
       "      <td>高新兴</td>\n",
       "      <td>2021-04-20 20:55:00</td>\n",
       "      <td>2021-04-20 20:55:00</td>\n",
       "      <td>高新兴发布2020年年报，净亏损11.03亿元，上年同期净亏损11.57亿元，亏损缩窄；营业...</td>\n",
       "      <td>高新兴发布2020年年报，净亏损11.03亿元，上年同期净亏损11.57亿元，亏损缩窄；营业...</td>\n",
       "      <td>4271262.0</td>\n",
       "      <td>0.0</td>\n",
       "      <td>-0.050633</td>\n",
       "      <td>2021-04-20</td>\n",
       "      <td>...</td>\n",
       "      <td>[[0.0, 0.0, 0.0, 0.0, 0.5, 0.5, 0.0, 0.0, 0.0,...</td>\n",
       "      <td>[[0.0, 0.3333333333333333, 0.3333333333333333,...</td>\n",
       "      <td>[[0.0, 0.0, 0.0, 0.0, 0.0, 0.0, 0.25, 0.25, 0....</td>\n",
       "      <td>1</td>\n",
       "      <td>2021-04-20</td>\n",
       "      <td>-3.673221</td>\n",
       "      <td>1.0</td>\n",
       "      <td>1.0</td>\n",
       "      <td>[-0.3343423916598859, -0.3298298552466036, -0....</td>\n",
       "      <td>0</td>\n",
       "    </tr>\n",
       "    <tr>\n",
       "      <th>3997</th>\n",
       "      <td>300894</td>\n",
       "      <td>火星人</td>\n",
       "      <td>2021-04-20 21:00:00</td>\n",
       "      <td>2021-04-20 20:13:00</td>\n",
       "      <td>火星人发布2020年年报，净利润2.75亿元，同比增长14.79%；营业收入16.14亿元，...</td>\n",
       "      <td>火星人发布2020年年报，净利润2.75亿元，同比增长14.79%；营业收入16.14亿元，...</td>\n",
       "      <td>4162804.0</td>\n",
       "      <td>0.0</td>\n",
       "      <td>-0.023375</td>\n",
       "      <td>2021-04-20</td>\n",
       "      <td>...</td>\n",
       "      <td>[[0.0, 0.0, 0.0, 0.0, 0.5, 0.5, 0.0, 0.0, 0.0,...</td>\n",
       "      <td>[[0.0, 0.3333333333333333, 0.3333333333333333,...</td>\n",
       "      <td>[[0.0, 0.0, 0.0, 0.0, 0.0, 0.0, 0.25, 0.25, 0....</td>\n",
       "      <td>3</td>\n",
       "      <td>2021-04-20</td>\n",
       "      <td>-1.490833</td>\n",
       "      <td>4.0</td>\n",
       "      <td>4.0</td>\n",
       "      <td>[0.5491777817811507, 0.5544345552037303, 0.558...</td>\n",
       "      <td>0</td>\n",
       "    </tr>\n",
       "    <tr>\n",
       "      <th>3998</th>\n",
       "      <td>300471</td>\n",
       "      <td>厚普股份</td>\n",
       "      <td>2021-04-20 21:02:00</td>\n",
       "      <td>2021-04-20 20:59:00</td>\n",
       "      <td>厚普股份公告，与成都市新都区人民政府签订投资协议书，投资项目名称为厚普国际氢能产业集群项目，...</td>\n",
       "      <td>厚普股份公告，与成都市新都区人民政府签订投资协议书，投资项目名称为厚普国际氢能产业集群项目，...</td>\n",
       "      <td>4236996.0</td>\n",
       "      <td>0.0</td>\n",
       "      <td>0.098754</td>\n",
       "      <td>2021-04-20</td>\n",
       "      <td>...</td>\n",
       "      <td>[[0.0, 0.0, 0.0, 0.0, 0.0, 0.0, 0.0, 0.0, 0.0,...</td>\n",
       "      <td>[[0.0, 0.0, 0.0, 0.0, 0.0, 0.0, 0.0, 0.0, 0.0,...</td>\n",
       "      <td>[[0.0, 0.0, 0.0, 0.0, 0.0, 0.0, 0.0, 0.0, 0.0,...</td>\n",
       "      <td>3</td>\n",
       "      <td>2021-04-20</td>\n",
       "      <td>8.287270</td>\n",
       "      <td>0.0</td>\n",
       "      <td>0.0</td>\n",
       "      <td>[-0.2058704897888393, -0.2109280350820784, -0....</td>\n",
       "      <td>2</td>\n",
       "    </tr>\n",
       "    <tr>\n",
       "      <th>3999</th>\n",
       "      <td>300253</td>\n",
       "      <td>卫宁健康</td>\n",
       "      <td>2021-04-20 21:11:00</td>\n",
       "      <td>2021-04-20 21:11:00</td>\n",
       "      <td>卫宁健康公告，公司2020年度实现总营收22.67亿元，同比增长18.79%，归属于上市公司...</td>\n",
       "      <td>卫宁健康公告，公司2020年度实现总营收22.67亿元，同比增长18.79%，归属于上市公司...</td>\n",
       "      <td>4320054.0</td>\n",
       "      <td>0.0</td>\n",
       "      <td>0.000000</td>\n",
       "      <td>2021-04-20</td>\n",
       "      <td>...</td>\n",
       "      <td>[[0.0, 0.0, 0.0, 0.0, 0.0, 0.0, 0.0, 0.0, 0.0,...</td>\n",
       "      <td>[[0.0, 0.0, 0.0, 0.0, 0.0, 0.0, 0.0, 0.0, 0.5,...</td>\n",
       "      <td>[[0.0, 0.0, 0.0, 0.0, 0.0, 0.0, 0.0, 0.0, 0.0,...</td>\n",
       "      <td>1</td>\n",
       "      <td>2021-04-20</td>\n",
       "      <td>0.380632</td>\n",
       "      <td>1.0</td>\n",
       "      <td>2.0</td>\n",
       "      <td>[-0.0915189230783941, -0.0978720650365083, -0....</td>\n",
       "      <td>1</td>\n",
       "    </tr>\n",
       "  </tbody>\n",
       "</table>\n",
       "<p>4000 rows × 41 columns</p>\n",
       "</div>"
      ],
      "text/plain": [
       "        CODE  NAME                 DATE         CREATED_DATE  \\\n",
       "0     600165  新日恒力  2021-01-03 14:07:00  2021-01-03 14:07:00   \n",
       "1     603980  吉华集团  2021-01-03 15:42:00  2021-01-03 14:13:00   \n",
       "2       2623   亚玛顿  2021-01-03 16:10:00  2021-01-03 16:09:00   \n",
       "3        673  ST当代  2021-01-03 16:23:00  2021-01-03 16:23:00   \n",
       "4        676  智度股份  2021-01-03 16:25:00  2021-01-03 16:25:00   \n",
       "...      ...   ...                  ...                  ...   \n",
       "3995    2228  合兴包装  2021-04-20 20:54:00  2021-04-20 20:49:00   \n",
       "3996  300098   高新兴  2021-04-20 20:55:00  2021-04-20 20:55:00   \n",
       "3997  300894   火星人  2021-04-20 21:00:00  2021-04-20 20:13:00   \n",
       "3998  300471  厚普股份  2021-04-20 21:02:00  2021-04-20 20:59:00   \n",
       "3999  300253  卫宁健康  2021-04-20 21:11:00  2021-04-20 21:11:00   \n",
       "\n",
       "                                                 text_a  \\\n",
       "0     新日恒力公告，控股子公司宁夏恒力生物新材料有限责任公司建设的5万吨/年月桂二酸项目，截至目前...   \n",
       "1     吉华集团披露于股东所持公司股份拟被司法拍卖的进展，杭州市中级人民法院于公司于2020年12月...   \n",
       "2     亚玛顿公告，公司与晶澳科技签署战略合作协议，拟于2021年1月至2022年12月期间向晶澳科...   \n",
       "3     *ST当代公告，全资子公司盟将威拟将所持有的河北当代100%的股权转让给井冈山市星斗，股权转...   \n",
       "4     智度股份公告，公司2018年对比特大陆进行了投资，并于2019年完成了对比特大陆联合创始人吴...   \n",
       "...                                                 ...   \n",
       "3995  合兴包装公告，拟以3000万-6000万元回购股份，价格不超过人民币5.85元/股。本次回购...   \n",
       "3996  高新兴发布2020年年报，净亏损11.03亿元，上年同期净亏损11.57亿元，亏损缩窄；营业...   \n",
       "3997  火星人发布2020年年报，净利润2.75亿元，同比增长14.79%；营业收入16.14亿元，...   \n",
       "3998  厚普股份公告，与成都市新都区人民政府签订投资协议书，投资项目名称为厚普国际氢能产业集群项目，...   \n",
       "3999  卫宁健康公告，公司2020年度实现总营收22.67亿元，同比增长18.79%，归属于上市公司...   \n",
       "\n",
       "                                            DESCRIPTION       READ  MARKET  \\\n",
       "0     新日恒力公告，控股子公司宁夏恒力生物新材料有限责任公司建设的5万吨/年月桂二酸项目，截至目前...  5656545.0     1.0   \n",
       "1     吉华集团披露于股东所持公司股份拟被司法拍卖的进展，杭州市中级人民法院于公司于2020年12月...  5561922.0     1.0   \n",
       "2     亚玛顿公告，公司与晶澳科技签署战略合作协议，拟于2021年1月至2022年12月期间向晶澳科...  5147605.0     0.0   \n",
       "3     *ST当代公告，全资子公司盟将威拟将所持有的河北当代100%的股权转让给井冈山市星斗，股权转...  5247566.0     0.0   \n",
       "4     智度股份公告，公司2018年对比特大陆进行了投资，并于2019年完成了对比特大陆联合创始人吴...  5602165.0     0.0   \n",
       "...                                                 ...        ...     ...   \n",
       "3995  合兴包装公告，拟以3000万-6000万元回购股份，价格不超过人民币5.85元/股。本次回购...  3756018.0     0.0   \n",
       "3996  高新兴发布2020年年报，净亏损11.03亿元，上年同期净亏损11.57亿元，亏损缩窄；营业...  4271262.0     0.0   \n",
       "3997  火星人发布2020年年报，净利润2.75亿元，同比增长14.79%；营业收入16.14亿元，...  4162804.0     0.0   \n",
       "3998  厚普股份公告，与成都市新都区人民政府签订投资协议书，投资项目名称为厚普国际氢能产业集群项目，...  4236996.0     0.0   \n",
       "3999  卫宁健康公告，公司2020年度实现总营收22.67亿元，同比增长18.79%，归属于上市公司...  4320054.0     0.0   \n",
       "\n",
       "        CHANGE   FIRST_DAY  ...  \\\n",
       "0     0.057299  2020-12-31  ...   \n",
       "1     0.004637  2020-12-31  ...   \n",
       "2     0.090930  2020-12-31  ...   \n",
       "3     0.048387  2020-12-31  ...   \n",
       "4     0.100601  2020-12-31  ...   \n",
       "...        ...         ...  ...   \n",
       "3995  0.005181  2021-04-20  ...   \n",
       "3996 -0.050633  2021-04-20  ...   \n",
       "3997 -0.023375  2021-04-20  ...   \n",
       "3998  0.098754  2021-04-20  ...   \n",
       "3999  0.000000  2021-04-20  ...   \n",
       "\n",
       "                                              verb_mask  \\\n",
       "0     [[0.0, 0.0, 0.0, 0.0, 0.0, 0.0, 0.0, 0.0, 0.0,...   \n",
       "1     [[0.0, 0.0, 0.0, 0.0, 0.0, 0.5, 0.5, 0.0, 0.0,...   \n",
       "2     [[0.0, 0.0, 0.0, 0.0, 0.0, 0.0, 0.0, 0.0, 0.0,...   \n",
       "3     [[0.0, 0.0, 0.0, 0.0, 0.0, 0.0, 0.0, 0.0, 0.0,...   \n",
       "4     [[0.0, 0.0, 0.0, 0.0, 0.0, 0.0, 0.0, 0.0, 0.0,...   \n",
       "...                                                 ...   \n",
       "3995  [[0.0, 0.0, 0.0, 0.0, 0.0, 0.0, 0.0, 0.0, 1.0,...   \n",
       "3996  [[0.0, 0.0, 0.0, 0.0, 0.5, 0.5, 0.0, 0.0, 0.0,...   \n",
       "3997  [[0.0, 0.0, 0.0, 0.0, 0.5, 0.5, 0.0, 0.0, 0.0,...   \n",
       "3998  [[0.0, 0.0, 0.0, 0.0, 0.0, 0.0, 0.0, 0.0, 0.0,...   \n",
       "3999  [[0.0, 0.0, 0.0, 0.0, 0.0, 0.0, 0.0, 0.0, 0.0,...   \n",
       "\n",
       "                                                A0_mask  \\\n",
       "0     [[0.0, 0.0, 0.0, 0.0, 0.0, 0.0, 0.0, 0.0, 0.05...   \n",
       "1     [[0.0, 0.25, 0.25, 0.25, 0.25, 0.0, 0.0, 0.0, ...   \n",
       "2     [[0.0, 0.0, 0.0, 0.0, 0.0, 0.0, 0.0, 0.5, 0.5,...   \n",
       "3     [[0.0, 0.0, 0.0, 0.0, 0.0, 0.0, 0.0, 0.0, 0.0,...   \n",
       "4     [[0.0, 0.0, 0.0, 0.0, 0.0, 0.0, 0.0, 0.0, 0.5,...   \n",
       "...                                                 ...   \n",
       "3995  [[0.0, 0.16666666666666666, 0.1666666666666666...   \n",
       "3996  [[0.0, 0.3333333333333333, 0.3333333333333333,...   \n",
       "3997  [[0.0, 0.3333333333333333, 0.3333333333333333,...   \n",
       "3998  [[0.0, 0.0, 0.0, 0.0, 0.0, 0.0, 0.0, 0.0, 0.0,...   \n",
       "3999  [[0.0, 0.0, 0.0, 0.0, 0.0, 0.0, 0.0, 0.0, 0.5,...   \n",
       "\n",
       "                                                A1_mask  AV_num  trade_date  \\\n",
       "0     [[0.0, 0.0, 0.0, 0.0, 0.0, 0.0, 0.0, 0.0, 0.0,...       3  2020-12-31   \n",
       "1     [[0.0, 0.0, 0.0, 0.0, 0.0, 0.0, 0.0, 0.0555555...       4  2020-12-31   \n",
       "2     [[0.0, 0.0, 0.0, 0.0, 0.0, 0.0, 0.0, 0.0, 0.0,...       2  2020-12-31   \n",
       "3     [[0.0, 0.0, 0.0, 0.0, 0.0, 0.0, 0.0, 0.0, 0.0,...       3  2020-12-31   \n",
       "4     [[0.0, 0.0, 0.0, 0.0, 0.0, 0.0, 0.0, 0.0, 0.0,...       4  2020-12-31   \n",
       "...                                                 ...     ...         ...   \n",
       "3995  [[0.0, 0.0, 0.0, 0.0, 0.0, 0.0, 0.0, 0.0, 0.0,...       2  2021-04-20   \n",
       "3996  [[0.0, 0.0, 0.0, 0.0, 0.0, 0.0, 0.25, 0.25, 0....       1  2021-04-20   \n",
       "3997  [[0.0, 0.0, 0.0, 0.0, 0.0, 0.0, 0.25, 0.25, 0....       3  2021-04-20   \n",
       "3998  [[0.0, 0.0, 0.0, 0.0, 0.0, 0.0, 0.0, 0.0, 0.0,...       3  2021-04-20   \n",
       "3999  [[0.0, 0.0, 0.0, 0.0, 0.0, 0.0, 0.0, 0.0, 0.0,...       1  2021-04-20   \n",
       "\n",
       "      open_close_chg  co_label cc_label  \\\n",
       "0           3.764881       3.0      4.0   \n",
       "1           0.192770       2.0      2.0   \n",
       "2           6.046046       4.0      4.0   \n",
       "3           3.160409       4.0      4.0   \n",
       "4           6.702012       4.0      4.0   \n",
       "...              ...       ...      ...   \n",
       "3995        0.794254       2.0      2.0   \n",
       "3996       -3.673221       1.0      1.0   \n",
       "3997       -1.490833       4.0      4.0   \n",
       "3998        8.287270       0.0      0.0   \n",
       "3999        0.380632       1.0      2.0   \n",
       "\n",
       "                                          stock_factors  label  \n",
       "0     [-0.2940583520796876, -0.2879241038280342, -0....      2  \n",
       "1     [-0.3107922628444556, -0.3125204395801499, -0....      1  \n",
       "2     [0.4234596882860056, 0.4565189568188482, 0.432...      2  \n",
       "3     [-0.4152800608936067, -0.4130802726283031, -0....      2  \n",
       "4     [-0.3095943552329049, -0.3064220281475708, -0....      2  \n",
       "...                                                 ...    ...  \n",
       "3995  [-0.3583662515082645, -0.3584074864174853, -0....      1  \n",
       "3996  [-0.3343423916598859, -0.3298298552466036, -0....      0  \n",
       "3997  [0.5491777817811507, 0.5544345552037303, 0.558...      0  \n",
       "3998  [-0.2058704897888393, -0.2109280350820784, -0....      2  \n",
       "3999  [-0.0915189230783941, -0.0978720650365083, -0....      1  \n",
       "\n",
       "[4000 rows x 41 columns]"
      ]
     },
     "execution_count": 7,
     "metadata": {},
     "output_type": "execute_result"
    }
   ],
   "source": [
    "df_ood = df_ood.sort_values(by='DATE')\n",
    "df_ood = df_ood.reset_index(drop=True)\n",
    "df_ood[:4000]"
   ]
  },
  {
   "cell_type": "code",
   "execution_count": 8,
   "metadata": {
    "id": "xYTC1elyHlS7"
   },
   "outputs": [],
   "source": [
    "# from ltp import LTP\n",
    "# ltp = LTP()\n",
    "# a = tokenizer.tokenize(df_train.loc[4,'text_a'])\n",
    "# for idx,i in enumerate(df_train.verb_mask[4][2]):\n",
    "#   if i != 0:\n",
    "#     print(a[idx-1])\n",
    "# seg,hidden = ltp.seg([df_train.loc[4,'text_a']])\n",
    "# srl = ltp.srl(hidden)\n",
    "# def list_to_string(a):\n",
    "#   return ''.join(a)\n",
    "# for i,s in enumerate(srl[0]):\n",
    "#   if len(s)!=0:\n",
    "#     print(f'verb: {seg[0][i]} arv: ({[[ar[0], list_to_string([str(seg[0][k]) for k in range(ar[1],ar[2]+1)])] for ar in srl[0][i]]})')"
   ]
  },
  {
   "cell_type": "code",
   "execution_count": 9,
   "metadata": {
    "id": "AmtpSQB2PTkC"
   },
   "outputs": [],
   "source": [
    "# df_train.shape, df_val.shape, df_test.shape"
   ]
  },
  {
   "cell_type": "markdown",
   "metadata": {
    "id": "ajOfqpcWRBt9"
   },
   "source": [
    "## Creat Dataloader"
   ]
  },
  {
   "cell_type": "code",
   "execution_count": null,
   "metadata": {
    "id": "ch_klsfERBI6"
   },
   "outputs": [],
   "source": []
  },
  {
   "cell_type": "code",
   "execution_count": 10,
   "metadata": {
    "id": "WaKd7JaTy2gw"
   },
   "outputs": [],
   "source": [
    "max_len = 300\n",
    "class_names = ['negative','neutral', 'positive']\n",
    "class GPReviewDataset(Dataset):\n",
    "\n",
    "  def __init__(self, reviews, targets,verb,A0,A1,AV_num,tokenizer,stock_factors, max_len):\n",
    "    self.reviews = reviews\n",
    "    self.targets = targets\n",
    "    self.stock_factors = stock_factors\n",
    "    self.verb = verb\n",
    "    self.A0 = A0\n",
    "    self.A1 = A1\n",
    "    self.AV_num = AV_num\n",
    "    self.tokenizer = tokenizer\n",
    "    self.max_len = max_len\n",
    "  \n",
    "  def __len__(self):\n",
    "    return len(self.reviews)\n",
    "  \n",
    "  def __getitem__(self, item):\n",
    "    review = str(self.reviews[item])\n",
    "    target = self.targets[item]\n",
    "    stock_factors = self.stock_factors[item]\n",
    "    v = self.verb[item]\n",
    "    a0 = self.A0[item]\n",
    "    a1 = self.A1[item]\n",
    "    av_num = self.AV_num[item]\n",
    "\n",
    "    encoding = self.tokenizer.encode_plus(\n",
    "      review,\n",
    "      add_special_tokens=True,\n",
    "      max_length=self.max_len,\n",
    "      return_token_type_ids=False,\n",
    "      padding='max_length',\n",
    "      truncation=True,\n",
    "      return_attention_mask=True,\n",
    "      return_tensors='pt',\n",
    "    )\n",
    "\n",
    "    return {\n",
    "      'review_text': review,\n",
    "      'input_ids': encoding['input_ids'].flatten(),\n",
    "      'attention_mask': encoding['attention_mask'].flatten(),\n",
    "      'targets': torch.tensor(target, dtype=torch.long),\n",
    "      'stock_factors':torch.tensor(stock_factors),\n",
    "      'verb': torch.tensor(v),\n",
    "      'A0': torch.tensor(a0),\n",
    "      'A1': torch.tensor(a1),\n",
    "      'AV_num': torch.tensor(av_num)\n",
    "    }"
   ]
  },
  {
   "cell_type": "code",
   "execution_count": 11,
   "metadata": {
    "id": "cPZSIigpPtEr"
   },
   "outputs": [],
   "source": [
    "def create_data_loader(df, tokenizer, max_len, batch_size):\n",
    "  ds = GPReviewDataset(\n",
    "    reviews=df.text_a.to_numpy(),\n",
    "    targets=df.label.to_numpy(),\n",
    "    stock_factors = df.stock_factors,\n",
    "    verb = df.verb_mask,\n",
    "    A0 = df.A0_mask,\n",
    "    A1 = df.A1_mask,\n",
    "    AV_num = df.AV_num,\n",
    "    tokenizer=tokenizer,\n",
    "    max_len=max_len\n",
    "  )\n",
    "\n",
    "  return DataLoader(\n",
    "    ds,\n",
    "    batch_size=batch_size,\n",
    "    # num_workers=4,\n",
    "    shuffle=True\n",
    "  )"
   ]
  },
  {
   "cell_type": "code",
   "execution_count": 12,
   "metadata": {},
   "outputs": [],
   "source": [
    "BATCH_SIZE = 16\n"
   ]
  },
  {
   "cell_type": "code",
   "execution_count": 13,
   "metadata": {
    "id": "4bMEUzcABFvn"
   },
   "outputs": [],
   "source": [
    "\n",
    "\n",
    "df_train = df_train.reset_index(drop=True)\n",
    "df_test = df_test.reset_index(drop=True)\n",
    "df_val = df_val.reset_index(drop=True)\n",
    "df_ood = df_ood.reset_index(drop=True)\n",
    "\n",
    "\n",
    "\n",
    "train_data_loader = create_data_loader(df_train, tokenizer, max_len, BATCH_SIZE)\n",
    "val_data_loader = create_data_loader(df_val, tokenizer, max_len, BATCH_SIZE)\n",
    "test_data_loader = create_data_loader(df_test, tokenizer, max_len, BATCH_SIZE)\n",
    "ood_data_loader = create_data_loader(df_ood, tokenizer, max_len, BATCH_SIZE)"
   ]
  },
  {
   "cell_type": "code",
   "execution_count": 14,
   "metadata": {
    "colab": {
     "base_uri": "https://localhost:8080/"
    },
    "executionInfo": {
     "elapsed": 26,
     "status": "ok",
     "timestamp": 1634194989997,
     "user": {
      "displayName": "Nero C",
      "photoUrl": "https://lh3.googleusercontent.com/a-/AOh14GjQRoCAV4q10k-DC7od7DeLQhSUCkvaI26E0x4r=s64",
      "userId": "13659571702895310340"
     },
     "user_tz": -630
    },
    "id": "vDjd-DrAUt-d",
    "outputId": "674d43cf-a7d6-4e5d-ebc2-bc8f72108a25"
   },
   "outputs": [
    {
     "data": {
      "text/plain": [
       "dict_keys(['review_text', 'input_ids', 'attention_mask', 'targets', 'stock_factors', 'verb', 'A0', 'A1', 'AV_num'])"
      ]
     },
     "execution_count": 14,
     "metadata": {},
     "output_type": "execute_result"
    }
   ],
   "source": [
    "data = next(iter(train_data_loader))\n",
    "data.keys()"
   ]
  },
  {
   "cell_type": "code",
   "execution_count": 15,
   "metadata": {
    "colab": {
     "base_uri": "https://localhost:8080/"
    },
    "executionInfo": {
     "elapsed": 1702,
     "status": "ok",
     "timestamp": 1634194991680,
     "user": {
      "displayName": "Nero C",
      "photoUrl": "https://lh3.googleusercontent.com/a-/AOh14GjQRoCAV4q10k-DC7od7DeLQhSUCkvaI26E0x4r=s64",
      "userId": "13659571702895310340"
     },
     "user_tz": -630
    },
    "id": "bidtjT6UEKkk",
    "outputId": "36398da4-f9b6-495d-c293-1935f7f71eea"
   },
   "outputs": [
    {
     "name": "stderr",
     "output_type": "stream",
     "text": [
      "Some weights of the model checkpoint at /home/bit/stock/model/pretrained-bert/ROBERT_4_model.bin were not used when initializing BertModel: ['cls.predictions.decoder.bias', 'cls.predictions.transform.LayerNorm.weight', 'cls.predictions.transform.LayerNorm.bias', 'cls.predictions.transform.dense.weight', 'cls.predictions.transform.dense.bias', 'cls.predictions.bias', 'cls.predictions.decoder.weight']\n",
      "- This IS expected if you are initializing BertModel from the checkpoint of a model trained on another task or with another architecture (e.g. initializing a BertForSequenceClassification model from a BertForPreTraining model).\n",
      "- This IS NOT expected if you are initializing BertModel from the checkpoint of a model that you expect to be exactly identical (initializing a BertForSequenceClassification model from a BertForSequenceClassification model).\n",
      "Some weights of BertModel were not initialized from the model checkpoint at /home/bit/stock/model/pretrained-bert/ROBERT_4_model.bin and are newly initialized: ['bert.pooler.dense.bias', 'bert.pooler.dense.weight']\n",
      "You should probably TRAIN this model on a down-stream task to be able to use it for predictions and inference.\n"
     ]
    }
   ],
   "source": [
    "bert_model = BertModel.from_pretrained(PRE_TRAINED_MODEL_NAME)"
   ]
  },
  {
   "cell_type": "code",
   "execution_count": 16,
   "metadata": {
    "id": "hsRtLnPlWulS"
   },
   "outputs": [],
   "source": [
    "class SentimentClassifier(nn.Module):\n",
    "\n",
    "  def __init__(self, n_classes):\n",
    "    super(SentimentClassifier, self).__init__()\n",
    "    self.bert = BertModel.from_pretrained(PRE_TRAINED_MODEL_NAME)\n",
    "    self.encoder_layer =  nn.TransformerEncoderLayer(d_model=2304, nhead=1)\n",
    "    self.transformer_encoder = nn.TransformerEncoder(self.encoder_layer, num_layers=2)\n",
    "    self.drop = nn.Dropout(p=0.1)\n",
    "    self.out1 = nn.Linear((self.bert.config.hidden_size*3)*10, (self.bert.config.hidden_size*3)*3)\n",
    "    self.out = nn.Linear((self.bert.config.hidden_size*3)*3, n_classes)\n",
    "    self.avgpool = nn.AvgPool2d((3,2), stride=2)\n",
    "    self.flatten2 = nn.Flatten(2,-1)\n",
    "    self.flatten = nn.Flatten(1,-1)\n",
    "    self.sig = nn.Sigmoid()\n",
    "    self.relu = nn.ReLU()\n",
    "    self.Querry = nn.Linear(self.bert.config.hidden_size,self.bert.config.hidden_size)\n",
    "    self.Key = nn.Linear(self.bert.config.hidden_size,self.bert.config.hidden_size)\n",
    "    # self.Self_supervised = nn.Linear(self.bert.config.hidden_size,self.bert.config.hidden_size)\n",
    "  \n",
    "  def forward(self, input_ids, attention_mask,verb,A0,A1,AV_num):\n",
    "    #get bert embedding \n",
    "    hidden_state = self.bert(\n",
    "      input_ids=input_ids,\n",
    "      attention_mask=attention_mask\n",
    "    )[0]\n",
    "    batch = hidden_state.shape[0]\n",
    "    A1_tmp = A1.clone()\n",
    "\n",
    "    #mask verb\n",
    "    AV_idx = []\n",
    "    for idx,num in enumerate(AV_num):\n",
    "      self_label = torch.randint(0,num,(1,))[0]\n",
    "      AV_idx.append(self_label)\n",
    "      A1_tmp[idx,self_label,:]=0\n",
    "\n",
    "    #verb label\n",
    "    AV_idx = torch.tensor(AV_idx).to(device)\n",
    "\n",
    "    A1_mask = torch.unsqueeze(A1,3)\n",
    "    A1_mask = torch.cat(768 * [A1_mask],3)\n",
    "    A1_mask = torch.mean(A1_mask*torch.unsqueeze(hidden_state,1),2,True)\n",
    "\n",
    "    K = self.Key(torch.squeeze(A1_mask.float()))\n",
    "    \n",
    "    # get verb embedding after masking(8*10*1*768)\n",
    "    \n",
    "    V_mask = torch.unsqueeze(verb,3)\n",
    "    V_mask = torch.cat(768 * [V_mask],3)\n",
    "    V_mask = torch.mean(V_mask*torch.unsqueeze(hidden_state,1),2,True)\n",
    "    transformer_input = V_mask\n",
    "\n",
    "    #get A0 embedding(8*10*2*768)\n",
    "    A0_mask = torch.unsqueeze(A0,3)\n",
    "    A0_mask = torch.cat(768 * [A0_mask],3)\n",
    "    A0_mask = torch.mean(A0_mask*torch.unsqueeze(hidden_state,1),2,True)\n",
    "    transformer_input = torch.cat([transformer_input,A0_mask],2)\n",
    "\n",
    "    #get A1 embedding(8*10*3*768)\n",
    "    A1_mask_mask = torch.unsqueeze(A1_tmp,3)\n",
    "    A1_mask_mask = torch.cat(768 * [A1_mask_mask],3)\n",
    "    A1_mask_mask = torch.mean(A1_mask_mask*torch.unsqueeze(hidden_state,1),2,True)\n",
    "    transformer_input = torch.cat([transformer_input,A1_mask_mask],2)\n",
    "\n",
    "    #get transformer input(8*10*2304)\n",
    "    transformer_input = self.flatten2(transformer_input.float())\n",
    "\n",
    "    #turn to (10*8*2304)\n",
    "    transformer_input = torch.stack([transformer_input[:,i,:] for i in range(0,len(verb[0]))])\n",
    "\n",
    "    #get transformer output(10*8*2304)\n",
    "    transformer_output = self.transformer_encoder(transformer_input)\n",
    "\n",
    "    #turn to (8*10*2304)\n",
    "    transformer_output = torch.stack([torch.squeeze(transformer_output[:,i,:]) for i in range(0,batch)])\n",
    "    transformer_output = torch.squeeze(transformer_output)\n",
    "\n",
    "    #turn to (8*10*2304)\n",
    "    self_pred = torch.zeros((batch,10))\n",
    "    if transformer_output.dim()==2:\n",
    "      transformer_output = torch.unsqueeze(transformer_output,0)\n",
    "\n",
    "    #Q For CL\n",
    "    for idx,i in enumerate(AV_idx):\n",
    "      Q = torch.unsqueeze(self.Querry(transformer_output[idx,i,1536:]),0)\n",
    "      self_pred[idx]=(Q @ K[idx].T)\n",
    "\n",
    "    #get transformer input for classification(8*10*3*768)\n",
    "    transformer_input = torch.cat([V_mask,A0_mask,A1_mask],2)\n",
    "    #get transformer input(8*10*2304)\n",
    "\n",
    "    transformer_input = self.flatten2(transformer_input.float())\n",
    "\n",
    "    #get transformer output(10*8*2304)\n",
    "    transformer_input = torch.stack([transformer_input[:,i,:] for i in range(0,len(verb[0]))])\n",
    "    transformer_output = self.transformer_encoder(transformer_input)\n",
    "\n",
    "    #turn to (8*10*2304)\n",
    "    transformer_output = torch.stack([torch.squeeze(transformer_output[:,i,:]) for i in range(0,batch)])\n",
    "    transformer_output = torch.squeeze(transformer_output)\n",
    "\n",
    "    # handle exception\n",
    "    if transformer_output.dim()==2:\n",
    "      transformer_output = torch.unsqueeze(transformer_output,0)\n",
    "\n",
    "    output = self.flatten(transformer_output.float())\n",
    "    output = self.sig(output)\n",
    "#     output = self.drop(output)\n",
    "    output = self.out1(output)\n",
    "    output = self.sig(output)\n",
    "    output = self.drop(output)\n",
    "    output = self.out(output)\n",
    "\n",
    "    return output,self_pred,AV_idx\n"
   ]
  },
  {
   "cell_type": "code",
   "execution_count": 17,
   "metadata": {
    "colab": {
     "base_uri": "https://localhost:8080/"
    },
    "executionInfo": {
     "elapsed": 5657,
     "status": "ok",
     "timestamp": 1634194997335,
     "user": {
      "displayName": "Nero C",
      "photoUrl": "https://lh3.googleusercontent.com/a-/AOh14GjQRoCAV4q10k-DC7od7DeLQhSUCkvaI26E0x4r=s64",
      "userId": "13659571702895310340"
     },
     "user_tz": -630
    },
    "id": "KQEOV2pfYBPs",
    "outputId": "215b9b5c-7356-4e61-e001-61f5dbb29660"
   },
   "outputs": [
    {
     "name": "stderr",
     "output_type": "stream",
     "text": [
      "Some weights of the model checkpoint at /home/bit/stock/model/pretrained-bert/ROBERT_4_model.bin were not used when initializing BertModel: ['cls.predictions.decoder.bias', 'cls.predictions.transform.LayerNorm.weight', 'cls.predictions.transform.LayerNorm.bias', 'cls.predictions.transform.dense.weight', 'cls.predictions.transform.dense.bias', 'cls.predictions.bias', 'cls.predictions.decoder.weight']\n",
      "- This IS expected if you are initializing BertModel from the checkpoint of a model trained on another task or with another architecture (e.g. initializing a BertForSequenceClassification model from a BertForPreTraining model).\n",
      "- This IS NOT expected if you are initializing BertModel from the checkpoint of a model that you expect to be exactly identical (initializing a BertForSequenceClassification model from a BertForSequenceClassification model).\n",
      "Some weights of BertModel were not initialized from the model checkpoint at /home/bit/stock/model/pretrained-bert/ROBERT_4_model.bin and are newly initialized: ['bert.pooler.dense.bias', 'bert.pooler.dense.weight']\n",
      "You should probably TRAIN this model on a down-stream task to be able to use it for predictions and inference.\n"
     ]
    }
   ],
   "source": [
    "model = SentimentClassifier(3)\n",
    "model = model.to(device)"
   ]
  },
  {
   "cell_type": "code",
   "execution_count": null,
   "metadata": {
    "id": "IfJO5a0NGPf_"
   },
   "outputs": [],
   "source": []
  },
  {
   "cell_type": "code",
   "execution_count": 18,
   "metadata": {
    "colab": {
     "base_uri": "https://localhost:8080/"
    },
    "executionInfo": {
     "elapsed": 42,
     "status": "ok",
     "timestamp": 1634194997338,
     "user": {
      "displayName": "Nero C",
      "photoUrl": "https://lh3.googleusercontent.com/a-/AOh14GjQRoCAV4q10k-DC7od7DeLQhSUCkvaI26E0x4r=s64",
      "userId": "13659571702895310340"
     },
     "user_tz": -630
    },
    "id": "uLl-umJKYGtB",
    "outputId": "30fb9ea3-81b2-4371-a0c7-198c44fe1759"
   },
   "outputs": [],
   "source": [
    "# input_ids = data['input_ids'].to(device)\n",
    "# attention_mask = data['attention_mask'].to(device)\n",
    "# verbs = data['verb'].to(device)\n",
    "# A0s = data['A0'].to(device)\n",
    "# A1s = data['A1'].to(device)\n",
    "# AV_num = data['AV_num'].to(device)\n",
    "# print(input_ids.shape) # batch size x seq length\n",
    "# print(attention_mask.shape) # batch size x seq length"
   ]
  },
  {
   "cell_type": "code",
   "execution_count": 19,
   "metadata": {
    "colab": {
     "base_uri": "https://localhost:8080/"
    },
    "executionInfo": {
     "elapsed": 32,
     "status": "ok",
     "timestamp": 1634194997338,
     "user": {
      "displayName": "Nero C",
      "photoUrl": "https://lh3.googleusercontent.com/a-/AOh14GjQRoCAV4q10k-DC7od7DeLQhSUCkvaI26E0x4r=s64",
      "userId": "13659571702895310340"
     },
     "user_tz": -630
    },
    "id": "VX0A_axjYJfP",
    "outputId": "599623bc-5aec-47ba-b3fd-ba2396412792"
   },
   "outputs": [],
   "source": [
    "# F.softmax(model(input_ids, attention_mask,verb = verbs,A0 = A0s,A1 =A1s,AV_num = AV_num)[0], dim=1)"
   ]
  },
  {
   "cell_type": "code",
   "execution_count": null,
   "metadata": {
    "id": "82irQeXrOfWI"
   },
   "outputs": [],
   "source": []
  },
  {
   "cell_type": "code",
   "execution_count": 20,
   "metadata": {
    "id": "4q2fUr9TYMxW"
   },
   "outputs": [],
   "source": [
    "EPOCHS = 10\n",
    "\n",
    "optimizer = AdamW(model.parameters(), lr=1e-5, correct_bias=False)\n",
    "total_steps = len(train_data_loader) * EPOCHS\n",
    "\n",
    "scheduler = get_linear_schedule_with_warmup(\n",
    "  optimizer,\n",
    "  num_warmup_steps=0,\n",
    "  num_training_steps=total_steps\n",
    ")\n",
    "\n",
    "loss_fn = nn.CrossEntropyLoss().to(device)"
   ]
  },
  {
   "cell_type": "markdown",
   "metadata": {
    "id": "OYA1f6t3f2ex"
   },
   "source": []
  },
  {
   "cell_type": "code",
   "execution_count": 21,
   "metadata": {
    "id": "oLLFWDvDYeeS"
   },
   "outputs": [],
   "source": [
    "def train_epoch(\n",
    "  model, \n",
    "  data_loader, \n",
    "  loss_fn, \n",
    "  optimizer, \n",
    "  device, \n",
    "  scheduler, \n",
    "  n_examples\n",
    "):\n",
    "  model = model.train()\n",
    "\n",
    "  losses = []\n",
    "  correct_predictions = 0\n",
    "  correct_predictions_verbs = 0\n",
    "\n",
    "  for d in data_loader:\n",
    "    input_ids = d[\"input_ids\"].to(device)\n",
    "    attention_mask = d[\"attention_mask\"].to(device)\n",
    "    targets = d[\"targets\"].to(device)\n",
    "    verb = d[\"verb\"].to(device)\n",
    "    A0 = d[\"A0\"].to(device)\n",
    "    A1 = d[\"A1\"].to(device)\n",
    "    AV_num = d[\"AV_num\"].to(device)\n",
    "\n",
    "    outputs,self_outputs,self_labels = model(\n",
    "      input_ids=input_ids,\n",
    "      attention_mask=attention_mask,\n",
    "      verb = verb,\n",
    "      A0 = A0,\n",
    "      A1 = A1,\n",
    "      AV_num = AV_num\n",
    "    )\n",
    "    self_outputs = self_outputs.to(device)\n",
    "    self_labels = self_labels.to(device)\n",
    "\n",
    "    if outputs.dim()==1:\n",
    "      outputs = torch.unsqueeze(outputs,0)\n",
    "    _, preds = torch.max(outputs, dim=1)\n",
    "    _, self_preds = torch.max(self_outputs, dim=1)\n",
    "    \n",
    "    # print(targets.shape,outputs.shape)\n",
    "    loss = 0.8*loss_fn(outputs, targets)+0.2*loss_fn(self_outputs,self_labels)\n",
    "\n",
    "    correct_predictions += torch.sum(preds == targets)\n",
    "    correct_predictions_verbs += torch.sum(self_preds == self_labels)\n",
    "    losses.append(loss.item())\n",
    "\n",
    "    loss.backward()\n",
    "    nn.utils.clip_grad_norm_(model.parameters(), max_norm=1.0)\n",
    "    optimizer.step()\n",
    "    scheduler.step()\n",
    "    optimizer.zero_grad()\n",
    "\n",
    "  return correct_predictions.double() / n_examples, np.mean(losses),correct_predictions_verbs.double()/n_examples"
   ]
  },
  {
   "cell_type": "code",
   "execution_count": 22,
   "metadata": {
    "id": "VmDYxiXDYl-u"
   },
   "outputs": [],
   "source": [
    "def eval_model(model, data_loader, loss_fn, device, n_examples):\n",
    "  model = model.eval()\n",
    "\n",
    "  losses = []\n",
    "  correct_predictions = 0\n",
    "\n",
    "  with torch.no_grad():\n",
    "    for d in data_loader:\n",
    "      input_ids = d[\"input_ids\"].to(device)\n",
    "      attention_mask = d[\"attention_mask\"].to(device)\n",
    "      targets = d[\"targets\"].to(device)\n",
    "      verb = d[\"verb\"].to(device)\n",
    "      A0 = d[\"A0\"].to(device)\n",
    "      A1 = d[\"A1\"].to(device)\n",
    "      AV_num = d[\"AV_num\"].to(device)\n",
    "\n",
    "      outputs = model(\n",
    "        input_ids=input_ids,\n",
    "        attention_mask=attention_mask,\n",
    "        verb = verb,\n",
    "        A0 = A0,\n",
    "        A1 = A1,\n",
    "        AV_num = AV_num\n",
    "      )[0]\n",
    "      \n",
    "      if outputs.dim()==1:\n",
    "        outputs = torch.unsqueeze(outputs,0)\n",
    "      _, preds = torch.max(outputs, dim=1)\n",
    "\n",
    "      loss = loss_fn(outputs, targets)\n",
    "\n",
    "      correct_predictions += torch.sum(preds == targets)\n",
    "      \n",
    "      losses.append(loss.item())\n",
    "\n",
    "  return correct_predictions.double() / n_examples, np.mean(losses)"
   ]
  },
  {
   "cell_type": "code",
   "execution_count": 23,
   "metadata": {
    "id": "Nkvo-2p93Dnr"
   },
   "outputs": [],
   "source": [
    "history = defaultdict(list)\n",
    "best_accuracy = 0\n",
    "# EPOCHS = 5"
   ]
  },
  {
   "cell_type": "code",
   "execution_count": 24,
   "metadata": {
    "colab": {
     "background_save": true,
     "base_uri": "https://localhost:8080/"
    },
    "id": "VZvKK2TkYojZ",
    "outputId": "c2ab0a75-6fee-4af7-8a3e-0846f2c720db",
    "scrolled": true
   },
   "outputs": [
    {
     "name": "stdout",
     "output_type": "stream",
     "text": [
      "Epoch 1/10\n",
      "----------\n",
      "Train loss 0.9406345421309723 accuracy 0.5369445619974609 cl_accuracy0.5734236140499365\n",
      "Val   loss 0.8754060326084014 accuracy 0.6140825998645904\n",
      "\n",
      "Epoch 2/10\n",
      "----------\n",
      "Train loss 0.7995706592990194 accuracy 0.6461278036394413 cl_accuracy0.5732543377063055\n",
      "Val   loss 0.8459211430882895 accuracy 0.6303317535545023\n",
      "\n",
      "Epoch 3/10\n",
      "----------\n",
      "Train loss 0.7369704759491957 accuracy 0.698011002962336 cl_accuracy0.5786711807024968\n",
      "Val   loss 0.8949598894324354 accuracy 0.6377792823290453\n",
      "\n",
      "Epoch 4/10\n",
      "----------\n",
      "Train loss 0.6634140104176388 accuracy 0.7521794329242488 cl_accuracy0.5709691070672873\n",
      "Val   loss 0.8947181937194639 accuracy 0.6492890995260663\n",
      "\n",
      "Epoch 5/10\n",
      "----------\n",
      "Train loss 0.5922870187943294 accuracy 0.7932289462547609 cl_accuracy0.5709691070672873\n",
      "Val   loss 0.9816147604937194 accuracy 0.6357481381178064\n",
      "\n",
      "Epoch 6/10\n",
      "----------\n",
      "Train loss 0.5306915177664996 accuracy 0.8336859923825645 cl_accuracy0.5748624629707998\n",
      "Val   loss 1.0980988599920785 accuracy 0.6208530805687204\n",
      "\n",
      "Epoch 7/10\n",
      "----------\n",
      "Train loss 0.47565423633716747 accuracy 0.8594159966144731 cl_accuracy0.5719847651290731\n",
      "Val   loss 1.155992639962063 accuracy 0.6208530805687204\n",
      "\n",
      "Epoch 8/10\n",
      "----------\n",
      "Train loss 0.4319687725242646 accuracy 0.8815065594583157 cl_accuracy0.5718154887854422\n",
      "Val   loss 1.2476460940094405 accuracy 0.6161137440758293\n",
      "\n",
      "Epoch 9/10\n",
      "----------\n",
      "Train loss 0.4006959692914044 accuracy 0.8966567922132882 cl_accuracy0.5772323317816335\n",
      "Val   loss 1.3485728973342526 accuracy 0.6059580230196344\n",
      "\n",
      "Epoch 10/10\n",
      "----------\n",
      "Train loss 0.3744647994899621 accuracy 0.9082522217520101 cl_accuracy0.57748624629708\n",
      "Val   loss 1.3962899978442858 accuracy 0.6073121191604604\n",
      "\n",
      "CPU times: user 30min 31s, sys: 5.32 s, total: 30min 36s\n",
      "Wall time: 30min 2s\n"
     ]
    }
   ],
   "source": [
    "%%time\n",
    "\n",
    "for epoch in range(EPOCHS):\n",
    "\n",
    "  print(f'Epoch {epoch + 1}/{EPOCHS}')\n",
    "  print('-' * 10)\n",
    "\n",
    "  train_acc, train_loss, cl_acc = train_epoch(\n",
    "    model,\n",
    "    train_data_loader,    \n",
    "    loss_fn, \n",
    "    optimizer, \n",
    "    device, \n",
    "    scheduler, \n",
    "    len(df_train)\n",
    "  )\n",
    "\n",
    "  print(f'Train loss {train_loss} accuracy {train_acc} cl_accuracy{cl_acc}')\n",
    "\n",
    "  val_acc, val_loss = eval_model(\n",
    "    model,\n",
    "    val_data_loader,\n",
    "    loss_fn, \n",
    "    device, \n",
    "    len(df_val)\n",
    "  )\n",
    "\n",
    "  print(f'Val   loss {val_loss} accuracy {val_acc}')\n",
    "  print()\n",
    "\n",
    "  history['train_acc'].append(train_acc)\n",
    "  history['train_loss'].append(train_loss)\n",
    "  history['val_acc'].append(val_acc)\n",
    "  history['val_loss'].append(val_loss)\n",
    "\n",
    "  if val_acc > best_accuracy:\n",
    "    torch.save(model.state_dict(), 'Pretrained_RoBert_SRL(FC)_CL(A1).bin')\n",
    "    best_accuracy = val_acc"
   ]
  },
  {
   "cell_type": "code",
   "execution_count": 25,
   "metadata": {
    "colab": {
     "background_save": true
    },
    "id": "FIyLcNepYr4f",
    "outputId": "3d88c984-833b-4551-c4cb-91d5ea5cb766"
   },
   "outputs": [
    {
     "data": {
      "text/plain": [
       "10"
      ]
     },
     "execution_count": 25,
     "metadata": {},
     "output_type": "execute_result"
    }
   ],
   "source": [
    "len(history[\"train_acc\"])"
   ]
  },
  {
   "cell_type": "code",
   "execution_count": 26,
   "metadata": {
    "colab": {
     "background_save": true
    },
    "id": "xu7Y2BPzLZgi",
    "outputId": "464a72dd-decd-4758-c2a4-ed850769df71"
   },
   "outputs": [
    {
     "data": {
      "image/png": "[encoded data removed]",
      "text/plain": [
       "<Figure size 864x576 with 1 Axes>"
      ]
     },
     "metadata": {
      "image/png": {
       "height": 506,
       "width": 732
      }
     },
     "output_type": "display_data"
    }
   ],
   "source": [
    "plt.plot([i.cpu() for i in history['train_acc']], label='train accuracy')\n",
    "plt.plot([i.cpu() for i in history['val_acc']], label='validation accuracy')\n",
    "\n",
    "plt.title('Training history')\n",
    "plt.ylabel('Accuracy')\n",
    "plt.xlabel('Epoch')\n",
    "plt.legend()\n",
    "plt.ylim([0, 1]);"
   ]
  },
  {
   "cell_type": "code",
   "execution_count": 27,
   "metadata": {
    "colab": {
     "background_save": true
    },
    "id": "YYMhWiIrBrV4",
    "outputId": "715ceb5a-ae70-4412-a3ab-720a04955b93"
   },
   "outputs": [
    {
     "name": "stderr",
     "output_type": "stream",
     "text": [
      "Some weights of the model checkpoint at /home/bit/stock/model/pretrained-bert/ROBERT_4_model.bin were not used when initializing BertModel: ['cls.predictions.decoder.bias', 'cls.predictions.transform.LayerNorm.weight', 'cls.predictions.transform.LayerNorm.bias', 'cls.predictions.transform.dense.weight', 'cls.predictions.transform.dense.bias', 'cls.predictions.bias', 'cls.predictions.decoder.weight']\n",
      "- This IS expected if you are initializing BertModel from the checkpoint of a model trained on another task or with another architecture (e.g. initializing a BertForSequenceClassification model from a BertForPreTraining model).\n",
      "- This IS NOT expected if you are initializing BertModel from the checkpoint of a model that you expect to be exactly identical (initializing a BertForSequenceClassification model from a BertForSequenceClassification model).\n",
      "Some weights of BertModel were not initialized from the model checkpoint at /home/bit/stock/model/pretrained-bert/ROBERT_4_model.bin and are newly initialized: ['bert.pooler.dense.bias', 'bert.pooler.dense.weight']\n",
      "You should probably TRAIN this model on a down-stream task to be able to use it for predictions and inference.\n"
     ]
    }
   ],
   "source": [
    "# !gdown --id 1V8itWtowCYnb2Bc9KlK9SxGff9WwmogA\n",
    "\n",
    "model = SentimentClassifier(len(class_names))\n",
    "model.load_state_dict(torch.load('Pretrained_RoBert_SRL(FC)_CL(A1).bin'))\n",
    "model = model.to(device)"
   ]
  },
  {
   "cell_type": "code",
   "execution_count": 28,
   "metadata": {
    "colab": {
     "background_save": true
    },
    "id": "KYRPY0C-fFQh",
    "outputId": "5ff644a7-ed8f-4e1d-c846-e26640849d2f"
   },
   "outputs": [
    {
     "data": {
      "text/plain": [
       "1477"
      ]
     },
     "execution_count": 28,
     "metadata": {},
     "output_type": "execute_result"
    }
   ],
   "source": [
    "len(df_test)"
   ]
  },
  {
   "cell_type": "code",
   "execution_count": 29,
   "metadata": {
    "colab": {
     "background_save": true
    },
    "id": "c7Cckbz8GbDK",
    "outputId": "a3332b1f-6762-40f0-812b-db4844ec2d4d"
   },
   "outputs": [
    {
     "data": {
      "text/plain": [
       "0.6242383209207854"
      ]
     },
     "execution_count": 29,
     "metadata": {},
     "output_type": "execute_result"
    }
   ],
   "source": [
    "test_acc, _ = eval_model(\n",
    "  model,\n",
    "  test_data_loader,\n",
    "  loss_fn,\n",
    "  device,\n",
    "  len(df_test)\n",
    ")\n",
    "\n",
    "test_acc.item()"
   ]
  },
  {
   "cell_type": "code",
   "execution_count": 30,
   "metadata": {
    "colab": {
     "background_save": true
    },
    "id": "a0Qemnl0FiEb"
   },
   "outputs": [],
   "source": [
    "def get_predictions(model, data_loader):\n",
    "  model = model.eval()\n",
    "  \n",
    "  review_texts = []\n",
    "  predictions = []\n",
    "  prediction_probs = []\n",
    "  real_values = []\n",
    "\n",
    "  with torch.no_grad():\n",
    "    for d in data_loader:\n",
    "\n",
    "      texts = d[\"review_text\"]\n",
    "      input_ids = d[\"input_ids\"].to(device)\n",
    "      attention_mask = d[\"attention_mask\"].to(device)\n",
    "      targets = d[\"targets\"].to(device)\n",
    "      verb = d[\"verb\"].to(device)\n",
    "      A0 = d[\"A0\"].to(device)\n",
    "      A1 = d[\"A1\"].to(device)\n",
    "      AV_num = d['AV_num'].to(device)\n",
    "\n",
    "      outputs = model(\n",
    "        input_ids=input_ids,\n",
    "        attention_mask=attention_mask,\n",
    "        verb = verb,\n",
    "        A0 = A0,\n",
    "        A1 = A1,\n",
    "        AV_num = AV_num\n",
    "      )[0]\n",
    "#       _, preds = torch.max(outputs, dim=1)\n",
    "      \n",
    "      if outputs.dim()==1:\n",
    "        outputs = torch.unsqueeze(outputs,0)\n",
    "      _, preds = torch.max(outputs, dim=1)\n",
    "\n",
    "      probs = F.softmax(outputs, dim=1)\n",
    "\n",
    "      review_texts.extend(texts)\n",
    "      predictions.extend(preds)\n",
    "      prediction_probs.extend(probs)\n",
    "      real_values.extend(targets)\n",
    "\n",
    "  predictions = torch.stack(predictions).cpu()\n",
    "  prediction_probs = torch.stack(prediction_probs).cpu()\n",
    "  real_values = torch.stack(real_values).cpu()\n",
    "  return review_texts, predictions, prediction_probs, real_values"
   ]
  },
  {
   "cell_type": "code",
   "execution_count": 31,
   "metadata": {},
   "outputs": [],
   "source": [
    "def show_confusion_matrix(confusion_matrix):\n",
    "  hmap = sns.heatmap(confusion_matrix, annot=True, fmt=\"d\", cmap=\"Blues\")\n",
    "  hmap.yaxis.set_ticklabels(hmap.yaxis.get_ticklabels(), rotation=0, ha='right')\n",
    "  hmap.xaxis.set_ticklabels(hmap.xaxis.get_ticklabels(), rotation=30, ha='right')\n",
    "  plt.ylabel('True sentiment')\n",
    "  plt.xlabel('Predicted sentiment');"
   ]
  },
  {
   "cell_type": "code",
   "execution_count": 32,
   "metadata": {
    "colab": {
     "background_save": true
    },
    "id": "YkPHXF0MGiCh",
    "outputId": "648048e5-a674-4137-9efe-105cfea84b32"
   },
   "outputs": [
    {
     "name": "stdout",
     "output_type": "stream",
     "text": [
      "              precision    recall  f1-score   support\n",
      "\n",
      "    negative     0.6644    0.6054    0.6335       484\n",
      "     neutral     0.5961    0.6079    0.6020       505\n",
      "    positive     0.6180    0.6598    0.6383       488\n",
      "\n",
      "    accuracy                         0.6242      1477\n",
      "   macro avg     0.6262    0.6244    0.6246      1477\n",
      "weighted avg     0.6257    0.6242    0.6243      1477\n",
      "\n"
     ]
    },
    {
     "data": {
      "image/png": "[encoded data removed]",
      "text/plain": [
       "<Figure size 864x576 with 2 Axes>"
      ]
     },
     "metadata": {
      "image/png": {
       "height": 516,
       "width": 725
      }
     },
     "output_type": "display_data"
    }
   ],
   "source": [
    "y_review_texts, y_pred, y_pred_probs, y_test = get_predictions(\n",
    "  model,\n",
    "  test_data_loader\n",
    ")\n",
    "\n",
    "print(classification_report(y_test, y_pred, target_names=class_names,digits=4))\n",
    "\n",
    "cm = confusion_matrix(y_test, y_pred)\n",
    "df_cm = pd.DataFrame(cm, index=class_names, columns=class_names)\n",
    "show_confusion_matrix(df_cm)"
   ]
  },
  {
   "cell_type": "code",
   "execution_count": null,
   "metadata": {},
   "outputs": [],
   "source": []
  },
  {
   "cell_type": "code",
   "execution_count": null,
   "metadata": {},
   "outputs": [],
   "source": []
  },
  {
   "cell_type": "code",
   "execution_count": 33,
   "metadata": {},
   "outputs": [
    {
     "name": "stdout",
     "output_type": "stream",
     "text": [
      "              precision    recall  f1-score   support\n",
      "\n",
      "    negative     0.6908    0.5397    0.6060      3133\n",
      "     neutral     0.5537    0.5708    0.5621      3406\n",
      "    positive     0.5891    0.6835    0.6328      3618\n",
      "\n",
      "    accuracy                         0.6014     10157\n",
      "   macro avg     0.6112    0.5980    0.6003     10157\n",
      "weighted avg     0.6086    0.6014    0.6008     10157\n",
      "\n"
     ]
    },
    {
     "data": {
      "image/png": "[encoded data removed]",
      "text/plain": [
       "<Figure size 864x576 with 2 Axes>"
      ]
     },
     "metadata": {
      "image/png": {
       "height": 516,
       "width": 733
      }
     },
     "output_type": "display_data"
    }
   ],
   "source": [
    "y_ood_review_texts, y_ood_pred, y_ood_pred_probs, y_ood = get_predictions(\n",
    "  model,\n",
    "  ood_data_loader\n",
    ")\n",
    "\n",
    "print(classification_report(y_ood, y_ood_pred, target_names=class_names,digits=4))\n",
    "\n",
    "ood_cm = confusion_matrix(y_ood, y_ood_pred)\n",
    "df_ood_cm = pd.DataFrame(ood_cm, index=class_names, columns=class_names)\n",
    "show_confusion_matrix(df_ood_cm)"
   ]
  },
  {
   "cell_type": "code",
   "execution_count": 34,
   "metadata": {},
   "outputs": [
    {
     "name": "stdout",
     "output_type": "stream",
     "text": [
      "              precision    recall  f1-score   support\n",
      "\n",
      "    negative     0.0000    0.0000    0.0000         0\n",
      "     neutral     1.0000    0.3927    0.5639     16798\n",
      "    positive     0.0000    0.0000    0.0000         0\n",
      "\n",
      "    accuracy                         0.3927     16798\n",
      "   macro avg     0.3333    0.1309    0.1880     16798\n",
      "weighted avg     1.0000    0.3927    0.5639     16798\n",
      "\n"
     ]
    },
    {
     "name": "stderr",
     "output_type": "stream",
     "text": [
      "/home/bit/anaconda3/lib/python3.9/site-packages/sklearn/metrics/_classification.py:1248: UndefinedMetricWarning: Recall and F-score are ill-defined and being set to 0.0 in labels with no true samples. Use `zero_division` parameter to control this behavior.\n",
      "  _warn_prf(average, modifier, msg_start, len(result))\n",
      "/home/bit/anaconda3/lib/python3.9/site-packages/sklearn/metrics/_classification.py:1248: UndefinedMetricWarning: Recall and F-score are ill-defined and being set to 0.0 in labels with no true samples. Use `zero_division` parameter to control this behavior.\n",
      "  _warn_prf(average, modifier, msg_start, len(result))\n",
      "/home/bit/anaconda3/lib/python3.9/site-packages/sklearn/metrics/_classification.py:1248: UndefinedMetricWarning: Recall and F-score are ill-defined and being set to 0.0 in labels with no true samples. Use `zero_division` parameter to control this behavior.\n",
      "  _warn_prf(average, modifier, msg_start, len(result))\n"
     ]
    },
    {
     "data": {
      "image/png": "[encoded data removed]",
      "text/plain": [
       "<Figure size 864x576 with 2 Axes>"
      ]
     },
     "metadata": {
      "image/png": {
       "height": 516,
       "width": 733
      }
     },
     "output_type": "display_data"
    }
   ],
   "source": [
    "df_ood = pd.read_csv('../data/df_all_year_srl.csv',sep='\\t')\n",
    "# df_ood = df_ood.loc[(df_ood.DATE>='2021-05-05')&(df_ood.DATE<='2021-09-01')]\n",
    "df_ood = df_ood.sort_values(by='DATE')\n",
    "df_ood = df_ood.reset_index(drop=True)\n",
    "# df_ood = df_ood.loc[:2000]\n",
    "df_ood = df_ood.drop(df_ood.loc[df_ood.verbA0A1.isna()].index)\n",
    "df_ood = df_ood.drop(df_ood.loc[df_ood.verbA0A1=='[]'].index)\n",
    "for col in ['verb','A0','A1']:\n",
    "  df_ood[col] = df_ood[col].apply(string_to_tuples_list)\n",
    "\n",
    "for col in ['stock_factors','verbA0A1']:\n",
    "  df_ood[col] = df_ood[col].apply(ast.literal_eval)\n",
    "df_ood = mask(df_ood)\n",
    "df_ood = df_ood.reset_index(drop=True)\n",
    "ood_data_loader = create_data_loader(df_ood, tokenizer, max_len, BATCH_SIZE)\n",
    "\n",
    "y_ood_review_texts, y_ood_pred, y_ood_pred_probs, y_ood = get_predictions(\n",
    "  model,\n",
    "  ood_data_loader\n",
    ")\n",
    "\n",
    "print(classification_report(y_ood, y_ood_pred, target_names=class_names,digits=4))\n",
    "\n",
    "ood_cm = confusion_matrix(y_ood, y_ood_pred)\n",
    "df_ood_cm = pd.DataFrame(ood_cm, index=class_names, columns=class_names)\n",
    "show_confusion_matrix(df_ood_cm)"
   ]
  },
  {
   "cell_type": "code",
   "execution_count": 35,
   "metadata": {},
   "outputs": [],
   "source": [
    "df = pd.DataFrame([y_ood_review_texts, y_ood_pred.numpy(), y_ood_pred_probs.numpy(), y_ood.numpy()]).T\n",
    "df = df.rename(columns={0:'text',1:'prediction',2:'probability',3:'labels'})\n",
    "df.to_csv('Pretrained_RoBert_SRL(FC)_A1_ood.csv',sep='\\t')"
   ]
  },
  {
   "cell_type": "code",
   "execution_count": null,
   "metadata": {},
   "outputs": [],
   "source": []
  },
  {
   "cell_type": "code",
   "execution_count": 36,
   "metadata": {
    "colab": {
     "background_save": true
    },
    "id": "6QZ0EgQoalz2"
   },
   "outputs": [],
   "source": [
    "# !pip install lit-nlp"
   ]
  },
  {
   "cell_type": "code",
   "execution_count": 37,
   "metadata": {
    "colab": {
     "background_save": true
    },
    "id": "eAeHdVF7c-QF"
   },
   "outputs": [],
   "source": [
    "# from lit_nlp.api.dataset import Dataset\n",
    "# class MultiNLIData(Dataset):\n",
    "#   \"\"\"Loader for MultiNLI development set.\"\"\"\n",
    "#   def __init__(self, df):\n",
    "#     # Read the eval set from a .tsv file as distributed with the GLUE benchmark.\n",
    "#     # df = pandas.read_csv(path, sep='\\t')\n",
    "#     # Store as a list of dicts, conforming to self.spec()\n",
    "#     self.LABELS = [0,1]\n",
    "#     self._examples = [{\n",
    "#       'sentence': row['DESCRIPTION_EN'],\n",
    "#       # 'hypothesis': row['sentence2'],\n",
    "#       'label': row['LABEL']\n",
    "#       # 'genre': row['genre'],\n",
    "#     } for _, row in df.iterrows()]\n",
    "#   def spec(self):\n",
    "#     return {\n",
    "#       'sentence': lit_types.TextSegment(),\n",
    "#       # 'hypothesis': lit_types.TextSegment(),\n",
    "#       'label': lit_types.CategoryLabel(vocab=self.LABELS),\n",
    "#       # We can include additional fields, which don't have to be used by the model.\n",
    "#       # 'genre': lit_types.Label(),\n",
    "#     }"
   ]
  },
  {
   "cell_type": "code",
   "execution_count": null,
   "metadata": {
    "colab": {
     "background_save": true
    },
    "id": "l5886G4mdXia"
   },
   "outputs": [],
   "source": []
  },
  {
   "cell_type": "code",
   "execution_count": null,
   "metadata": {
    "colab": {
     "background_save": true
    },
    "id": "mrSBCdqO0sUs"
   },
   "outputs": [],
   "source": []
  },
  {
   "cell_type": "code",
   "execution_count": null,
   "metadata": {
    "colab": {
     "background_save": true
    },
    "id": "f-nX4zrOdxpo"
   },
   "outputs": [],
   "source": []
  },
  {
   "cell_type": "code",
   "execution_count": null,
   "metadata": {
    "colab": {
     "background_save": true
    },
    "id": "ARdnz5td18VV"
   },
   "outputs": [],
   "source": []
  },
  {
   "cell_type": "code",
   "execution_count": null,
   "metadata": {
    "colab": {
     "background_save": true
    },
    "id": "iMviJZsfdifG"
   },
   "outputs": [],
   "source": []
  },
  {
   "cell_type": "code",
   "execution_count": null,
   "metadata": {
    "colab": {
     "background_save": true
    },
    "id": "8h5I2QKodj8b"
   },
   "outputs": [],
   "source": []
  },
  {
   "cell_type": "code",
   "execution_count": null,
   "metadata": {
    "colab": {
     "background_save": true
    },
    "id": "0-abzg6avOQq"
   },
   "outputs": [],
   "source": []
  },
  {
   "cell_type": "code",
   "execution_count": null,
   "metadata": {
    "colab": {
     "background_save": true
    },
    "id": "flJ1xtWNvYej"
   },
   "outputs": [],
   "source": []
  },
  {
   "cell_type": "code",
   "execution_count": 38,
   "metadata": {
    "colab": {
     "background_save": true
    },
    "id": "nBxb2zhWvfaK"
   },
   "outputs": [],
   "source": [
    "# from absl import app\n",
    "# from absl import flags\n",
    "# from absl import logging\n",
    "\n",
    "# from lit_nlp import dev_server\n",
    "# from lit_nlp import server_flags\n",
    "# from lit_nlp.api import model as lit_model\n",
    "# from lit_nlp.api import types as lit_types\n",
    "# # Use the regular GLUE data loaders, because these are very simple already.\n",
    "# from lit_nlp.examples.datasets import glue\n",
    "# from lit_nlp.lib import utils\n",
    "\n",
    "# import torch\n",
    "# import transformers\n",
    "\n",
    "# # NOTE: additional flags defined in server_flags.py\n",
    "\n",
    "# FLAGS = flags.FLAGS\n",
    "\n",
    "# flags.DEFINE_string(\n",
    "#     \"model_path\",\n",
    "#     \"https://storage.googleapis.com/what-if-tool-resources/lit-models/sst2_tiny.tar.gz\",\n",
    "#     \"Path to trained model, in standard transformers format, e.g. as \"\n",
    "#     \"saved by model.save_pretrained() and tokenizer.save_pretrained()\")\n",
    "\n",
    "\n",
    "# def _from_pretrained(cls, *args, **kw):\n",
    "#   \"\"\"Load a transformers model in PyTorch, with fallback to TF2/Keras weights.\"\"\"\n",
    "#   try:\n",
    "#     return cls.from_pretrained(*args, **kw)\n",
    "#   except OSError as e:\n",
    "#     logging.warning(\"Caught OSError loading model: %s\", e)\n",
    "#     logging.warning(\n",
    "#         \"Re-trying to convert from TensorFlow checkpoint (from_tf=True)\")\n",
    "#     return cls.from_pretrained(*args, from_tf=True, **kw)\n",
    "\n",
    "\n",
    "# class SimpleSentimentModel(lit_model.Model):\n",
    "#   \"\"\"Simple sentiment analysis model.\"\"\"\n",
    "\n",
    "#   LABELS = [0,1]  # negative, positive\n",
    "\n",
    "#   def __init__(self, model_name_or_path):\n",
    "#     self.tokenizer = transformers.AutoTokenizer.from_pretrained(\n",
    "#         model_name_or_path)\n",
    "#     model_config = transformers.AutoConfig.from_pretrained(\n",
    "#         model_name_or_path,\n",
    "#         num_labels=2,\n",
    "#         output_hidden_states=True,\n",
    "#         output_attentions=True,\n",
    "#     )\n",
    "#     # This is a just a regular PyTorch model.\n",
    "#     self.model = _from_pretrained(\n",
    "#         transformers.AutoModelForSequenceClassification,\n",
    "#         model_name_or_path,\n",
    "#         config=model_config)\n",
    "#     self.model.eval()\n",
    "\n",
    "#   ##\n",
    "#   # LIT API implementation\n",
    "#   def max_minibatch_size(self):\n",
    "#     # This tells lit_model.Model.predict() how to batch inputs to\n",
    "#     # predict_minibatch().\n",
    "#     # Alternately, you can just override predict() and handle batching yourself.\n",
    "#     return 16\n",
    "\n",
    "#   def predict_minibatch(self, inputs):\n",
    "#     # Preprocess to ids and masks, and make the input batch.\n",
    "#     encoded_input = self.tokenizer.batch_encode_plus(\n",
    "#         [ex[\"sentence\"] for ex in inputs],\n",
    "#         return_tensors=\"pt\",\n",
    "#         add_special_tokens=True,\n",
    "#         max_length=200,\n",
    "#         padding=\"longest\",\n",
    "#         truncation=\"longest_first\")\n",
    "\n",
    "#     # Check and send to cuda (GPU) if available\n",
    "#     if torch.cuda.is_available():\n",
    "#       self.model.cuda()\n",
    "#       for tensor in encoded_input:\n",
    "#         encoded_input[tensor] = encoded_input[tensor].cuda()\n",
    "#     # Run a forward pass.\n",
    "#     with torch.no_grad():  # remove this if you need gradients.\n",
    "#       out: transformers.modeling_outputs.SequenceClassifierOutput = \\\n",
    "#           self.model(**encoded_input)\n",
    "\n",
    "#     # Post-process outputs.\n",
    "#     batched_outputs = {\n",
    "#         \"probas\": torch.nn.functional.softmax(out.logits, dim=-1),\n",
    "#         \"input_ids\": encoded_input[\"input_ids\"],\n",
    "#         \"ntok\": torch.sum(encoded_input[\"attention_mask\"], dim=1),\n",
    "#         \"cls_emb\": out.hidden_states[-1][:, 0],  # last layer, first token\n",
    "#     }\n",
    "#     # Return as NumPy for further processing.\n",
    "#     detached_outputs = {k: v.cpu().numpy() for k, v in batched_outputs.items()}\n",
    "#     # Unbatch outputs so we get one record per input example.\n",
    "#     for output in utils.unbatch_preds(detached_outputs):\n",
    "#       ntok = output.pop(\"ntok\")\n",
    "#       output[\"tokens\"] = self.tokenizer.convert_ids_to_tokens(\n",
    "#           output.pop(\"input_ids\")[1:ntok - 1])\n",
    "#       yield output\n",
    "\n",
    "#   def input_spec(self) -> lit_types.Spec:\n",
    "#     return {\n",
    "#         \"sentence\": lit_types.TextSegment(),\n",
    "#         \"label\": lit_types.CategoryLabel(vocab=self.LABELS, required=False)\n",
    "#     }\n",
    "\n",
    "#   def output_spec(self) -> lit_types.Spec:\n",
    "#     return {\n",
    "#         \"tokens\": lit_types.Tokens(),\n",
    "#         \"probas\": lit_types.MulticlassPreds(parent=\"label\", vocab=self.LABELS),\n",
    "#         \"cls_emb\": lit_types.Embeddings()\n",
    "#     }\n"
   ]
  },
  {
   "cell_type": "code",
   "execution_count": 39,
   "metadata": {
    "colab": {
     "background_save": true
    },
    "id": "B64IFx5g461l"
   },
   "outputs": [],
   "source": [
    "# dataset = MultiNLIData(df_train.sample(1800))"
   ]
  },
  {
   "cell_type": "code",
   "execution_count": 40,
   "metadata": {
    "colab": {
     "background_save": true
    },
    "id": "qR0nbr94v2xz"
   },
   "outputs": [],
   "source": [
    "# datasets = {\"sst_dev\": dataset}\n",
    "# models = {\"sst\": SimpleSentimentModel(\"/content/drive/MyDrive/model/best_model/\")}\n",
    "# # models = {\"sst\": SimpleSentimentModel(\"bert-base-uncased\")}"
   ]
  },
  {
   "cell_type": "code",
   "execution_count": 41,
   "metadata": {
    "colab": {
     "background_save": true
    },
    "id": "WR8VwsH9v4l8"
   },
   "outputs": [],
   "source": [
    "# from lit_nlp import notebook\n",
    "# widget = notebook.LitWidget(models, datasets, height=800)"
   ]
  },
  {
   "cell_type": "code",
   "execution_count": 42,
   "metadata": {
    "colab": {
     "background_save": true
    },
    "id": "wNPctrXDBQSM"
   },
   "outputs": [],
   "source": [
    "# mm = models[\"sst\"]"
   ]
  },
  {
   "cell_type": "code",
   "execution_count": 43,
   "metadata": {
    "colab": {
     "background_save": true
    },
    "id": "lHX6hJtVCAuX"
   },
   "outputs": [],
   "source": [
    "# mm.model.config"
   ]
  },
  {
   "cell_type": "code",
   "execution_count": 44,
   "metadata": {
    "colab": {
     "background_save": true
    },
    "id": "cihtCCxC3ftN"
   },
   "outputs": [],
   "source": [
    "# widget.render()"
   ]
  },
  {
   "cell_type": "code",
   "execution_count": 45,
   "metadata": {
    "colab": {
     "background_save": true
    },
    "id": "h5c4S99U5UOS"
   },
   "outputs": [],
   "source": [
    "# dataset.LABELS\n"
   ]
  },
  {
   "cell_type": "code",
   "execution_count": null,
   "metadata": {
    "colab": {
     "background_save": true
    },
    "id": "WxSfPfOF7dNo"
   },
   "outputs": [],
   "source": []
  },
  {
   "cell_type": "code",
   "execution_count": null,
   "metadata": {
    "colab": {
     "background_save": true
    },
    "id": "UHZ2GHS2YPJx"
   },
   "outputs": [],
   "source": []
  },
  {
   "cell_type": "code",
   "execution_count": null,
   "metadata": {
    "colab": {
     "background_save": true
    },
    "id": "dZufJ9IYxafN"
   },
   "outputs": [],
   "source": []
  },
  {
   "cell_type": "code",
   "execution_count": null,
   "metadata": {
    "colab": {
     "background_save": true
    },
    "id": "SUEQvcwK5884"
   },
   "outputs": [],
   "source": []
  },
  {
   "cell_type": "code",
   "execution_count": null,
   "metadata": {
    "colab": {
     "background_save": true
    },
    "id": "UlBpR4nZ8Pm4"
   },
   "outputs": [],
   "source": [
    "\n"
   ]
  },
  {
   "cell_type": "code",
   "execution_count": null,
   "metadata": {
    "colab": {
     "background_save": true
    },
    "id": "KOfzGtQA13Lk"
   },
   "outputs": [],
   "source": []
  },
  {
   "cell_type": "markdown",
   "metadata": {
    "id": "WgHgeymrvwfF"
   },
   "source": []
  },
  {
   "cell_type": "code",
   "execution_count": null,
   "metadata": {
    "colab": {
     "background_save": true
    },
    "id": "vzRGjrB78JEU"
   },
   "outputs": [],
   "source": []
  },
  {
   "cell_type": "code",
   "execution_count": null,
   "metadata": {
    "colab": {
     "background_save": true
    },
    "id": "hisO325IxQp8"
   },
   "outputs": [],
   "source": []
  },
  {
   "cell_type": "code",
   "execution_count": null,
   "metadata": {
    "colab": {
     "background_save": true
    },
    "id": "Kbe4pgmh1gQY"
   },
   "outputs": [],
   "source": []
  }
 ],
 "metadata": {
  "accelerator": "GPU",
  "colab": {
   "collapsed_sections": [],
   "name": "Pretrained_RoBert_SRL(AVG)_CL(V).ipynb",
   "provenance": [
    {
     "file_id": "1Ia2qfBUM35tzgRmKb8NFZn9V7WQ6xHLQ",
     "timestamp": 1634194650187
    },
    {
     "file_id": "1m63ML-bYzKDT2V9B4hE-Uu5VTx505sa-",
     "timestamp": 1633515541576
    },
    {
     "file_id": "1HhJHiV3RPKbpPFWZrMSHMW_H-OMu45nh",
     "timestamp": 1633492228905
    },
    {
     "file_id": "1q_DO6QMqbQjEru1iCP0CuwA1-0wOBgO1",
     "timestamp": 1633469450109
    },
    {
     "file_id": "1UmCPDjec7zH3RdCY3Hdite8oomF7nmf9",
     "timestamp": 1633290928316
    },
    {
     "file_id": "1w9vwLdm73DBRpQkWEjXqs5q-sfG5CFRP",
     "timestamp": 1633210989154
    },
    {
     "file_id": "1dItOUA_nHj-f307fzTileirMZodw9QQA",
     "timestamp": 1633052138904
    },
    {
     "file_id": "1Oo-71ViOwxENoHeitS3_bKCwW5v34UxN",
     "timestamp": 1632660498277
    },
    {
     "file_id": "1el47BmEzo31ysADRwzhNG8eWTFAGBwSd",
     "timestamp": 1632523116920
    },
    {
     "file_id": "1_JaZBt7ogFAsddWCCG0LcCdgNRAxqtFk",
     "timestamp": 1632443626664
    },
    {
     "file_id": "19E0FxMVVPc7sOJKBKGMO92IFUiH9i8Nq",
     "timestamp": 1631945855961
    },
    {
     "file_id": "1-IQze66iqGbhkSN5Ht7pAfMMsY-XRwDI",
     "timestamp": 1631743166519
    },
    {
     "file_id": "1WejxgDbBCZ7I2Y_ODwi3kgRtrnkLvn-b",
     "timestamp": 1631518058457
    },
    {
     "file_id": "1npRyGEmBJbLWSua7ANgxcMxsQsuWXnKG",
     "timestamp": 1631425160358
    }
   ]
  },
  "kernelspec": {
   "display_name": "Python 3 (ipykernel)",
   "language": "python",
   "name": "python3"
  },
  "language_info": {
   "codemirror_mode": {
    "name": "ipython",
    "version": 3
   },
   "file_extension": ".py",
   "mimetype": "text/x-python",
   "name": "python",
   "nbconvert_exporter": "python",
   "pygments_lexer": "ipython3",
   "version": "3.9.7"
  },
  "latex_envs": {
   "LaTeX_envs_menu_present": true,
   "autoclose": false,
   "autocomplete": true,
   "bibliofile": "biblio.bib",
   "cite_by": "apalike",
   "current_citInitial": 1,
   "eqLabelWithNumbers": true,
   "eqNumInitial": 1,
   "hotkeys": {
    "equation": "Ctrl-E",
    "itemize": "Ctrl-I"
   },
   "labels_anchors": false,
   "latex_user_defs": false,
   "report_style_numbering": false,
   "user_envs_cfg": false
  },
  "toc": {
   "base_numbering": 1,
   "nav_menu": {},
   "number_sections": true,
   "sideBar": true,
   "skip_h1_title": false,
   "title_cell": "Table of Contents",
   "title_sidebar": "Contents",
   "toc_cell": false,
   "toc_position": {},
   "toc_section_display": true,
   "toc_window_display": false
  },
  "varInspector": {
   "cols": {
    "lenName": 16,
    "lenType": 16,
    "lenVar": 40
   },
   "kernels_config": {
    "python": {
     "delete_cmd_postfix": "",
     "delete_cmd_prefix": "del ",
     "library": "var_list.py",
     "varRefreshCmd": "print(var_dic_list())"
    },
    "r": {
     "delete_cmd_postfix": ") ",
     "delete_cmd_prefix": "rm(",
     "library": "var_list.r",
     "varRefreshCmd": "cat(var_dic_list()) "
    }
   },
   "types_to_exclude": [
    "module",
    "function",
    "builtin_function_or_method",
    "instance",
    "_Feature"
   ],
   "window_display": false
  }
 },
 "nbformat": 4,
 "nbformat_minor": 1
}
