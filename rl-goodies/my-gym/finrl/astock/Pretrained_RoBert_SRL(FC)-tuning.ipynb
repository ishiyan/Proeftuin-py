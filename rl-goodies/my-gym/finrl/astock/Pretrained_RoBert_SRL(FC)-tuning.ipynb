{
 "cells": [
  {
   "cell_type": "code",
   "execution_count": null,
   "metadata": {
    "colab": {
     "base_uri": "https://localhost:8080/"
    },
    "executionInfo": {
     "elapsed": 10,
     "status": "ok",
     "timestamp": 1633470818726,
     "user": {
      "displayName": "Kevin Zou",
      "photoUrl": "https://lh3.googleusercontent.com/a/default-user=s64",
      "userId": "10683254170489198540"
     },
     "user_tz": -630
    },
    "id": "k_E0VELS4NP2",
    "outputId": "bd5504e2-3029-4c8f-deb4-050f885082d0"
   },
   "outputs": [],
   "source": []
  },
  {
   "cell_type": "code",
   "execution_count": 1,
   "metadata": {
    "colab": {
     "base_uri": "https://localhost:8080/"
    },
    "executionInfo": {
     "elapsed": 422,
     "status": "ok",
     "timestamp": 1633470819145,
     "user": {
      "displayName": "Kevin Zou",
      "photoUrl": "https://lh3.googleusercontent.com/a/default-user=s64",
      "userId": "10683254170489198540"
     },
     "user_tz": -630
    },
    "id": "Qyy2IpTzbgF0",
    "outputId": "abf5f70f-e4b3-4640-ce87-c9166e390e2c"
   },
   "outputs": [
    {
     "name": "stdout",
     "output_type": "stream",
     "text": [
      "Thu Jan 27 10:28:07 2022       \r\n",
      "+-----------------------------------------------------------------------------+\r\n",
      "| NVIDIA-SMI 470.86       Driver Version: 470.86       CUDA Version: 11.4     |\r\n",
      "|-------------------------------+----------------------+----------------------+\r\n",
      "| GPU  Name        Persistence-M| Bus-Id        Disp.A | Volatile Uncorr. ECC |\r\n",
      "| Fan  Temp  Perf  Pwr:Usage/Cap|         Memory-Usage | GPU-Util  Compute M. |\r\n",
      "|                               |                      |               MIG M. |\r\n",
      "|===============================+======================+======================|\r\n",
      "|   0  NVIDIA GeForce ...  Off  | 00000000:09:00.0 Off |                  N/A |\r\n",
      "| 41%   81C    P0   148W / 350W |     68MiB / 24259MiB |      0%      Default |\r\n",
      "|                               |                      |                  N/A |\r\n",
      "+-------------------------------+----------------------+----------------------+\r\n",
      "                                                                               \r\n",
      "+-----------------------------------------------------------------------------+\r\n",
      "| Processes:                                                                  |\r\n",
      "|  GPU   GI   CI        PID   Type   Process name                  GPU Memory |\r\n",
      "|        ID   ID                                                   Usage      |\r\n",
      "|=============================================================================|\r\n",
      "|    0   N/A  N/A      1016      G   /usr/lib/xorg/Xorg                 56MiB |\r\n",
      "|    0   N/A  N/A      1245      G   /usr/bin/gnome-shell                9MiB |\r\n",
      "+-----------------------------------------------------------------------------+\r\n"
     ]
    }
   ],
   "source": [
    "!nvidia-smi"
   ]
  },
  {
   "cell_type": "markdown",
   "metadata": {
    "id": "IeZyx1-fcLXe"
   },
   "source": []
  },
  {
   "cell_type": "code",
   "execution_count": null,
   "metadata": {
    "executionInfo": {
     "elapsed": 3,
     "status": "ok",
     "timestamp": 1633470819146,
     "user": {
      "displayName": "Kevin Zou",
      "photoUrl": "https://lh3.googleusercontent.com/a/default-user=s64",
      "userId": "10683254170489198540"
     },
     "user_tz": -630
    },
    "id": "GmBFBvfbOj0a"
   },
   "outputs": [],
   "source": []
  },
  {
   "cell_type": "code",
   "execution_count": 2,
   "metadata": {
    "colab": {
     "base_uri": "https://localhost:8080/"
    },
    "executionInfo": {
     "elapsed": 14736,
     "status": "ok",
     "timestamp": 1633470833880,
     "user": {
      "displayName": "Kevin Zou",
      "photoUrl": "https://lh3.googleusercontent.com/a/default-user=s64",
      "userId": "10683254170489198540"
     },
     "user_tz": -630
    },
    "id": "dPdpNulr5rdc",
    "outputId": "d5a8c364-2d45-4d02-cc80-b1e681c8e218"
   },
   "outputs": [
    {
     "name": "stdout",
     "output_type": "stream",
     "text": [
      "Requirement already satisfied: ltp in /home/bit/anaconda3/lib/python3.9/site-packages (4.1.5.post2)\n",
      "Requirement already satisfied: pygtrie<2.5,>=2.3.0 in /home/bit/anaconda3/lib/python3.9/site-packages (from ltp) (2.4.2)\n",
      "Requirement already satisfied: transformers<=4.7.0,>=4.0.0 in /home/bit/anaconda3/lib/python3.9/site-packages (from ltp) (4.7.0)\n",
      "Requirement already satisfied: torch>=1.2.0 in /home/bit/anaconda3/lib/python3.9/site-packages (from ltp) (1.10.0)\n",
      "Requirement already satisfied: packaging>=20.0 in /home/bit/anaconda3/lib/python3.9/site-packages (from ltp) (21.0)\n",
      "Requirement already satisfied: pyparsing>=2.0.2 in /home/bit/anaconda3/lib/python3.9/site-packages (from packaging>=20.0->ltp) (3.0.4)\n",
      "Requirement already satisfied: typing_extensions in /home/bit/anaconda3/lib/python3.9/site-packages (from torch>=1.2.0->ltp) (3.10.0.2)\n",
      "Requirement already satisfied: numpy>=1.17 in /home/bit/anaconda3/lib/python3.9/site-packages (from transformers<=4.7.0,>=4.0.0->ltp) (1.20.3)\n",
      "Requirement already satisfied: regex!=2019.12.17 in /home/bit/anaconda3/lib/python3.9/site-packages (from transformers<=4.7.0,>=4.0.0->ltp) (2021.8.3)\n",
      "Requirement already satisfied: huggingface-hub==0.0.8 in /home/bit/anaconda3/lib/python3.9/site-packages (from transformers<=4.7.0,>=4.0.0->ltp) (0.0.8)\n",
      "Requirement already satisfied: tokenizers<0.11,>=0.10.1 in /home/bit/anaconda3/lib/python3.9/site-packages (from transformers<=4.7.0,>=4.0.0->ltp) (0.10.3)\n",
      "Requirement already satisfied: filelock in /home/bit/anaconda3/lib/python3.9/site-packages (from transformers<=4.7.0,>=4.0.0->ltp) (3.3.1)\n",
      "Requirement already satisfied: requests in /home/bit/anaconda3/lib/python3.9/site-packages (from transformers<=4.7.0,>=4.0.0->ltp) (2.26.0)\n",
      "Requirement already satisfied: pyyaml in /home/bit/anaconda3/lib/python3.9/site-packages (from transformers<=4.7.0,>=4.0.0->ltp) (6.0)\n",
      "Requirement already satisfied: sacremoses in /home/bit/anaconda3/lib/python3.9/site-packages (from transformers<=4.7.0,>=4.0.0->ltp) (0.0.46)\n",
      "Requirement already satisfied: tqdm>=4.27 in /home/bit/anaconda3/lib/python3.9/site-packages (from transformers<=4.7.0,>=4.0.0->ltp) (4.62.3)\n",
      "Requirement already satisfied: certifi>=2017.4.17 in /home/bit/anaconda3/lib/python3.9/site-packages (from requests->transformers<=4.7.0,>=4.0.0->ltp) (2021.10.8)\n",
      "Requirement already satisfied: idna<4,>=2.5 in /home/bit/anaconda3/lib/python3.9/site-packages (from requests->transformers<=4.7.0,>=4.0.0->ltp) (3.2)\n",
      "Requirement already satisfied: urllib3<1.27,>=1.21.1 in /home/bit/anaconda3/lib/python3.9/site-packages (from requests->transformers<=4.7.0,>=4.0.0->ltp) (1.26.7)\n",
      "Requirement already satisfied: charset-normalizer~=2.0.0 in /home/bit/anaconda3/lib/python3.9/site-packages (from requests->transformers<=4.7.0,>=4.0.0->ltp) (2.0.4)\n",
      "Requirement already satisfied: joblib in /home/bit/anaconda3/lib/python3.9/site-packages (from sacremoses->transformers<=4.7.0,>=4.0.0->ltp) (1.1.0)\n",
      "Requirement already satisfied: click in /home/bit/anaconda3/lib/python3.9/site-packages (from sacremoses->transformers<=4.7.0,>=4.0.0->ltp) (8.0.3)\n",
      "Requirement already satisfied: six in /home/bit/anaconda3/lib/python3.9/site-packages (from sacremoses->transformers<=4.7.0,>=4.0.0->ltp) (1.16.0)\n",
      "Python implementation: CPython\n",
      "Python version       : 3.9.7\n",
      "IPython version      : 7.29.0\n",
      "\n",
      "numpy       : 1.20.3\n",
      "pandas      : 1.3.4\n",
      "torch       : 1.10.0\n",
      "transformers: 4.7.0\n",
      "\n"
     ]
    }
   ],
   "source": [
    "!pip install ltp\n",
    "!pip install -q -U watermark\n",
    "!pip install -qq transformers\n",
    "%reload_ext watermark\n",
    "%watermark -v -p numpy,pandas,torch,transformers"
   ]
  },
  {
   "cell_type": "code",
   "execution_count": 3,
   "metadata": {
    "id": "pEHKZt-qRG5x"
   },
   "outputs": [
    {
     "data": {
      "text/plain": [
       "device(type='cuda', index=0)"
      ]
     },
     "execution_count": 3,
     "metadata": {},
     "output_type": "execute_result"
    }
   ],
   "source": [
    "#@title Setup & Config\n",
    "import transformers\n",
    "from transformers import BertModel, BertTokenizer, AdamW, get_linear_schedule_with_warmup\n",
    "import torch\n",
    "import unicodedata\n",
    "import numpy as np\n",
    "import pandas as pd\n",
    "import seaborn as sns\n",
    "from pylab import rcParams\n",
    "import matplotlib.pyplot as plt\n",
    "from matplotlib import rc\n",
    "from sklearn.model_selection import train_test_split\n",
    "from sklearn.metrics import confusion_matrix, classification_report\n",
    "from collections import defaultdict\n",
    "from textwrap import wrap\n",
    "\n",
    "from torch import nn, optim\n",
    "from torch.utils.data import Dataset, DataLoader\n",
    "import torch.nn.functional as F\n",
    "from sklearn.metrics import f1_score\n",
    "from torch.nn import TransformerEncoder, TransformerEncoderLayer\n",
    "from collections import Counter\n",
    "import ast\n",
    "import random\n",
    "\n",
    "\n",
    "%matplotlib inline\n",
    "%config InlineBackend.figure_format='retina'\n",
    "\n",
    "sns.set(style='whitegrid', palette='muted', font_scale=1.2)\n",
    "\n",
    "HAPPY_COLORS_PALETTE = [\"#01BEFE\", \"#FFDD00\", \"#FF7D00\", \"#FF006D\", \"#ADFF02\", \"#8F00FF\"]\n",
    "\n",
    "sns.set_palette(sns.color_palette(HAPPY_COLORS_PALETTE))\n",
    "\n",
    "rcParams['figure.figsize'] = 12, 8\n",
    "\n",
    "RANDOM_SEED = 42\n",
    "np.random.seed(RANDOM_SEED)\n",
    "torch.manual_seed(RANDOM_SEED)\n",
    "\n",
    "device = torch.device(\"cuda:0\" if torch.cuda.is_available() else \"cpu\")\n",
    "device"
   ]
  },
  {
   "cell_type": "markdown",
   "metadata": {
    "id": "HHAlx_DgsuY6"
   },
   "source": [
    "## New Section"
   ]
  },
  {
   "cell_type": "code",
   "execution_count": null,
   "metadata": {
    "id": "AoiHKtRV8EwC"
   },
   "outputs": [],
   "source": []
  },
  {
   "cell_type": "code",
   "execution_count": 4,
   "metadata": {
    "id": "2O_HqSb1Bon0"
   },
   "outputs": [],
   "source": [
    "# sns.countplot(df.label_norm)\n",
    "# plt.xlabel('review score');"
   ]
  },
  {
   "cell_type": "code",
   "execution_count": 5,
   "metadata": {
    "id": "xRdWcGGBFYTu"
   },
   "outputs": [],
   "source": [
    "from transformers import BertTokenizer,BertModel\n",
    "PRE_TRAINED_MODEL_NAME = \"hfl/chinese-roberta-wwm-ext\"\n",
    "# PRE_TRAINED_MODEL_NAME = \"hfl/chinese-roberta-wwm-ext-large\"\n",
    "# PRE_TRAINED_MODEL_NAME = \"hfl/chinese-bert-wwm-ext\"\n",
    "# PRE_TRAINED_MODEL_NAME = \"bert-base-uncased\"\n",
    "# PRE_TRAINED_MODEL_NAME = \"ProsusAI/finbert\"\n",
    "# PRE_TRAINED_MODEL_NAME = \"bert-base-chinese\"\n",
    "\n",
    "tokenizer = BertTokenizer.from_pretrained(PRE_TRAINED_MODEL_NAME,do_lower_case=True)\n",
    "PRE_TRAINED_MODEL_NAME = '/home/bit/stock/model/pretrained-bert/ROBERT_4_model.bin'"
   ]
  },
  {
   "cell_type": "markdown",
   "metadata": {
    "id": "T1rFrEyLP5Il"
   },
   "source": [
    "## Map the position of LTP to Bert tokens"
   ]
  },
  {
   "cell_type": "markdown",
   "metadata": {
    "id": "eg7yz0zXQujX"
   },
   "source": [
    "## Generating the masks of verb, A0, A1"
   ]
  },
  {
   "cell_type": "code",
   "execution_count": null,
   "metadata": {
    "id": "IWNPdn8fg4gG"
   },
   "outputs": [],
   "source": []
  },
  {
   "cell_type": "code",
   "execution_count": 6,
   "metadata": {
    "colab": {
     "background_save": true
    },
    "id": "c4joMCxJKR5a"
   },
   "outputs": [],
   "source": [
    "df_train = pd.read_csv('../data/pre/train.csv',sep='\\t')\n",
    "df_val = pd.read_csv('../data/pre/val.csv',sep='\\t')\n",
    "df_test = pd.read_csv('../data/pre/test.csv',sep='\\t')\n",
    "df_ood = pd.read_csv('../data/pre/ood.csv',sep='\\t')\n",
    "\n",
    "df_train = df_train.drop(df_train.loc[df_train.verbA0A1.isna()].index)\n",
    "df_test = df_test.drop(df_test.loc[df_test.verbA0A1.isna()].index)\n",
    "df_val = df_val.drop(df_val.loc[df_val.verbA0A1.isna()].index)\n",
    "df_ood = df_ood.drop(df_ood.loc[df_ood.verbA0A1.isna()].index)\n",
    "\n",
    "df_train = df_train.drop(df_train.loc[df_train.verbA0A1=='[]'].index)\n",
    "df_test = df_test.drop(df_test.loc[df_test.verbA0A1=='[]'].index)\n",
    "df_val = df_val.drop(df_val.loc[df_val.verbA0A1=='[]'].index)\n",
    "df_ood = df_ood.drop(df_ood.loc[df_ood.verbA0A1=='[]'].index)\n",
    "\n",
    "def string_to_tuples_list(text):\n",
    "  if text is np.nan or text =='[]':\n",
    "    return []\n",
    "  text = ''.join(text.split('], ['))\n",
    "  tmp = eval(text.strip('[').strip(']'))\n",
    "  if not isinstance(tmp[0],tuple):\n",
    "    return [tmp]\n",
    "  return list(tmp)\n",
    "\n",
    "\n",
    "\n",
    "\n",
    "\n",
    "for col in ['verb','A0','A1']:\n",
    "  df_train[col] = df_train[col].apply(string_to_tuples_list)\n",
    "  df_val[col] = df_val[col].apply(string_to_tuples_list)\n",
    "  df_test[col] = df_test[col].apply(string_to_tuples_list)\n",
    "  df_ood[col] = df_ood[col].apply(string_to_tuples_list)\n",
    "\n",
    "for col in ['stock_factors','verbA0A1']:\n",
    "# for col in ['verbA0A1']:\n",
    "  df_train[col] = df_train[col].apply(ast.literal_eval)\n",
    "  df_val[col] = df_val[col].apply(ast.literal_eval)\n",
    "  df_test[col] = df_test[col].apply(ast.literal_eval)\n",
    "  df_ood[col] = df_ood[col].apply(ast.literal_eval)\n",
    "\n",
    "\n",
    "\n",
    "def mask(df):\n",
    "  df = df.reset_index(drop = True)\n",
    "  df['verb_mask'] = 0\n",
    "  df['A0_mask'] = 0\n",
    "  df['A1_mask'] = 0\n",
    "  df['verb_mask'] = df['verb_mask'].astype('object')\n",
    "  df['A0_mask'] = df['A0_mask'].astype('object')\n",
    "  df['A1_mask'] = df['A1_mask'].astype('object')\n",
    "  for index,row in df.iterrows():\n",
    "\n",
    "    df.at[index,'stock_factors'] = [*map(float,df.loc[index,'stock_factors'])]\n",
    "    AV_num = 0\n",
    "    for k,col in enumerate(['verb','A0','A1']):\n",
    "      masks = []\n",
    "      for j in range(len(row['verbA0A1'])):\n",
    "        mask = np.zeros(299)\n",
    "        idx = []\n",
    "        for v in row['verbA0A1'][j][k]:\n",
    "          \n",
    "          idx = idx + [int(i) for i in range(v[0],v[0]+v[1])]\n",
    "        # idx = np.unique(idx).tolist()\n",
    "        counter = Counter(idx)\n",
    "\n",
    "        mask = [0 if counter[i]== 0 else 1/len(counter) for i in range(0,len(mask))]\n",
    "        mask.insert(0,0)\n",
    "        masks.append(mask)\n",
    "      AV_num = len(masks)\n",
    "      for i in range(10 - len(masks)):\n",
    "        masks.append(np.zeros(300))\n",
    "      while len(masks)>10:\n",
    "        masks.pop()\n",
    "      name = col+'_mask'\n",
    "      df.at[index,name] = np.array(masks)\n",
    "    if AV_num>10:\n",
    "      AV_num=10\n",
    "    df.loc[index,'AV_num'] = int(AV_num)\n",
    "  df.AV_num = df.AV_num.astype('int')\n",
    "  df.stock_factors = df.stock_factors.apply(np.array)\n",
    "  return df\n",
    "\n",
    "\n",
    "df_train = mask(df_train)\n",
    "df_test = mask(df_test)\n",
    "df_val = mask(df_val)\n",
    "df_ood = mask(df_ood)"
   ]
  },
  {
   "cell_type": "code",
   "execution_count": 7,
   "metadata": {
    "colab": {
     "background_save": true
    },
    "id": "bnCu_pWRk8Ba"
   },
   "outputs": [
    {
     "data": {
      "text/html": [
       "<div>\n",
       "<style scoped>\n",
       "    .dataframe tbody tr th:only-of-type {\n",
       "        vertical-align: middle;\n",
       "    }\n",
       "\n",
       "    .dataframe tbody tr th {\n",
       "        vertical-align: top;\n",
       "    }\n",
       "\n",
       "    .dataframe thead th {\n",
       "        text-align: right;\n",
       "    }\n",
       "</style>\n",
       "<table border=\"1\" class=\"dataframe\">\n",
       "  <thead>\n",
       "    <tr style=\"text-align: right;\">\n",
       "      <th></th>\n",
       "      <th>CODE</th>\n",
       "      <th>NAME</th>\n",
       "      <th>DATE</th>\n",
       "      <th>CREATED_DATE</th>\n",
       "      <th>text_a</th>\n",
       "      <th>DESCRIPTION</th>\n",
       "      <th>READ</th>\n",
       "      <th>MARKET</th>\n",
       "      <th>CHANGE</th>\n",
       "      <th>FIRST_DAY</th>\n",
       "      <th>...</th>\n",
       "      <th>verb_mask</th>\n",
       "      <th>A0_mask</th>\n",
       "      <th>A1_mask</th>\n",
       "      <th>AV_num</th>\n",
       "      <th>trade_date</th>\n",
       "      <th>open_close_chg</th>\n",
       "      <th>co_label</th>\n",
       "      <th>cc_label</th>\n",
       "      <th>stock_factors</th>\n",
       "      <th>label</th>\n",
       "    </tr>\n",
       "  </thead>\n",
       "  <tbody>\n",
       "    <tr>\n",
       "      <th>0</th>\n",
       "      <td>600006</td>\n",
       "      <td>东风汽车</td>\n",
       "      <td>2021-04-02 16:37:00</td>\n",
       "      <td>2021-04-02 16:33:00</td>\n",
       "      <td>东风汽车公告，3月汽车销量为2.31万辆，上年同期为1.37万辆，同比增长68.74%；一季...</td>\n",
       "      <td>东风汽车公告，3月汽车销量为2.31万辆，上年同期为1.37万辆，同比增长68.74%；一季...</td>\n",
       "      <td>4155194.0</td>\n",
       "      <td>1.0</td>\n",
       "      <td>0.003175</td>\n",
       "      <td>2021-04-02</td>\n",
       "      <td>...</td>\n",
       "      <td>[[0.0, 0.0, 0.0, 0.0, 0.0, 0.0, 0.0, 0.0, 0.0,...</td>\n",
       "      <td>[[0.0, 0.0, 0.0, 0.0, 0.0, 0.0, 0.0, 0.0, 0.0,...</td>\n",
       "      <td>[[0.0, 0.0, 0.0, 0.0, 0.0, 0.0, 0.0, 0.0, 0.0,...</td>\n",
       "      <td>2</td>\n",
       "      <td>2021-04-02</td>\n",
       "      <td>0.134491</td>\n",
       "      <td>0.0</td>\n",
       "      <td>1.0</td>\n",
       "      <td>[-0.3020583603065712, -0.2981298667692732, -0....</td>\n",
       "      <td>1</td>\n",
       "    </tr>\n",
       "    <tr>\n",
       "      <th>1</th>\n",
       "      <td>601880</td>\n",
       "      <td>大连港</td>\n",
       "      <td>2021-01-11 18:47:00</td>\n",
       "      <td>2021-01-11 18:47:00</td>\n",
       "      <td>营口港公告，公司发布了《营口港务股份有限公司关于大连港股份有限公司换股吸收合并公司并募集配套...</td>\n",
       "      <td>营口港公告，公司发布了《营口港务股份有限公司关于大连港股份有限公司换股吸收合并公司并募集配套...</td>\n",
       "      <td>5379661.0</td>\n",
       "      <td>1.0</td>\n",
       "      <td>0.000000</td>\n",
       "      <td>2021-01-11</td>\n",
       "      <td>...</td>\n",
       "      <td>[[0.0, 0.0, 0.0, 0.0, 0.0, 0.0, 0.0, 0.0, 0.0,...</td>\n",
       "      <td>[[0.0, 0.0, 0.0, 0.0, 0.0, 0.0, 0.0, 0.5, 0.5,...</td>\n",
       "      <td>[[0.0, 0.0, 0.0, 0.0, 0.0, 0.0, 0.0, 0.0, 0.0,...</td>\n",
       "      <td>4</td>\n",
       "      <td>2021-01-11</td>\n",
       "      <td>0.210301</td>\n",
       "      <td>2.0</td>\n",
       "      <td>3.0</td>\n",
       "      <td>[-0.3868333706631927, -0.3828631887629431, -0....</td>\n",
       "      <td>1</td>\n",
       "    </tr>\n",
       "    <tr>\n",
       "      <th>2</th>\n",
       "      <td>2271</td>\n",
       "      <td>东方雨虹</td>\n",
       "      <td>2021-02-07 16:55:00</td>\n",
       "      <td>2021-02-07 16:55:00</td>\n",
       "      <td>东方雨虹公告，非公开发行股票申请获得中国证监会核准批文。</td>\n",
       "      <td>东方雨虹公告，非公开发行股票申请获得中国证监会核准批文。</td>\n",
       "      <td>5442991.0</td>\n",
       "      <td>0.0</td>\n",
       "      <td>-0.014683</td>\n",
       "      <td>2021-02-05</td>\n",
       "      <td>...</td>\n",
       "      <td>[[0.0, 0.0, 0.0, 0.0, 0.0, 0.0, 0.0, 0.0, 0.0,...</td>\n",
       "      <td>[[0.0, 0.0, 0.0, 0.0, 0.0, 0.0, 0.0, 0.0, 0.11...</td>\n",
       "      <td>[[0.0, 0.0, 0.0, 0.0, 0.0, 0.0, 0.0, 0.0, 0.0,...</td>\n",
       "      <td>1</td>\n",
       "      <td>2021-02-05</td>\n",
       "      <td>-1.108554</td>\n",
       "      <td>0.0</td>\n",
       "      <td>1.0</td>\n",
       "      <td>[0.5756114363380322, 0.5596214058343731, 0.558...</td>\n",
       "      <td>0</td>\n",
       "    </tr>\n",
       "    <tr>\n",
       "      <th>3</th>\n",
       "      <td>603486</td>\n",
       "      <td>科沃斯</td>\n",
       "      <td>2021-01-18 18:26:00</td>\n",
       "      <td>2021-01-18 18:18:00</td>\n",
       "      <td>科沃斯公告，公司持股4.12%的股东泰怡凱電器有限公司拟减持不超过1693.10万股，即不超...</td>\n",
       "      <td>科沃斯公告，公司持股4.12%的股东泰怡凱電器有限公司拟减持不超过1693.10万股，即不超...</td>\n",
       "      <td>5457064.0</td>\n",
       "      <td>1.0</td>\n",
       "      <td>-0.045938</td>\n",
       "      <td>2021-01-18</td>\n",
       "      <td>...</td>\n",
       "      <td>[[0.0, 0.0, 0.0, 0.0, 0.0, 0.0, 0.0, 0.0, 0.0,...</td>\n",
       "      <td>[[0.0, 0.0, 0.0, 0.0, 0.0, 0.0, 0.0, 0.05, 0.0...</td>\n",
       "      <td>[[0.0, 0.0, 0.0, 0.0, 0.0, 0.0, 0.0, 0.0, 0.0,...</td>\n",
       "      <td>1</td>\n",
       "      <td>2021-01-18</td>\n",
       "      <td>-3.260698</td>\n",
       "      <td>0.0</td>\n",
       "      <td>0.0</td>\n",
       "      <td>[1.8006385305400538, 1.7302126454124178, 1.655...</td>\n",
       "      <td>0</td>\n",
       "    </tr>\n",
       "    <tr>\n",
       "      <th>4</th>\n",
       "      <td>600319</td>\n",
       "      <td>ST亚星</td>\n",
       "      <td>2021-01-17 19:21:00</td>\n",
       "      <td>2021-01-17 19:20:00</td>\n",
       "      <td>ST亚星公告，公司收上交所问询函，此前公司称拟终止筹划重大资产重组暨签订现金收购景芝酒业白酒...</td>\n",
       "      <td>ST亚星公告，公司收上交所问询函，此前公司称拟终止筹划重大资产重组暨签订现金收购景芝酒业白酒...</td>\n",
       "      <td>5456051.0</td>\n",
       "      <td>1.0</td>\n",
       "      <td>-0.049869</td>\n",
       "      <td>2021-01-15</td>\n",
       "      <td>...</td>\n",
       "      <td>[[0.0, 0.0, 0.0, 0.0, 0.0, 0.0, 0.0, 0.0, 0.0,...</td>\n",
       "      <td>[[0.0, 0.0, 0.0, 0.0, 0.0, 0.0, 0.0, 0.0, 0.0,...</td>\n",
       "      <td>[[0.0, 0.0, 0.0, 0.0, 0.0, 0.0, 0.0, 0.0, 0.0,...</td>\n",
       "      <td>2</td>\n",
       "      <td>2021-01-15</td>\n",
       "      <td>-3.283389</td>\n",
       "      <td>4.0</td>\n",
       "      <td>4.0</td>\n",
       "      <td>[-0.2663411732838291, -0.2732655989281695, -0....</td>\n",
       "      <td>0</td>\n",
       "    </tr>\n",
       "    <tr>\n",
       "      <th>...</th>\n",
       "      <td>...</td>\n",
       "      <td>...</td>\n",
       "      <td>...</td>\n",
       "      <td>...</td>\n",
       "      <td>...</td>\n",
       "      <td>...</td>\n",
       "      <td>...</td>\n",
       "      <td>...</td>\n",
       "      <td>...</td>\n",
       "      <td>...</td>\n",
       "      <td>...</td>\n",
       "      <td>...</td>\n",
       "      <td>...</td>\n",
       "      <td>...</td>\n",
       "      <td>...</td>\n",
       "      <td>...</td>\n",
       "      <td>...</td>\n",
       "      <td>...</td>\n",
       "      <td>...</td>\n",
       "      <td>...</td>\n",
       "      <td>...</td>\n",
       "    </tr>\n",
       "    <tr>\n",
       "      <th>10152</th>\n",
       "      <td>600145</td>\n",
       "      <td>ST新亿</td>\n",
       "      <td>2021-10-22 19:56:00</td>\n",
       "      <td>2021-10-22 19:56:00</td>\n",
       "      <td>财联社10月22日电，*ST新亿公告，为完善公司上下游产业链、充分发挥业务协同效应，公司拟以...</td>\n",
       "      <td>财联社10月22日电，*ST新亿公告，为完善公司上下游产业链、充分发挥业务协同效应，公司拟以...</td>\n",
       "      <td>4101094.0</td>\n",
       "      <td>1.0</td>\n",
       "      <td>-0.051402</td>\n",
       "      <td>2021-10-22</td>\n",
       "      <td>...</td>\n",
       "      <td>[[0.0, 0.0, 0.0, 0.0, 0.0, 0.0, 0.0, 0.0, 0.0,...</td>\n",
       "      <td>[[0.0, 0.0, 0.0, 0.0, 0.0, 0.0, 0.0, 0.0, 0.0,...</td>\n",
       "      <td>[[0.0, 0.0, 0.0, 0.0, 0.0, 0.0, 0.0, 0.0, 0.0,...</td>\n",
       "      <td>2</td>\n",
       "      <td>2021-10-22</td>\n",
       "      <td>-3.608760</td>\n",
       "      <td>3.0</td>\n",
       "      <td>2.0</td>\n",
       "      <td>[-0.4203033873993377, -0.4186988773845758, -0....</td>\n",
       "      <td>0</td>\n",
       "    </tr>\n",
       "    <tr>\n",
       "      <th>10153</th>\n",
       "      <td>600556</td>\n",
       "      <td>天下秀</td>\n",
       "      <td>2021-08-16 18:01:00</td>\n",
       "      <td>2021-08-16 18:01:00</td>\n",
       "      <td>天下秀发布半年报，上半年营业收入21.51亿元，同比增长62.89%；净利润2.12亿元，同...</td>\n",
       "      <td>天下秀发布半年报，上半年营业收入21.51亿元，同比增长62.89%；净利润2.12亿元，同...</td>\n",
       "      <td>3474014.0</td>\n",
       "      <td>1.0</td>\n",
       "      <td>0.026824</td>\n",
       "      <td>2021-08-16</td>\n",
       "      <td>...</td>\n",
       "      <td>[[0.0, 0.0, 0.0, 0.0, 0.5, 0.5, 0.0, 0.0, 0.0,...</td>\n",
       "      <td>[[0.0, 0.3333333333333333, 0.3333333333333333,...</td>\n",
       "      <td>[[0.0, 0.0, 0.0, 0.0, 0.0, 0.0, 0.333333333333...</td>\n",
       "      <td>1</td>\n",
       "      <td>2021-08-16</td>\n",
       "      <td>2.342080</td>\n",
       "      <td>4.0</td>\n",
       "      <td>4.0</td>\n",
       "      <td>[-0.3103613199188795, -0.3021849650921364, -0....</td>\n",
       "      <td>2</td>\n",
       "    </tr>\n",
       "    <tr>\n",
       "      <th>10154</th>\n",
       "      <td>600436</td>\n",
       "      <td>片仔癀</td>\n",
       "      <td>2021-07-21 19:24:00</td>\n",
       "      <td>2021-07-21 19:18:00</td>\n",
       "      <td>片仔癀公告，公司控股股东九龙江集团计划15个交易日后的3个月内，通过集中竞价交易方式减持不超...</td>\n",
       "      <td>片仔癀公告，公司控股股东九龙江集团计划15个交易日后的3个月内，通过集中竞价交易方式减持不超...</td>\n",
       "      <td>3865616.0</td>\n",
       "      <td>1.0</td>\n",
       "      <td>-0.030076</td>\n",
       "      <td>2021-07-21</td>\n",
       "      <td>...</td>\n",
       "      <td>[[0.0, 0.0, 0.0, 0.0, 0.0, 0.0, 0.0, 0.0, 0.0,...</td>\n",
       "      <td>[[0.0, 0.0, 0.0, 0.0, 0.0, 0.0, 0.0, 0.0, 0.0,...</td>\n",
       "      <td>[[0.0, 0.0, 0.0, 0.0, 0.0, 0.0, 0.0, 0.0, 0.0,...</td>\n",
       "      <td>1</td>\n",
       "      <td>2021-07-21</td>\n",
       "      <td>-2.701139</td>\n",
       "      <td>4.0</td>\n",
       "      <td>4.0</td>\n",
       "      <td>[7.393108504044611, 7.494173552530666, 7.49465...</td>\n",
       "      <td>0</td>\n",
       "    </tr>\n",
       "    <tr>\n",
       "      <th>10155</th>\n",
       "      <td>2982</td>\n",
       "      <td>湘佳股份</td>\n",
       "      <td>2021-05-07 19:40:00</td>\n",
       "      <td>2021-05-07 19:40:00</td>\n",
       "      <td>湘佳股份公告，公司2021年4月销售活禽298.95万只，销售收入6138.70万元，销售均...</td>\n",
       "      <td>湘佳股份公告，公司2021年4月销售活禽298.95万只，销售收入6138.70万元，销售均...</td>\n",
       "      <td>4120895.0</td>\n",
       "      <td>0.0</td>\n",
       "      <td>0.004317</td>\n",
       "      <td>2021-05-07</td>\n",
       "      <td>...</td>\n",
       "      <td>[[0.0, 0.0, 0.0, 0.0, 0.0, 0.0, 0.0, 0.0, 0.0,...</td>\n",
       "      <td>[[0.0, 0.0, 0.0, 0.0, 0.0, 0.0, 0.0, 0.0, 0.5,...</td>\n",
       "      <td>[[0.0, 0.0, 0.0, 0.0, 0.0, 0.0, 0.0, 0.0, 0.0,...</td>\n",
       "      <td>2</td>\n",
       "      <td>2021-05-07</td>\n",
       "      <td>0.247811</td>\n",
       "      <td>0.0</td>\n",
       "      <td>1.0</td>\n",
       "      <td>[0.4058399063708051, 0.4076937866227962, 0.427...</td>\n",
       "      <td>1</td>\n",
       "    </tr>\n",
       "    <tr>\n",
       "      <th>10156</th>\n",
       "      <td>600781</td>\n",
       "      <td>ST辅仁</td>\n",
       "      <td>2021-08-31 15:10:00</td>\n",
       "      <td>2021-08-30 20:13:00</td>\n",
       "      <td>财联社8月30日电，ST辅仁发布半年报，上半年归属于母公司所有者的净利润亏损2.94亿元，上...</td>\n",
       "      <td>财联社8月30日电，ST辅仁发布半年报，上半年归属于母公司所有者的净利润亏损2.94亿元，上...</td>\n",
       "      <td>3798845.0</td>\n",
       "      <td>1.0</td>\n",
       "      <td>-0.050139</td>\n",
       "      <td>2021-08-31</td>\n",
       "      <td>...</td>\n",
       "      <td>[[0.0, 0.0, 0.0, 0.0, 0.0, 0.0, 0.0, 0.0, 0.0,...</td>\n",
       "      <td>[[0.0, 0.0, 0.0, 0.0, 0.0, 0.0, 0.0, 0.0, 0.0,...</td>\n",
       "      <td>[[0.0, 0.0, 0.0, 0.0, 0.0, 0.0, 0.0, 0.0, 0.0,...</td>\n",
       "      <td>1</td>\n",
       "      <td>2021-08-31</td>\n",
       "      <td>-4.001741</td>\n",
       "      <td>0.0</td>\n",
       "      <td>0.0</td>\n",
       "      <td>[-0.4058427750124316, -0.4087848325644312, -0....</td>\n",
       "      <td>0</td>\n",
       "    </tr>\n",
       "  </tbody>\n",
       "</table>\n",
       "<p>10157 rows × 41 columns</p>\n",
       "</div>"
      ],
      "text/plain": [
       "         CODE  NAME                 DATE         CREATED_DATE  \\\n",
       "0      600006  东风汽车  2021-04-02 16:37:00  2021-04-02 16:33:00   \n",
       "1      601880   大连港  2021-01-11 18:47:00  2021-01-11 18:47:00   \n",
       "2        2271  东方雨虹  2021-02-07 16:55:00  2021-02-07 16:55:00   \n",
       "3      603486   科沃斯  2021-01-18 18:26:00  2021-01-18 18:18:00   \n",
       "4      600319  ST亚星  2021-01-17 19:21:00  2021-01-17 19:20:00   \n",
       "...       ...   ...                  ...                  ...   \n",
       "10152  600145  ST新亿  2021-10-22 19:56:00  2021-10-22 19:56:00   \n",
       "10153  600556   天下秀  2021-08-16 18:01:00  2021-08-16 18:01:00   \n",
       "10154  600436   片仔癀  2021-07-21 19:24:00  2021-07-21 19:18:00   \n",
       "10155    2982  湘佳股份  2021-05-07 19:40:00  2021-05-07 19:40:00   \n",
       "10156  600781  ST辅仁  2021-08-31 15:10:00  2021-08-30 20:13:00   \n",
       "\n",
       "                                                  text_a  \\\n",
       "0      东风汽车公告，3月汽车销量为2.31万辆，上年同期为1.37万辆，同比增长68.74%；一季...   \n",
       "1      营口港公告，公司发布了《营口港务股份有限公司关于大连港股份有限公司换股吸收合并公司并募集配套...   \n",
       "2                           东方雨虹公告，非公开发行股票申请获得中国证监会核准批文。   \n",
       "3      科沃斯公告，公司持股4.12%的股东泰怡凱電器有限公司拟减持不超过1693.10万股，即不超...   \n",
       "4      ST亚星公告，公司收上交所问询函，此前公司称拟终止筹划重大资产重组暨签订现金收购景芝酒业白酒...   \n",
       "...                                                  ...   \n",
       "10152  财联社10月22日电，*ST新亿公告，为完善公司上下游产业链、充分发挥业务协同效应，公司拟以...   \n",
       "10153  天下秀发布半年报，上半年营业收入21.51亿元，同比增长62.89%；净利润2.12亿元，同...   \n",
       "10154  片仔癀公告，公司控股股东九龙江集团计划15个交易日后的3个月内，通过集中竞价交易方式减持不超...   \n",
       "10155  湘佳股份公告，公司2021年4月销售活禽298.95万只，销售收入6138.70万元，销售均...   \n",
       "10156  财联社8月30日电，ST辅仁发布半年报，上半年归属于母公司所有者的净利润亏损2.94亿元，上...   \n",
       "\n",
       "                                             DESCRIPTION       READ  MARKET  \\\n",
       "0      东风汽车公告，3月汽车销量为2.31万辆，上年同期为1.37万辆，同比增长68.74%；一季...  4155194.0     1.0   \n",
       "1      营口港公告，公司发布了《营口港务股份有限公司关于大连港股份有限公司换股吸收合并公司并募集配套...  5379661.0     1.0   \n",
       "2                           东方雨虹公告，非公开发行股票申请获得中国证监会核准批文。  5442991.0     0.0   \n",
       "3      科沃斯公告，公司持股4.12%的股东泰怡凱電器有限公司拟减持不超过1693.10万股，即不超...  5457064.0     1.0   \n",
       "4      ST亚星公告，公司收上交所问询函，此前公司称拟终止筹划重大资产重组暨签订现金收购景芝酒业白酒...  5456051.0     1.0   \n",
       "...                                                  ...        ...     ...   \n",
       "10152  财联社10月22日电，*ST新亿公告，为完善公司上下游产业链、充分发挥业务协同效应，公司拟以...  4101094.0     1.0   \n",
       "10153  天下秀发布半年报，上半年营业收入21.51亿元，同比增长62.89%；净利润2.12亿元，同...  3474014.0     1.0   \n",
       "10154  片仔癀公告，公司控股股东九龙江集团计划15个交易日后的3个月内，通过集中竞价交易方式减持不超...  3865616.0     1.0   \n",
       "10155  湘佳股份公告，公司2021年4月销售活禽298.95万只，销售收入6138.70万元，销售均...  4120895.0     0.0   \n",
       "10156  财联社8月30日电，ST辅仁发布半年报，上半年归属于母公司所有者的净利润亏损2.94亿元，上...  3798845.0     1.0   \n",
       "\n",
       "         CHANGE   FIRST_DAY  ...  \\\n",
       "0      0.003175  2021-04-02  ...   \n",
       "1      0.000000  2021-01-11  ...   \n",
       "2     -0.014683  2021-02-05  ...   \n",
       "3     -0.045938  2021-01-18  ...   \n",
       "4     -0.049869  2021-01-15  ...   \n",
       "...         ...         ...  ...   \n",
       "10152 -0.051402  2021-10-22  ...   \n",
       "10153  0.026824  2021-08-16  ...   \n",
       "10154 -0.030076  2021-07-21  ...   \n",
       "10155  0.004317  2021-05-07  ...   \n",
       "10156 -0.050139  2021-08-31  ...   \n",
       "\n",
       "                                               verb_mask  \\\n",
       "0      [[0.0, 0.0, 0.0, 0.0, 0.0, 0.0, 0.0, 0.0, 0.0,...   \n",
       "1      [[0.0, 0.0, 0.0, 0.0, 0.0, 0.0, 0.0, 0.0, 0.0,...   \n",
       "2      [[0.0, 0.0, 0.0, 0.0, 0.0, 0.0, 0.0, 0.0, 0.0,...   \n",
       "3      [[0.0, 0.0, 0.0, 0.0, 0.0, 0.0, 0.0, 0.0, 0.0,...   \n",
       "4      [[0.0, 0.0, 0.0, 0.0, 0.0, 0.0, 0.0, 0.0, 0.0,...   \n",
       "...                                                  ...   \n",
       "10152  [[0.0, 0.0, 0.0, 0.0, 0.0, 0.0, 0.0, 0.0, 0.0,...   \n",
       "10153  [[0.0, 0.0, 0.0, 0.0, 0.5, 0.5, 0.0, 0.0, 0.0,...   \n",
       "10154  [[0.0, 0.0, 0.0, 0.0, 0.0, 0.0, 0.0, 0.0, 0.0,...   \n",
       "10155  [[0.0, 0.0, 0.0, 0.0, 0.0, 0.0, 0.0, 0.0, 0.0,...   \n",
       "10156  [[0.0, 0.0, 0.0, 0.0, 0.0, 0.0, 0.0, 0.0, 0.0,...   \n",
       "\n",
       "                                                 A0_mask  \\\n",
       "0      [[0.0, 0.0, 0.0, 0.0, 0.0, 0.0, 0.0, 0.0, 0.0,...   \n",
       "1      [[0.0, 0.0, 0.0, 0.0, 0.0, 0.0, 0.0, 0.5, 0.5,...   \n",
       "2      [[0.0, 0.0, 0.0, 0.0, 0.0, 0.0, 0.0, 0.0, 0.11...   \n",
       "3      [[0.0, 0.0, 0.0, 0.0, 0.0, 0.0, 0.0, 0.05, 0.0...   \n",
       "4      [[0.0, 0.0, 0.0, 0.0, 0.0, 0.0, 0.0, 0.0, 0.0,...   \n",
       "...                                                  ...   \n",
       "10152  [[0.0, 0.0, 0.0, 0.0, 0.0, 0.0, 0.0, 0.0, 0.0,...   \n",
       "10153  [[0.0, 0.3333333333333333, 0.3333333333333333,...   \n",
       "10154  [[0.0, 0.0, 0.0, 0.0, 0.0, 0.0, 0.0, 0.0, 0.0,...   \n",
       "10155  [[0.0, 0.0, 0.0, 0.0, 0.0, 0.0, 0.0, 0.0, 0.5,...   \n",
       "10156  [[0.0, 0.0, 0.0, 0.0, 0.0, 0.0, 0.0, 0.0, 0.0,...   \n",
       "\n",
       "                                                 A1_mask  AV_num  trade_date  \\\n",
       "0      [[0.0, 0.0, 0.0, 0.0, 0.0, 0.0, 0.0, 0.0, 0.0,...       2  2021-04-02   \n",
       "1      [[0.0, 0.0, 0.0, 0.0, 0.0, 0.0, 0.0, 0.0, 0.0,...       4  2021-01-11   \n",
       "2      [[0.0, 0.0, 0.0, 0.0, 0.0, 0.0, 0.0, 0.0, 0.0,...       1  2021-02-05   \n",
       "3      [[0.0, 0.0, 0.0, 0.0, 0.0, 0.0, 0.0, 0.0, 0.0,...       1  2021-01-18   \n",
       "4      [[0.0, 0.0, 0.0, 0.0, 0.0, 0.0, 0.0, 0.0, 0.0,...       2  2021-01-15   \n",
       "...                                                  ...     ...         ...   \n",
       "10152  [[0.0, 0.0, 0.0, 0.0, 0.0, 0.0, 0.0, 0.0, 0.0,...       2  2021-10-22   \n",
       "10153  [[0.0, 0.0, 0.0, 0.0, 0.0, 0.0, 0.333333333333...       1  2021-08-16   \n",
       "10154  [[0.0, 0.0, 0.0, 0.0, 0.0, 0.0, 0.0, 0.0, 0.0,...       1  2021-07-21   \n",
       "10155  [[0.0, 0.0, 0.0, 0.0, 0.0, 0.0, 0.0, 0.0, 0.0,...       2  2021-05-07   \n",
       "10156  [[0.0, 0.0, 0.0, 0.0, 0.0, 0.0, 0.0, 0.0, 0.0,...       1  2021-08-31   \n",
       "\n",
       "       open_close_chg  co_label cc_label  \\\n",
       "0            0.134491       0.0      1.0   \n",
       "1            0.210301       2.0      3.0   \n",
       "2           -1.108554       0.0      1.0   \n",
       "3           -3.260698       0.0      0.0   \n",
       "4           -3.283389       4.0      4.0   \n",
       "...               ...       ...      ...   \n",
       "10152       -3.608760       3.0      2.0   \n",
       "10153        2.342080       4.0      4.0   \n",
       "10154       -2.701139       4.0      4.0   \n",
       "10155        0.247811       0.0      1.0   \n",
       "10156       -4.001741       0.0      0.0   \n",
       "\n",
       "                                           stock_factors  label  \n",
       "0      [-0.3020583603065712, -0.2981298667692732, -0....      1  \n",
       "1      [-0.3868333706631927, -0.3828631887629431, -0....      1  \n",
       "2      [0.5756114363380322, 0.5596214058343731, 0.558...      0  \n",
       "3      [1.8006385305400538, 1.7302126454124178, 1.655...      0  \n",
       "4      [-0.2663411732838291, -0.2732655989281695, -0....      0  \n",
       "...                                                  ...    ...  \n",
       "10152  [-0.4203033873993377, -0.4186988773845758, -0....      0  \n",
       "10153  [-0.3103613199188795, -0.3021849650921364, -0....      2  \n",
       "10154  [7.393108504044611, 7.494173552530666, 7.49465...      0  \n",
       "10155  [0.4058399063708051, 0.4076937866227962, 0.427...      1  \n",
       "10156  [-0.4058427750124316, -0.4087848325644312, -0....      0  \n",
       "\n",
       "[10157 rows x 41 columns]"
      ]
     },
     "execution_count": 7,
     "metadata": {},
     "output_type": "execute_result"
    }
   ],
   "source": [
    "df_ood"
   ]
  },
  {
   "cell_type": "code",
   "execution_count": 8,
   "metadata": {
    "colab": {
     "background_save": true
    },
    "id": "xYTC1elyHlS7"
   },
   "outputs": [],
   "source": [
    "# from ltp import LTP\n",
    "# ltp = LTP()\n",
    "# a = tokenizer.tokenize(df_train.loc[4,'text_a'])\n",
    "# for idx,i in enumerate(df_train.verb_mask[4][2]):\n",
    "#   if i != 0:\n",
    "#     print(a[idx-1])\n",
    "# seg,hidden = ltp.seg([df_train.loc[4,'text_a']])\n",
    "# srl = ltp.srl(hidden)\n",
    "# def list_to_string(a):\n",
    "#   return ''.join(a)\n",
    "# for i,s in enumerate(srl[0]):\n",
    "#   if len(s)!=0:\n",
    "#     print(f'verb: {seg[0][i]} arv: ({[[ar[0], list_to_string([str(seg[0][k]) for k in range(ar[1],ar[2]+1)])] for ar in srl[0][i]]})')"
   ]
  },
  {
   "cell_type": "code",
   "execution_count": 9,
   "metadata": {
    "colab": {
     "background_save": true
    },
    "id": "AmtpSQB2PTkC"
   },
   "outputs": [],
   "source": [
    "# df_train.shape, df_val.shape, df_test.shape"
   ]
  },
  {
   "cell_type": "markdown",
   "metadata": {
    "id": "ajOfqpcWRBt9"
   },
   "source": [
    "## Creat Dataloader"
   ]
  },
  {
   "cell_type": "code",
   "execution_count": null,
   "metadata": {
    "colab": {
     "background_save": true
    },
    "id": "ch_klsfERBI6"
   },
   "outputs": [],
   "source": []
  },
  {
   "cell_type": "code",
   "execution_count": 10,
   "metadata": {
    "colab": {
     "background_save": true
    },
    "id": "WaKd7JaTy2gw"
   },
   "outputs": [],
   "source": [
    "max_len = 300\n",
    "class_names = ['negative','neutral', 'positive']\n",
    "class GPReviewDataset(Dataset):\n",
    "\n",
    "  def __init__(self, reviews, targets,verb,A0,A1,AV_num,tokenizer,stock_factors, max_len):\n",
    "    self.reviews = reviews\n",
    "    self.targets = targets\n",
    "    self.stock_factors = stock_factors\n",
    "    self.verb = verb\n",
    "    self.A0 = A0\n",
    "    self.A1 = A1\n",
    "    self.AV_num = AV_num\n",
    "    self.tokenizer = tokenizer\n",
    "    self.max_len = max_len\n",
    "  \n",
    "  def __len__(self):\n",
    "    return len(self.reviews)\n",
    "  \n",
    "  def __getitem__(self, item):\n",
    "    review = str(self.reviews[item])\n",
    "    target = self.targets[item]\n",
    "    stock_factors = self.stock_factors[item]\n",
    "    v = self.verb[item]\n",
    "    a0 = self.A0[item]\n",
    "    a1 = self.A1[item]\n",
    "    av_num = self.AV_num[item]\n",
    "\n",
    "    encoding = self.tokenizer.encode_plus(\n",
    "      review,\n",
    "      add_special_tokens=True,\n",
    "      max_length=self.max_len,\n",
    "      return_token_type_ids=False,\n",
    "      padding='max_length',\n",
    "      truncation=True,\n",
    "      return_attention_mask=True,\n",
    "      return_tensors='pt',\n",
    "    )\n",
    "\n",
    "    return {\n",
    "      'review_text': review,\n",
    "      'input_ids': encoding['input_ids'].flatten(),\n",
    "      'attention_mask': encoding['attention_mask'].flatten(),\n",
    "      'targets': torch.tensor(target, dtype=torch.long),\n",
    "      'stock_factors':torch.tensor(stock_factors),\n",
    "      'verb': torch.tensor(v),\n",
    "      'A0': torch.tensor(a0),\n",
    "      'A1': torch.tensor(a1),\n",
    "      'AV_num': torch.tensor(av_num)\n",
    "    }"
   ]
  },
  {
   "cell_type": "code",
   "execution_count": 11,
   "metadata": {
    "colab": {
     "background_save": true
    },
    "id": "cPZSIigpPtEr"
   },
   "outputs": [],
   "source": [
    "def create_data_loader(df, tokenizer, max_len, batch_size):\n",
    "  ds = GPReviewDataset(\n",
    "    reviews=df.text_a.to_numpy(),\n",
    "    targets=df.label.to_numpy(),\n",
    "    stock_factors = df.stock_factors,\n",
    "    verb = df.verb_mask,\n",
    "    A0 = df.A0_mask,\n",
    "    A1 = df.A1_mask,\n",
    "    AV_num = df.AV_num,\n",
    "    tokenizer=tokenizer,\n",
    "    max_len=max_len\n",
    "  )\n",
    "\n",
    "  return DataLoader(\n",
    "    ds,\n",
    "    batch_size=batch_size,\n",
    "    # num_workers=4,\n",
    "    shuffle=True\n",
    "  )"
   ]
  },
  {
   "cell_type": "code",
   "execution_count": 12,
   "metadata": {
    "colab": {
     "background_save": true
    },
    "id": "4bMEUzcABFvn"
   },
   "outputs": [],
   "source": [
    "BATCH_SIZE = 16\n",
    "\n",
    "\n",
    "df_train = df_train.reset_index(drop=True)\n",
    "df_test = df_test.reset_index(drop=True)\n",
    "df_val = df_val.reset_index(drop=True)\n",
    "df_ood = df_ood.reset_index(drop=True)\n",
    "\n",
    "\n",
    "\n",
    "train_data_loader = create_data_loader(df_train, tokenizer, max_len, BATCH_SIZE)\n",
    "val_data_loader = create_data_loader(df_val, tokenizer, max_len, BATCH_SIZE)\n",
    "test_data_loader = create_data_loader(df_test, tokenizer, max_len, BATCH_SIZE)\n",
    "ood_data_loader = create_data_loader(df_ood, tokenizer, max_len, BATCH_SIZE)"
   ]
  },
  {
   "cell_type": "code",
   "execution_count": 13,
   "metadata": {
    "colab": {
     "background_save": true
    },
    "id": "vDjd-DrAUt-d"
   },
   "outputs": [
    {
     "data": {
      "text/plain": [
       "dict_keys(['review_text', 'input_ids', 'attention_mask', 'targets', 'stock_factors', 'verb', 'A0', 'A1', 'AV_num'])"
      ]
     },
     "execution_count": 13,
     "metadata": {},
     "output_type": "execute_result"
    }
   ],
   "source": [
    "data = next(iter(train_data_loader))\n",
    "data.keys()"
   ]
  },
  {
   "cell_type": "code",
   "execution_count": 14,
   "metadata": {
    "colab": {
     "background_save": true
    },
    "id": "bidtjT6UEKkk"
   },
   "outputs": [
    {
     "name": "stderr",
     "output_type": "stream",
     "text": [
      "Some weights of the model checkpoint at /home/bit/stock/model/pretrained-bert/ROBERT_4_model.bin were not used when initializing BertModel: ['cls.predictions.decoder.bias', 'cls.predictions.transform.LayerNorm.weight', 'cls.predictions.transform.dense.weight', 'cls.predictions.transform.LayerNorm.bias', 'cls.predictions.decoder.weight', 'cls.predictions.bias', 'cls.predictions.transform.dense.bias']\n",
      "- This IS expected if you are initializing BertModel from the checkpoint of a model trained on another task or with another architecture (e.g. initializing a BertForSequenceClassification model from a BertForPreTraining model).\n",
      "- This IS NOT expected if you are initializing BertModel from the checkpoint of a model that you expect to be exactly identical (initializing a BertForSequenceClassification model from a BertForSequenceClassification model).\n",
      "Some weights of BertModel were not initialized from the model checkpoint at /home/bit/stock/model/pretrained-bert/ROBERT_4_model.bin and are newly initialized: ['bert.pooler.dense.weight', 'bert.pooler.dense.bias']\n",
      "You should probably TRAIN this model on a down-stream task to be able to use it for predictions and inference.\n"
     ]
    }
   ],
   "source": [
    "bert_model = BertModel.from_pretrained(PRE_TRAINED_MODEL_NAME)"
   ]
  },
  {
   "cell_type": "code",
   "execution_count": 15,
   "metadata": {
    "colab": {
     "background_save": true
    },
    "id": "hsRtLnPlWulS"
   },
   "outputs": [],
   "source": [
    "class SentimentClassifier(nn.Module):\n",
    "\n",
    "  def __init__(self, n_classes):\n",
    "    super(SentimentClassifier, self).__init__()\n",
    "    self.bert = BertModel.from_pretrained(PRE_TRAINED_MODEL_NAME)\n",
    "    self.encoder_layer =  nn.TransformerEncoderLayer(d_model=2304, nhead=1)\n",
    "    self.transformer_encoder = nn.TransformerEncoder(self.encoder_layer, num_layers=2)\n",
    "    self.drop = nn.Dropout(p=0.1)\n",
    "    self.sig = nn.Sigmoid()\n",
    "    self.out1 = nn.Linear((self.bert.config.hidden_size*3)*10, (self.bert.config.hidden_size*3)*3)\n",
    "    self.out = nn.Linear((self.bert.config.hidden_size*3)*3, n_classes)\n",
    "    self.flatten2 = nn.Flatten(2,-1)\n",
    "    self.flatten = nn.Flatten(1,-1)\n",
    "    self.relu = nn.ReLU()\n",
    "    self.Querry = nn.Linear(self.bert.config.hidden_size,self.bert.config.hidden_size)\n",
    "    self.Key = nn.Linear(self.bert.config.hidden_size,self.bert.config.hidden_size)\n",
    "\n",
    "\n",
    "  \n",
    "  def forward(self, input_ids, attention_mask,verb,A0,A1,AV_num):\n",
    "    hidden_state = self.bert(\n",
    "      input_ids=input_ids,\n",
    "      attention_mask=attention_mask\n",
    "    )[0]\n",
    "    batch = hidden_state.shape[0]\n",
    "    \n",
    "    tmp_mask = torch.unsqueeze(verb,3)\n",
    "    tmp_mask = torch.cat(768 * [tmp_mask],3)\n",
    "    transformer_input = torch.mean(tmp_mask*torch.unsqueeze(hidden_state,1),2,True)\n",
    "\n",
    "    tmp_mask = torch.unsqueeze(A0,3)\n",
    "    tmp_mask = torch.cat(768 * [tmp_mask],3)\n",
    "    tmp_mask = torch.mean(tmp_mask*torch.unsqueeze(hidden_state,1),2,True)\n",
    "    transformer_input = torch.cat([transformer_input,tmp_mask],2)\n",
    "\n",
    "    tmp_mask = torch.unsqueeze(A1,3)\n",
    "    tmp_mask = torch.cat(768 * [tmp_mask],3)\n",
    "    tmp_mask = torch.mean(tmp_mask*torch.unsqueeze(hidden_state,1),2,True)\n",
    "    transformer_input = torch.cat([transformer_input,tmp_mask],2)\n",
    "\n",
    "    transformer_input = self.flatten2(transformer_input.float())\n",
    "    transformer_input = torch.stack([transformer_input[:,i,:] for i in range(0,len(A0[0]))])\n",
    "    transformer_output = self.transformer_encoder(transformer_input)\n",
    "    transformer_output = torch.stack([torch.squeeze(transformer_output[:,i,:]) for i in range(0,batch)])\n",
    "    transformer_output = torch.squeeze(transformer_output)\n",
    "\n",
    "    if transformer_output.dim()==2:\n",
    "      transformer_output = torch.unsqueeze(transformer_output,0)\n",
    "\n",
    "    output = self.flatten(transformer_output.float())\n",
    "    output = self.sig(output)\n",
    "#     output = self.drop(output)\n",
    "    output = self.out1(output)\n",
    "    output = self.sig(output)\n",
    "    output = self.drop(output)\n",
    "    output = self.out(output)\n",
    "\n",
    "    return output"
   ]
  },
  {
   "cell_type": "code",
   "execution_count": 16,
   "metadata": {
    "colab": {
     "background_save": true
    },
    "id": "KQEOV2pfYBPs"
   },
   "outputs": [
    {
     "name": "stderr",
     "output_type": "stream",
     "text": [
      "Some weights of the model checkpoint at /home/bit/stock/model/pretrained-bert/ROBERT_4_model.bin were not used when initializing BertModel: ['cls.predictions.decoder.bias', 'cls.predictions.transform.LayerNorm.weight', 'cls.predictions.transform.dense.weight', 'cls.predictions.transform.LayerNorm.bias', 'cls.predictions.decoder.weight', 'cls.predictions.bias', 'cls.predictions.transform.dense.bias']\n",
      "- This IS expected if you are initializing BertModel from the checkpoint of a model trained on another task or with another architecture (e.g. initializing a BertForSequenceClassification model from a BertForPreTraining model).\n",
      "- This IS NOT expected if you are initializing BertModel from the checkpoint of a model that you expect to be exactly identical (initializing a BertForSequenceClassification model from a BertForSequenceClassification model).\n",
      "Some weights of BertModel were not initialized from the model checkpoint at /home/bit/stock/model/pretrained-bert/ROBERT_4_model.bin and are newly initialized: ['bert.pooler.dense.weight', 'bert.pooler.dense.bias']\n",
      "You should probably TRAIN this model on a down-stream task to be able to use it for predictions and inference.\n"
     ]
    }
   ],
   "source": [
    "model = SentimentClassifier(3)\n",
    "model = model.to(device)"
   ]
  },
  {
   "cell_type": "code",
   "execution_count": null,
   "metadata": {
    "colab": {
     "background_save": true
    },
    "id": "IfJO5a0NGPf_"
   },
   "outputs": [],
   "source": []
  },
  {
   "cell_type": "code",
   "execution_count": 17,
   "metadata": {
    "colab": {
     "background_save": true
    },
    "id": "uLl-umJKYGtB"
   },
   "outputs": [],
   "source": [
    "# input_ids = data['input_ids'].to(device)\n",
    "# attention_mask = data['attention_mask'].to(device)\n",
    "# verbs = data['verb'].to(device)\n",
    "# A0s = data['A0'].to(device)\n",
    "# A1s = data['A1'].to(device)\n",
    "# AV_num = data['AV_num'].to(device)\n",
    "# print(input_ids.shape) # batch size x seq length\n",
    "# print(attention_mask.shape) # batch size x seq length"
   ]
  },
  {
   "cell_type": "code",
   "execution_count": 18,
   "metadata": {
    "colab": {
     "background_save": true
    },
    "id": "VX0A_axjYJfP"
   },
   "outputs": [],
   "source": [
    "# F.softmax(model(input_ids, attention_mask,verb = verbs,A0 = A0s,A1 =A1s,AV_num = AV_num), dim=1)"
   ]
  },
  {
   "cell_type": "code",
   "execution_count": null,
   "metadata": {
    "colab": {
     "background_save": true
    },
    "id": "82irQeXrOfWI"
   },
   "outputs": [],
   "source": []
  },
  {
   "cell_type": "code",
   "execution_count": 19,
   "metadata": {
    "colab": {
     "background_save": true
    },
    "id": "4q2fUr9TYMxW"
   },
   "outputs": [],
   "source": [
    "EPOCHS = 10\n",
    "\n",
    "optimizer = AdamW(model.parameters(), lr=1e-5, correct_bias=False)\n",
    "total_steps = len(train_data_loader) * EPOCHS\n",
    "\n",
    "scheduler = get_linear_schedule_with_warmup(\n",
    "  optimizer,\n",
    "  num_warmup_steps=0,\n",
    "  num_training_steps=total_steps\n",
    ")\n",
    "\n",
    "loss_fn = nn.CrossEntropyLoss().to(device)"
   ]
  },
  {
   "cell_type": "markdown",
   "metadata": {
    "id": "OYA1f6t3f2ex"
   },
   "source": []
  },
  {
   "cell_type": "code",
   "execution_count": 20,
   "metadata": {
    "colab": {
     "background_save": true
    },
    "id": "oLLFWDvDYeeS"
   },
   "outputs": [],
   "source": [
    "def train_epoch(\n",
    "  model, \n",
    "  data_loader, \n",
    "  loss_fn, \n",
    "  optimizer, \n",
    "  device, \n",
    "  scheduler, \n",
    "  n_examples\n",
    "):\n",
    "  model = model.train()\n",
    "\n",
    "  losses = []\n",
    "  correct_predictions = 0\n",
    "\n",
    "  for d in data_loader:\n",
    "    input_ids = d[\"input_ids\"].to(device)\n",
    "    attention_mask = d[\"attention_mask\"].to(device)\n",
    "    targets = d[\"targets\"].to(device)\n",
    "    verb = d[\"verb\"].to(device)\n",
    "    A0 = d[\"A0\"].to(device)\n",
    "    A1 = d[\"A1\"].to(device)\n",
    "    AV_num = d[\"AV_num\"].to(device)\n",
    "\n",
    "    outputs = model(\n",
    "      input_ids=input_ids,\n",
    "      attention_mask=attention_mask,\n",
    "      verb = verb,\n",
    "      A0 = A0,\n",
    "      A1 = A1,\n",
    "      AV_num = AV_num\n",
    "    )\n",
    "\n",
    "    _, preds = torch.max(outputs, dim=1)\n",
    "\n",
    "    # print(targets.shape,outputs.shape)\n",
    "    loss = loss_fn(outputs, targets)\n",
    "\n",
    "    correct_predictions += torch.sum(preds == targets)\n",
    "    losses.append(loss.item())\n",
    "\n",
    "    loss.backward()\n",
    "    nn.utils.clip_grad_norm_(model.parameters(), max_norm=1.0)\n",
    "    optimizer.step()\n",
    "    scheduler.step()\n",
    "    optimizer.zero_grad()\n",
    "\n",
    "  return correct_predictions.double() / n_examples, np.mean(losses)"
   ]
  },
  {
   "cell_type": "code",
   "execution_count": 21,
   "metadata": {
    "colab": {
     "background_save": true
    },
    "id": "VmDYxiXDYl-u"
   },
   "outputs": [],
   "source": [
    "def eval_model(model, data_loader, loss_fn, device, n_examples):\n",
    "  model = model.eval()\n",
    "\n",
    "  losses = []\n",
    "  correct_predictions = 0\n",
    "\n",
    "  with torch.no_grad():\n",
    "    for d in data_loader:\n",
    "      input_ids = d[\"input_ids\"].to(device)\n",
    "      attention_mask = d[\"attention_mask\"].to(device)\n",
    "      targets = d[\"targets\"].to(device)\n",
    "      verb = d[\"verb\"].to(device)\n",
    "      A0 = d[\"A0\"].to(device)\n",
    "      A1 = d[\"A1\"].to(device)\n",
    "      AV_num = d[\"AV_num\"].to(device)\n",
    "\n",
    "      outputs = model(\n",
    "        input_ids=input_ids,\n",
    "        attention_mask=attention_mask,\n",
    "        verb = verb,\n",
    "        A0 = A0,\n",
    "        A1 = A1,\n",
    "        AV_num = AV_num\n",
    "      )\n",
    "\n",
    "      if outputs.dim()==1:\n",
    "        outputs = torch.unsqueeze(outputs,0)\n",
    "      _, preds = torch.max(outputs, dim=1)\n",
    "\n",
    "      loss = loss_fn(outputs, targets)\n",
    "\n",
    "      correct_predictions += torch.sum(preds == targets)\n",
    "      losses.append(loss.item())\n",
    "\n",
    "  return correct_predictions.double() / n_examples, np.mean(losses)"
   ]
  },
  {
   "cell_type": "code",
   "execution_count": 22,
   "metadata": {
    "colab": {
     "background_save": true
    },
    "id": "Nkvo-2p93Dnr"
   },
   "outputs": [],
   "source": [
    "history = defaultdict(list)\n",
    "best_accuracy = 0\n",
    "# EPOCHS = 5"
   ]
  },
  {
   "cell_type": "code",
   "execution_count": null,
   "metadata": {
    "colab": {
     "background_save": true
    },
    "id": "VZvKK2TkYojZ",
    "scrolled": false
   },
   "outputs": [
    {
     "name": "stdout",
     "output_type": "stream",
     "text": [
      "Epoch 1/10\n",
      "----------\n",
      "Train loss 0.9513174718465147 accuracy 0.5559881506559459\n",
      "Val   loss 0.8939653106274144 accuracy 0.6005416384563304\n",
      "\n",
      "Epoch 2/10\n",
      "----------\n",
      "Train loss 0.8041051324955988 accuracy 0.6545916208209902\n",
      "Val   loss 0.842045295623041 accuracy 0.6242383209207854\n",
      "\n",
      "Epoch 3/10\n",
      "----------\n",
      "Train loss 0.7108206468280178 accuracy 0.7112991959373677\n",
      "Val   loss 0.8669169388150656 accuracy 0.6364251861882193\n",
      "\n",
      "Epoch 4/10\n",
      "----------\n",
      "Train loss 0.6077585276191063 accuracy 0.769191705459162\n",
      "Val   loss 0.9549851161177441 accuracy 0.6472579553148273\n",
      "\n",
      "Epoch 5/10\n",
      "----------\n",
      "Train loss 0.5058344181259044 accuracy 0.8187896741430385\n",
      "Val   loss 1.0416093247552072 accuracy 0.6208530805687204\n",
      "\n",
      "Epoch 6/10\n",
      "----------\n",
      "Train loss 0.4180920923353048 accuracy 0.8572154041472704\n",
      "Val   loss 1.2357629938151247 accuracy 0.6188219363574814\n",
      "\n",
      "Epoch 7/10\n",
      "----------\n",
      "Train loss 0.35023961915396384 accuracy 0.8828607702073635\n",
      "Val   loss 1.298193246126175 accuracy 0.6215301286391334\n",
      "\n",
      "Epoch 8/10\n",
      "----------\n",
      "Train loss 0.29658494098048976 accuracy 0.9043588658484977\n",
      "Val   loss 1.4088614081503243 accuracy 0.6262694651320243\n",
      "\n",
      "Epoch 9/10\n",
      "----------\n",
      "Train loss 0.25552766591673454 accuracy 0.9202708421498096\n",
      "Val   loss 1.5434314224027819 accuracy 0.6269465132024373\n",
      "\n",
      "Epoch 10/10\n",
      "----------\n"
     ]
    }
   ],
   "source": [
    "%%time\n",
    "\n",
    "for epoch in range(EPOCHS):\n",
    "\n",
    "  print(f'Epoch {epoch + 1}/{EPOCHS}')\n",
    "  print('-' * 10)\n",
    "\n",
    "  train_acc, train_loss = train_epoch(\n",
    "    model,\n",
    "    train_data_loader,    \n",
    "    loss_fn, \n",
    "    optimizer, \n",
    "    device, \n",
    "    scheduler, \n",
    "    len(df_train)\n",
    "  )\n",
    "\n",
    "  print(f'Train loss {train_loss} accuracy {train_acc}')\n",
    "\n",
    "  val_acc, val_loss = eval_model(\n",
    "    model,\n",
    "    val_data_loader,\n",
    "    loss_fn, \n",
    "    device, \n",
    "    len(df_val)\n",
    "  )\n",
    "\n",
    "  print(f'Val   loss {val_loss} accuracy {val_acc}')\n",
    "  print()\n",
    "\n",
    "  history['train_acc'].append(train_acc)\n",
    "  history['train_loss'].append(train_loss)\n",
    "  history['val_acc'].append(val_acc)\n",
    "  history['val_loss'].append(val_loss)\n",
    "\n",
    "  if val_acc > best_accuracy:\n",
    "    torch.save(model.state_dict(), 'Pretrained_RoBert_SRL(FC)-tuning.bin')\n",
    "    best_accuracy = val_acc"
   ]
  },
  {
   "cell_type": "code",
   "execution_count": null,
   "metadata": {
    "colab": {
     "background_save": true
    },
    "id": "FIyLcNepYr4f"
   },
   "outputs": [],
   "source": [
    "len(history[\"train_acc\"])"
   ]
  },
  {
   "cell_type": "code",
   "execution_count": null,
   "metadata": {
    "colab": {
     "background_save": true
    },
    "id": "xu7Y2BPzLZgi"
   },
   "outputs": [],
   "source": [
    "plt.plot([i.cpu() for i in history['train_acc']], label='train accuracy')\n",
    "plt.plot([i.cpu() for i in history['val_acc']], label='validation accuracy')\n",
    "\n",
    "plt.title('Training history')\n",
    "plt.ylabel('Accuracy')\n",
    "plt.xlabel('Epoch')\n",
    "plt.legend()\n",
    "plt.ylim([0, 1]);"
   ]
  },
  {
   "cell_type": "code",
   "execution_count": null,
   "metadata": {
    "colab": {
     "background_save": true
    },
    "id": "YYMhWiIrBrV4"
   },
   "outputs": [],
   "source": [
    "# !gdown --id 1V8itWtowCYnb2Bc9KlK9SxGff9WwmogA\n",
    "\n",
    "model = SentimentClassifier(len(class_names))\n",
    "model.load_state_dict(torch.load('Pretrained_RoBert_SRL(FC)-tuning.bin'))\n",
    "model = model.to(device)"
   ]
  },
  {
   "cell_type": "code",
   "execution_count": null,
   "metadata": {
    "colab": {
     "background_save": true
    },
    "id": "KYRPY0C-fFQh"
   },
   "outputs": [],
   "source": [
    "len(df_test)"
   ]
  },
  {
   "cell_type": "code",
   "execution_count": 49,
   "metadata": {
    "colab": {
     "background_save": true
    },
    "id": "c7Cckbz8GbDK"
   },
   "outputs": [
    {
     "data": {
      "text/plain": [
       "0.6330399458361543"
      ]
     },
     "execution_count": 49,
     "metadata": {},
     "output_type": "execute_result"
    }
   ],
   "source": [
    "test_acc, _ = eval_model(\n",
    "  model,\n",
    "  test_data_loader,\n",
    "  loss_fn,\n",
    "  device,\n",
    "  len(df_test)\n",
    ")\n",
    "\n",
    "test_acc.item()"
   ]
  },
  {
   "cell_type": "code",
   "execution_count": 50,
   "metadata": {
    "colab": {
     "background_save": true
    },
    "id": "a0Qemnl0FiEb"
   },
   "outputs": [],
   "source": [
    "def get_predictions(model, data_loader):\n",
    "  model = model.eval()\n",
    "  \n",
    "  review_texts = []\n",
    "  predictions = []\n",
    "  prediction_probs = []\n",
    "  real_values = []\n",
    "\n",
    "  with torch.no_grad():\n",
    "    for d in data_loader:\n",
    "\n",
    "      texts = d[\"review_text\"]\n",
    "      input_ids = d[\"input_ids\"].to(device)\n",
    "      attention_mask = d[\"attention_mask\"].to(device)\n",
    "      targets = d[\"targets\"].to(device)\n",
    "      verb = d[\"verb\"].to(device)\n",
    "      A0 = d[\"A0\"].to(device)\n",
    "      A1 = d[\"A1\"].to(device)\n",
    "      AV_num = d['AV_num'].to(device)\n",
    "\n",
    "      outputs = model(\n",
    "        input_ids=input_ids,\n",
    "        attention_mask=attention_mask,\n",
    "        verb = verb,\n",
    "        A0 = A0,\n",
    "        A1 = A1,\n",
    "        AV_num = AV_num\n",
    "      )\n",
    "      if outputs.dim()==1:\n",
    "        outputs = torch.unsqueeze(outputs,0)\n",
    "      _, preds = torch.max(outputs, dim=1)\n",
    "      probs = F.softmax(outputs, dim=1)\n",
    "\n",
    "      review_texts.extend(texts)\n",
    "      predictions.extend(preds)\n",
    "      prediction_probs.extend(probs)\n",
    "      real_values.extend(targets)\n",
    "\n",
    "  predictions = torch.stack(predictions).cpu()\n",
    "  prediction_probs = torch.stack(prediction_probs).cpu()\n",
    "  real_values = torch.stack(real_values).cpu()\n",
    "  return review_texts, predictions, prediction_probs, real_values"
   ]
  },
  {
   "cell_type": "code",
   "execution_count": 51,
   "metadata": {},
   "outputs": [],
   "source": [
    "def show_confusion_matrix(confusion_matrix):\n",
    "  hmap = sns.heatmap(confusion_matrix, annot=True, fmt=\"d\", cmap=\"Blues\")\n",
    "  hmap.yaxis.set_ticklabels(hmap.yaxis.get_ticklabels(), rotation=0, ha='right')\n",
    "  hmap.xaxis.set_ticklabels(hmap.xaxis.get_ticklabels(), rotation=30, ha='right')\n",
    "  plt.ylabel('True sentiment')\n",
    "  plt.xlabel('Predicted sentiment');"
   ]
  },
  {
   "cell_type": "code",
   "execution_count": 52,
   "metadata": {
    "colab": {
     "background_save": true
    },
    "id": "YkPHXF0MGiCh",
    "scrolled": false
   },
   "outputs": [
    {
     "name": "stdout",
     "output_type": "stream",
     "text": [
      "              precision    recall  f1-score   support\n",
      "\n",
      "    negative     0.6695    0.6529    0.6611       484\n",
      "     neutral     0.6065    0.6257    0.6160       505\n",
      "    positive     0.6260    0.6209    0.6235       488\n",
      "\n",
      "    accuracy                         0.6330      1477\n",
      "   macro avg     0.6340    0.6332    0.6335      1477\n",
      "weighted avg     0.6336    0.6330    0.6332      1477\n",
      "\n"
     ]
    },
    {
     "data": {
      "image/png": "[encoded data removed]",
      "text/plain": [
       "<Figure size 864x576 with 2 Axes>"
      ]
     },
     "metadata": {
      "image/png": {
       "height": 516,
       "width": 725
      }
     },
     "output_type": "display_data"
    }
   ],
   "source": [
    "y_review_texts, y_pred, y_pred_probs, y_test = get_predictions(\n",
    "  model,\n",
    "  test_data_loader\n",
    ")\n",
    "\n",
    "print(classification_report(y_test, y_pred, target_names=class_names,digits=4))\n",
    "\n",
    "cm = confusion_matrix(y_test, y_pred)\n",
    "df_cm = pd.DataFrame(cm, index=class_names, columns=class_names)\n",
    "show_confusion_matrix(df_cm)"
   ]
  },
  {
   "cell_type": "code",
   "execution_count": null,
   "metadata": {},
   "outputs": [],
   "source": [
    "df = pd.DataFrame([y_review_texts, y_pred.numpy(), y_pred_probs.numpy(), y_test.numpy()]).T\n",
    "df = df.rename(columns={0:'text',1:'prediction',2:'probability',3:'labels'})\n",
    "df.to_csv('Pretrained_RoBert_SRL(FC)-tuning.csv',sep='\\t')"
   ]
  },
  {
   "cell_type": "code",
   "execution_count": null,
   "metadata": {},
   "outputs": [],
   "source": [
    "y_ood_review_texts, y_ood_pred, y_ood_pred_probs, y_ood = get_predictions(\n",
    "  model,\n",
    "  ood_data_loader\n",
    ")\n",
    "\n",
    "print(classification_report(y_ood, y_ood_pred, target_names=class_names,digits=4))\n",
    "\n",
    "ood_cm = confusion_matrix(y_ood, y_ood_pred)\n",
    "df_ood_cm = pd.DataFrame(ood_cm, index=class_names, columns=class_names)\n",
    "show_confusion_matrix(df_ood_cm)"
   ]
  },
  {
   "cell_type": "code",
   "execution_count": null,
   "metadata": {},
   "outputs": [],
   "source": []
  },
  {
   "cell_type": "code",
   "execution_count": null,
   "metadata": {},
   "outputs": [],
   "source": [
    "df_ood = pd.read_csv('../data/pre/ood.csv',sep='\\t')\n",
    "# df_ood = df_ood.loc[(df_ood.DATE>='2021-05-05')&(df_ood.DATE<='2021-09-01')]\n",
    "df_ood = df_ood.sort_values(by='DATE')\n",
    "df_ood = df_ood.reset_index(drop=True)\n",
    "df_ood = df_ood.loc[:4000]\n",
    "df_ood = df_ood.drop(df_ood.loc[df_ood.verbA0A1.isna()].index)\n",
    "df_ood = df_ood.drop(df_ood.loc[df_ood.verbA0A1=='[]'].index)\n",
    "for col in ['verb','A0','A1']:\n",
    "  df_ood[col] = df_ood[col].apply(string_to_tuples_list)\n",
    "\n",
    "for col in ['stock_factors','verbA0A1']:\n",
    "  df_ood[col] = df_ood[col].apply(ast.literal_eval)\n",
    "df_ood = mask(df_ood)\n",
    "df_ood = df_ood.reset_index(drop=True)\n",
    "ood_data_loader = create_data_loader(df_ood, tokenizer, max_len, BATCH_SIZE)\n",
    "\n",
    "y_ood_review_texts, y_ood_pred, y_ood_pred_probs, y_ood = get_predictions(\n",
    "  model,\n",
    "  ood_data_loader\n",
    ")\n",
    "\n",
    "print(classification_report(y_ood, y_ood_pred, target_names=class_names,digits=4))\n",
    "\n",
    "ood_cm = confusion_matrix(y_ood, y_ood_pred)\n",
    "df_ood_cm = pd.DataFrame(ood_cm, index=class_names, columns=class_names)\n",
    "show_confusion_matrix(df_ood_cm)"
   ]
  },
  {
   "cell_type": "code",
   "execution_count": null,
   "metadata": {},
   "outputs": [],
   "source": [
    "df_ood = pd.read_csv('../data/pre/ood.csv',sep='\\t')\n",
    "# df_ood = df_ood.loc[(df_ood.DATE>='2021-05-05')&(df_ood.DATE<='2021-09-01')]\n",
    "df_ood = df_ood.sort_values(by='DATE')\n",
    "df_ood = df_ood.reset_index(drop=True)\n",
    "df_ood = df_ood.loc[:3000]\n",
    "df_ood = df_ood.drop(df_ood.loc[df_ood.verbA0A1.isna()].index)\n",
    "df_ood = df_ood.drop(df_ood.loc[df_ood.verbA0A1=='[]'].index)\n",
    "for col in ['verb','A0','A1']:\n",
    "  df_ood[col] = df_ood[col].apply(string_to_tuples_list)\n",
    "\n",
    "for col in ['stock_factors','verbA0A1']:\n",
    "  df_ood[col] = df_ood[col].apply(ast.literal_eval)\n",
    "df_ood = mask(df_ood)\n",
    "df_ood = df_ood.reset_index(drop=True)\n",
    "ood_data_loader = create_data_loader(df_ood, tokenizer, max_len, BATCH_SIZE)\n",
    "\n",
    "y_ood_review_texts, y_ood_pred, y_ood_pred_probs, y_ood = get_predictions(\n",
    "  model,\n",
    "  ood_data_loader\n",
    ")\n",
    "\n",
    "print(classification_report(y_ood, y_ood_pred, target_names=class_names,digits=4))\n",
    "\n",
    "ood_cm = confusion_matrix(y_ood, y_ood_pred)\n",
    "df_ood_cm = pd.DataFrame(ood_cm, index=class_names, columns=class_names)\n",
    "show_confusion_matrix(df_ood_cm)"
   ]
  },
  {
   "cell_type": "code",
   "execution_count": null,
   "metadata": {},
   "outputs": [],
   "source": [
    "df_ood = pd.read_csv('../data/pre/ood.csv',sep='\\t')\n",
    "# df_ood = df_ood.loc[(df_ood.DATE>='2021-05-05')&(df_ood.DATE<='2021-09-01')]\n",
    "df_ood = df_ood.sort_values(by='DATE')\n",
    "df_ood = df_ood.reset_index(drop=True)\n",
    "df_ood = df_ood.loc[:2000]\n",
    "df_ood = df_ood.drop(df_ood.loc[df_ood.verbA0A1.isna()].index)\n",
    "df_ood = df_ood.drop(df_ood.loc[df_ood.verbA0A1=='[]'].index)\n",
    "for col in ['verb','A0','A1']:\n",
    "  df_ood[col] = df_ood[col].apply(string_to_tuples_list)\n",
    "\n",
    "for col in ['stock_factors','verbA0A1']:\n",
    "  df_ood[col] = df_ood[col].apply(ast.literal_eval)\n",
    "df_ood = mask(df_ood)\n",
    "df_ood = df_ood.reset_index(drop=True)\n",
    "ood_data_loader = create_data_loader(df_ood, tokenizer, max_len, BATCH_SIZE)\n",
    "\n",
    "y_ood_review_texts, y_ood_pred, y_ood_pred_probs, y_ood = get_predictions(\n",
    "  model,\n",
    "  ood_data_loader\n",
    ")\n",
    "\n",
    "print(classification_report(y_ood, y_ood_pred, target_names=class_names,digits=4))\n",
    "\n",
    "ood_cm = confusion_matrix(y_ood, y_ood_pred)\n",
    "df_ood_cm = pd.DataFrame(ood_cm, index=class_names, columns=class_names)\n",
    "show_confusion_matrix(df_ood_cm)"
   ]
  },
  {
   "cell_type": "code",
   "execution_count": null,
   "metadata": {},
   "outputs": [],
   "source": [
    "df_ood = pd.read_csv('../data/df_all_year_srl.csv',sep='\\t')\n",
    "# df_ood = df_ood.loc[(df_ood.DATE>='2021-05-05')&(df_ood.DATE<='2021-09-01')]\n",
    "df_ood = df_ood.sort_values(by='DATE')\n",
    "df_ood = df_ood.reset_index(drop=True)\n",
    "# df_ood = df_ood.loc[:2000]\n",
    "df_ood = df_ood.drop(df_ood.loc[df_ood.verbA0A1.isna()].index)\n",
    "df_ood = df_ood.drop(df_ood.loc[df_ood.verbA0A1=='[]'].index)\n",
    "for col in ['verb','A0','A1']:\n",
    "  df_ood[col] = df_ood[col].apply(string_to_tuples_list)\n",
    "\n",
    "for col in ['stock_factors','verbA0A1']:\n",
    "  df_ood[col] = df_ood[col].apply(ast.literal_eval)\n",
    "df_ood = mask(df_ood)\n",
    "df_ood = df_ood.reset_index(drop=True)\n",
    "ood_data_loader = create_data_loader(df_ood, tokenizer, max_len, BATCH_SIZE)\n",
    "\n",
    "y_ood_review_texts, y_ood_pred, y_ood_pred_probs, y_ood = get_predictions(\n",
    "  model,\n",
    "  ood_data_loader\n",
    ")\n",
    "\n",
    "print(classification_report(y_ood, y_ood_pred, target_names=class_names,digits=4))\n",
    "\n",
    "ood_cm = confusion_matrix(y_ood, y_ood_pred)\n",
    "df_ood_cm = pd.DataFrame(ood_cm, index=class_names, columns=class_names)\n",
    "show_confusion_matrix(df_ood_cm)"
   ]
  },
  {
   "cell_type": "code",
   "execution_count": null,
   "metadata": {},
   "outputs": [],
   "source": [
    "df = pd.DataFrame([y_ood_review_texts, y_ood_pred.numpy(), y_ood_pred_probs.numpy(), y_ood.numpy()]).T\n",
    "df = df.rename(columns={0:'text',1:'prediction',2:'probability',3:'labels'})\n",
    "df.to_csv('Pretrained_RoBert_SRL(FC)_ood.csv',sep='\\t')"
   ]
  },
  {
   "cell_type": "code",
   "execution_count": null,
   "metadata": {
    "colab": {
     "background_save": true
    },
    "id": "6QZ0EgQoalz2"
   },
   "outputs": [],
   "source": [
    "# !pip install lit-nlp"
   ]
  },
  {
   "cell_type": "code",
   "execution_count": null,
   "metadata": {
    "id": "eAeHdVF7c-QF"
   },
   "outputs": [],
   "source": [
    "# from lit_nlp.api.dataset import Dataset\n",
    "# class MultiNLIData(Dataset):\n",
    "#   \"\"\"Loader for MultiNLI development set.\"\"\"\n",
    "#   def __init__(self, df):\n",
    "#     # Read the eval set from a .tsv file as distributed with the GLUE benchmark.\n",
    "#     # df = pandas.read_csv(path, sep='\\t')\n",
    "#     # Store as a list of dicts, conforming to self.spec()\n",
    "#     self.LABELS = [0,1]\n",
    "#     self._examples = [{\n",
    "#       'sentence': row['DESCRIPTION_EN'],\n",
    "#       # 'hypothesis': row['sentence2'],\n",
    "#       'label': row['LABEL']\n",
    "#       # 'genre': row['genre'],\n",
    "#     } for _, row in df.iterrows()]\n",
    "#   def spec(self):\n",
    "#     return {\n",
    "#       'sentence': lit_types.TextSegment(),\n",
    "#       # 'hypothesis': lit_types.TextSegment(),\n",
    "#       'label': lit_types.CategoryLabel(vocab=self.LABELS),\n",
    "#       # We can include additional fields, which don't have to be used by the model.\n",
    "#       # 'genre': lit_types.Label(),\n",
    "#     }"
   ]
  },
  {
   "cell_type": "code",
   "execution_count": null,
   "metadata": {
    "colab": {
     "background_save": true
    },
    "id": "l5886G4mdXia"
   },
   "outputs": [],
   "source": []
  },
  {
   "cell_type": "code",
   "execution_count": null,
   "metadata": {
    "colab": {
     "background_save": true
    },
    "id": "mrSBCdqO0sUs"
   },
   "outputs": [],
   "source": []
  },
  {
   "cell_type": "code",
   "execution_count": null,
   "metadata": {
    "id": "f-nX4zrOdxpo"
   },
   "outputs": [],
   "source": []
  },
  {
   "cell_type": "code",
   "execution_count": null,
   "metadata": {
    "id": "ARdnz5td18VV"
   },
   "outputs": [],
   "source": []
  },
  {
   "cell_type": "code",
   "execution_count": null,
   "metadata": {
    "id": "iMviJZsfdifG"
   },
   "outputs": [],
   "source": []
  },
  {
   "cell_type": "code",
   "execution_count": null,
   "metadata": {
    "id": "8h5I2QKodj8b"
   },
   "outputs": [],
   "source": []
  },
  {
   "cell_type": "code",
   "execution_count": null,
   "metadata": {
    "id": "0-abzg6avOQq"
   },
   "outputs": [],
   "source": []
  },
  {
   "cell_type": "code",
   "execution_count": null,
   "metadata": {
    "id": "flJ1xtWNvYej"
   },
   "outputs": [],
   "source": []
  },
  {
   "cell_type": "code",
   "execution_count": null,
   "metadata": {
    "id": "nBxb2zhWvfaK"
   },
   "outputs": [],
   "source": [
    "# from absl import app\n",
    "# from absl import flags\n",
    "# from absl import logging\n",
    "\n",
    "# from lit_nlp import dev_server\n",
    "# from lit_nlp import server_flags\n",
    "# from lit_nlp.api import model as lit_model\n",
    "# from lit_nlp.api import types as lit_types\n",
    "# # Use the regular GLUE data loaders, because these are very simple already.\n",
    "# from lit_nlp.examples.datasets import glue\n",
    "# from lit_nlp.lib import utils\n",
    "\n",
    "# import torch\n",
    "# import transformers\n",
    "\n",
    "# # NOTE: additional flags defined in server_flags.py\n",
    "\n",
    "# FLAGS = flags.FLAGS\n",
    "\n",
    "# flags.DEFINE_string(\n",
    "#     \"model_path\",\n",
    "#     \"https://storage.googleapis.com/what-if-tool-resources/lit-models/sst2_tiny.tar.gz\",\n",
    "#     \"Path to trained model, in standard transformers format, e.g. as \"\n",
    "#     \"saved by model.save_pretrained() and tokenizer.save_pretrained()\")\n",
    "\n",
    "\n",
    "# def _from_pretrained(cls, *args, **kw):\n",
    "#   \"\"\"Load a transformers model in PyTorch, with fallback to TF2/Keras weights.\"\"\"\n",
    "#   try:\n",
    "#     return cls.from_pretrained(*args, **kw)\n",
    "#   except OSError as e:\n",
    "#     logging.warning(\"Caught OSError loading model: %s\", e)\n",
    "#     logging.warning(\n",
    "#         \"Re-trying to convert from TensorFlow checkpoint (from_tf=True)\")\n",
    "#     return cls.from_pretrained(*args, from_tf=True, **kw)\n",
    "\n",
    "\n",
    "# class SimpleSentimentModel(lit_model.Model):\n",
    "#   \"\"\"Simple sentiment analysis model.\"\"\"\n",
    "\n",
    "#   LABELS = [0,1]  # negative, positive\n",
    "\n",
    "#   def __init__(self, model_name_or_path):\n",
    "#     self.tokenizer = transformers.AutoTokenizer.from_pretrained(\n",
    "#         model_name_or_path)\n",
    "#     model_config = transformers.AutoConfig.from_pretrained(\n",
    "#         model_name_or_path,\n",
    "#         num_labels=2,\n",
    "#         output_hidden_states=True,\n",
    "#         output_attentions=True,\n",
    "#     )\n",
    "#     # This is a just a regular PyTorch model.\n",
    "#     self.model = _from_pretrained(\n",
    "#         transformers.AutoModelForSequenceClassification,\n",
    "#         model_name_or_path,\n",
    "#         config=model_config)\n",
    "#     self.model.eval()\n",
    "\n",
    "#   ##\n",
    "#   # LIT API implementation\n",
    "#   def max_minibatch_size(self):\n",
    "#     # This tells lit_model.Model.predict() how to batch inputs to\n",
    "#     # predict_minibatch().\n",
    "#     # Alternately, you can just override predict() and handle batching yourself.\n",
    "#     return 16\n",
    "\n",
    "#   def predict_minibatch(self, inputs):\n",
    "#     # Preprocess to ids and masks, and make the input batch.\n",
    "#     encoded_input = self.tokenizer.batch_encode_plus(\n",
    "#         [ex[\"sentence\"] for ex in inputs],\n",
    "#         return_tensors=\"pt\",\n",
    "#         add_special_tokens=True,\n",
    "#         max_length=200,\n",
    "#         padding=\"longest\",\n",
    "#         truncation=\"longest_first\")\n",
    "\n",
    "#     # Check and send to cuda (GPU) if available\n",
    "#     if torch.cuda.is_available():\n",
    "#       self.model.cuda()\n",
    "#       for tensor in encoded_input:\n",
    "#         encoded_input[tensor] = encoded_input[tensor].cuda()\n",
    "#     # Run a forward pass.\n",
    "#     with torch.no_grad():  # remove this if you need gradients.\n",
    "#       out: transformers.modeling_outputs.SequenceClassifierOutput = \\\n",
    "#           self.model(**encoded_input)\n",
    "\n",
    "#     # Post-process outputs.\n",
    "#     batched_outputs = {\n",
    "#         \"probas\": torch.nn.functional.softmax(out.logits, dim=-1),\n",
    "#         \"input_ids\": encoded_input[\"input_ids\"],\n",
    "#         \"ntok\": torch.sum(encoded_input[\"attention_mask\"], dim=1),\n",
    "#         \"cls_emb\": out.hidden_states[-1][:, 0],  # last layer, first token\n",
    "#     }\n",
    "#     # Return as NumPy for further processing.\n",
    "#     detached_outputs = {k: v.cpu().numpy() for k, v in batched_outputs.items()}\n",
    "#     # Unbatch outputs so we get one record per input example.\n",
    "#     for output in utils.unbatch_preds(detached_outputs):\n",
    "#       ntok = output.pop(\"ntok\")\n",
    "#       output[\"tokens\"] = self.tokenizer.convert_ids_to_tokens(\n",
    "#           output.pop(\"input_ids\")[1:ntok - 1])\n",
    "#       yield output\n",
    "\n",
    "#   def input_spec(self) -> lit_types.Spec:\n",
    "#     return {\n",
    "#         \"sentence\": lit_types.TextSegment(),\n",
    "#         \"label\": lit_types.CategoryLabel(vocab=self.LABELS, required=False)\n",
    "#     }\n",
    "\n",
    "#   def output_spec(self) -> lit_types.Spec:\n",
    "#     return {\n",
    "#         \"tokens\": lit_types.Tokens(),\n",
    "#         \"probas\": lit_types.MulticlassPreds(parent=\"label\", vocab=self.LABELS),\n",
    "#         \"cls_emb\": lit_types.Embeddings()\n",
    "#     }\n"
   ]
  },
  {
   "cell_type": "code",
   "execution_count": null,
   "metadata": {
    "id": "B64IFx5g461l"
   },
   "outputs": [],
   "source": [
    "# dataset = MultiNLIData(df_train.sample(1800))"
   ]
  },
  {
   "cell_type": "code",
   "execution_count": null,
   "metadata": {
    "id": "qR0nbr94v2xz"
   },
   "outputs": [],
   "source": [
    "# datasets = {\"sst_dev\": dataset}\n",
    "# models = {\"sst\": SimpleSentimentModel(\"/content/drive/MyDrive/model/best_model/\")}\n",
    "# # models = {\"sst\": SimpleSentimentModel(\"bert-base-uncased\")}"
   ]
  },
  {
   "cell_type": "code",
   "execution_count": null,
   "metadata": {
    "id": "WR8VwsH9v4l8"
   },
   "outputs": [],
   "source": [
    "# from lit_nlp import notebook\n",
    "# widget = notebook.LitWidget(models, datasets, height=800)"
   ]
  },
  {
   "cell_type": "code",
   "execution_count": null,
   "metadata": {
    "id": "wNPctrXDBQSM"
   },
   "outputs": [],
   "source": [
    "# mm = models[\"sst\"]"
   ]
  },
  {
   "cell_type": "code",
   "execution_count": null,
   "metadata": {
    "id": "lHX6hJtVCAuX"
   },
   "outputs": [],
   "source": [
    "# mm.model.config"
   ]
  },
  {
   "cell_type": "code",
   "execution_count": null,
   "metadata": {
    "id": "cihtCCxC3ftN"
   },
   "outputs": [],
   "source": [
    "# widget.render()"
   ]
  },
  {
   "cell_type": "code",
   "execution_count": null,
   "metadata": {
    "id": "h5c4S99U5UOS"
   },
   "outputs": [],
   "source": [
    "# dataset.LABELS\n"
   ]
  },
  {
   "cell_type": "code",
   "execution_count": null,
   "metadata": {
    "id": "WxSfPfOF7dNo"
   },
   "outputs": [],
   "source": []
  },
  {
   "cell_type": "code",
   "execution_count": null,
   "metadata": {
    "id": "UHZ2GHS2YPJx"
   },
   "outputs": [],
   "source": []
  },
  {
   "cell_type": "code",
   "execution_count": null,
   "metadata": {
    "id": "dZufJ9IYxafN"
   },
   "outputs": [],
   "source": []
  },
  {
   "cell_type": "code",
   "execution_count": null,
   "metadata": {
    "id": "SUEQvcwK5884"
   },
   "outputs": [],
   "source": []
  },
  {
   "cell_type": "code",
   "execution_count": null,
   "metadata": {
    "id": "UlBpR4nZ8Pm4"
   },
   "outputs": [],
   "source": [
    "\n"
   ]
  },
  {
   "cell_type": "code",
   "execution_count": null,
   "metadata": {
    "id": "KOfzGtQA13Lk"
   },
   "outputs": [],
   "source": []
  },
  {
   "cell_type": "markdown",
   "metadata": {
    "id": "WgHgeymrvwfF"
   },
   "source": []
  },
  {
   "cell_type": "code",
   "execution_count": null,
   "metadata": {
    "id": "vzRGjrB78JEU"
   },
   "outputs": [],
   "source": []
  },
  {
   "cell_type": "code",
   "execution_count": null,
   "metadata": {
    "id": "hisO325IxQp8"
   },
   "outputs": [],
   "source": []
  },
  {
   "cell_type": "code",
   "execution_count": null,
   "metadata": {
    "id": "Kbe4pgmh1gQY"
   },
   "outputs": [],
   "source": []
  }
 ],
 "metadata": {
  "accelerator": "GPU",
  "colab": {
   "collapsed_sections": [],
   "name": "RoBert_SRL(AVG).ipynb",
   "provenance": [
    {
     "file_id": "1xvnsGah2Q-vSoeeYiJUYa9goPinvHJ7u",
     "timestamp": 1633470040515
    },
    {
     "file_id": "1UmCPDjec7zH3RdCY3Hdite8oomF7nmf9",
     "timestamp": 1633290928316
    },
    {
     "file_id": "1w9vwLdm73DBRpQkWEjXqs5q-sfG5CFRP",
     "timestamp": 1633210989154
    },
    {
     "file_id": "1dItOUA_nHj-f307fzTileirMZodw9QQA",
     "timestamp": 1633052138904
    },
    {
     "file_id": "1Oo-71ViOwxENoHeitS3_bKCwW5v34UxN",
     "timestamp": 1632660498277
    },
    {
     "file_id": "1el47BmEzo31ysADRwzhNG8eWTFAGBwSd",
     "timestamp": 1632523116920
    },
    {
     "file_id": "1_JaZBt7ogFAsddWCCG0LcCdgNRAxqtFk",
     "timestamp": 1632443626664
    },
    {
     "file_id": "19E0FxMVVPc7sOJKBKGMO92IFUiH9i8Nq",
     "timestamp": 1631945855961
    },
    {
     "file_id": "1-IQze66iqGbhkSN5Ht7pAfMMsY-XRwDI",
     "timestamp": 1631743166519
    },
    {
     "file_id": "1WejxgDbBCZ7I2Y_ODwi3kgRtrnkLvn-b",
     "timestamp": 1631518058457
    },
    {
     "file_id": "1npRyGEmBJbLWSua7ANgxcMxsQsuWXnKG",
     "timestamp": 1631425160358
    }
   ],
   "version": ""
  },
  "kernelspec": {
   "display_name": "Python 3 (ipykernel)",
   "language": "python",
   "name": "python3"
  },
  "language_info": {
   "codemirror_mode": {
    "name": "ipython",
    "version": 3
   },
   "file_extension": ".py",
   "mimetype": "text/x-python",
   "name": "python",
   "nbconvert_exporter": "python",
   "pygments_lexer": "ipython3",
   "version": "3.9.7"
  },
  "latex_envs": {
   "LaTeX_envs_menu_present": true,
   "autoclose": false,
   "autocomplete": true,
   "bibliofile": "biblio.bib",
   "cite_by": "apalike",
   "current_citInitial": 1,
   "eqLabelWithNumbers": true,
   "eqNumInitial": 1,
   "hotkeys": {
    "equation": "Ctrl-E",
    "itemize": "Ctrl-I"
   },
   "labels_anchors": false,
   "latex_user_defs": false,
   "report_style_numbering": false,
   "user_envs_cfg": false
  },
  "toc": {
   "base_numbering": 1,
   "nav_menu": {},
   "number_sections": true,
   "sideBar": true,
   "skip_h1_title": false,
   "title_cell": "Table of Contents",
   "title_sidebar": "Contents",
   "toc_cell": false,
   "toc_position": {},
   "toc_section_display": true,
   "toc_window_display": false
  },
  "varInspector": {
   "cols": {
    "lenName": 16,
    "lenType": 16,
    "lenVar": 40
   },
   "kernels_config": {
    "python": {
     "delete_cmd_postfix": "",
     "delete_cmd_prefix": "del ",
     "library": "var_list.py",
     "varRefreshCmd": "print(var_dic_list())"
    },
    "r": {
     "delete_cmd_postfix": ") ",
     "delete_cmd_prefix": "rm(",
     "library": "var_list.r",
     "varRefreshCmd": "cat(var_dic_list()) "
    }
   },
   "types_to_exclude": [
    "module",
    "function",
    "builtin_function_or_method",
    "instance",
    "_Feature"
   ],
   "window_display": false
  }
 },
 "nbformat": 4,
 "nbformat_minor": 1
}
