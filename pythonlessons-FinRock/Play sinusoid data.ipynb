{
  "cells": [
    {
      "cell_type": "code",
      "execution_count": 2,
      "metadata": {},
      "outputs": [],
      "source": [
        "import numpy as np\n",
        "import pandas as pd\n",
        "\n",
        "from finrock.data_feeder import PdDataFeeder\n",
        "from finrock.trading_env import TradingEnv\n",
        "from finrock.render import PygameRender\n",
        "from finrock.scalers import ZScoreScaler\n",
        "from finrock.reward import AccountValueChangeReward\n",
        "from finrock.indicators import BolingerBands, SMA, RSI, PSAR, MACD\n",
        "from finrock.metrics import DifferentActions, AccountValue, MaxDrawdown, SharpeRatio\n",
        "\n",
        "# The following allows to save plots in SVG format.\n",
        "import matplotlib_inline\n",
        "%matplotlib inline\n",
        "matplotlib_inline.backend_inline.set_matplotlib_formats('svg')"
      ]
    },
    {
      "cell_type": "code",
      "execution_count": 4,
      "metadata": {},
      "outputs": [
        {
          "name": "stdout",
          "output_type": "stream",
          "text": [
            "Paused\n",
            "761.4375801174857 0.20117572876855178\n",
            "3083.7471558638713 0.7637444859412226\n",
            "848.1200198320481 0.36923351317184977\n",
            "866.010092642239 0.41580585709683693\n"
          ]
        },
        {
          "ename": "KeyboardInterrupt",
          "evalue": "",
          "output_type": "error",
          "traceback": [
            "\u001b[1;31m---------------------------------------------------------------------------\u001b[0m",
            "\u001b[1;31mKeyboardInterrupt\u001b[0m                         Traceback (most recent call last)",
            "Cell \u001b[1;32mIn[4], line 42\u001b[0m\n\u001b[0;32m     38\u001b[0m \u001b[38;5;28;01mwhile\u001b[39;00m \u001b[38;5;28;01mTrue\u001b[39;00m:\n\u001b[0;32m     39\u001b[0m     \u001b[38;5;66;03m# simulate model prediction, now use random action\u001b[39;00m\n\u001b[0;32m     40\u001b[0m     action \u001b[38;5;241m=\u001b[39m np\u001b[38;5;241m.\u001b[39mrandom\u001b[38;5;241m.\u001b[39mrandint(\u001b[38;5;241m0\u001b[39m, action_space)\n\u001b[1;32m---> 42\u001b[0m     state, reward, terminated, truncated, info \u001b[38;5;241m=\u001b[39m env\u001b[38;5;241m.\u001b[39mstep(action)\n\u001b[0;32m     43\u001b[0m     rewards \u001b[38;5;241m+\u001b[39m\u001b[38;5;241m=\u001b[39m reward\n\u001b[0;32m     44\u001b[0m     pygameRender\u001b[38;5;241m.\u001b[39mrender(info)\n",
            "File \u001b[1;32mc:\\Users\\ivas\\source\\repos\\Proeftuin-py\\pythonlessons-FinRock\\finrock\\trading_env.py:151\u001b[0m, in \u001b[0;36mTradingEnv.step\u001b[1;34m(self, action)\u001b[0m\n\u001b[0;32m    144\u001b[0m info \u001b[38;5;241m=\u001b[39m {\n\u001b[0;32m    145\u001b[0m     \u001b[38;5;124m\"\u001b[39m\u001b[38;5;124mstates\u001b[39m\u001b[38;5;124m\"\u001b[39m: [observation],\n\u001b[0;32m    146\u001b[0m     \u001b[38;5;124m\"\u001b[39m\u001b[38;5;124mmetrics\u001b[39m\u001b[38;5;124m\"\u001b[39m: \u001b[38;5;28mself\u001b[39m\u001b[38;5;241m.\u001b[39m_metricsHandler(observation)\n\u001b[0;32m    147\u001b[0m     }\n\u001b[0;32m    149\u001b[0m transformed_obs \u001b[38;5;241m=\u001b[39m \u001b[38;5;28mself\u001b[39m\u001b[38;5;241m.\u001b[39m_output_transformer\u001b[38;5;241m.\u001b[39mtransform(\u001b[38;5;28mself\u001b[39m\u001b[38;5;241m.\u001b[39m_observations)\n\u001b[1;32m--> 151\u001b[0m \u001b[38;5;28;01mif\u001b[39;00m np\u001b[38;5;241m.\u001b[39misnan(transformed_obs)\u001b[38;5;241m.\u001b[39many():\n\u001b[0;32m    152\u001b[0m     \u001b[38;5;28;01mraise\u001b[39;00m \u001b[38;5;167;01mValueError\u001b[39;00m(\u001b[38;5;124m\"\u001b[39m\u001b[38;5;124mtransformed_obs contains nan values, check your data\u001b[39m\u001b[38;5;124m\"\u001b[39m)\n\u001b[0;32m    154\u001b[0m \u001b[38;5;28;01mreturn\u001b[39;00m transformed_obs, reward, terminated, truncated, info\n",
            "File \u001b[1;32mc:\\Users\\ivas\\AppData\\Local\\anaconda3\\Lib\\site-packages\\numpy\\core\\_methods.py:58\u001b[0m, in \u001b[0;36m_any\u001b[1;34m(a, axis, dtype, out, keepdims, where)\u001b[0m\n\u001b[0;32m     55\u001b[0m \u001b[38;5;28;01mdef\u001b[39;00m \u001b[38;5;21m_any\u001b[39m(a, axis\u001b[38;5;241m=\u001b[39m\u001b[38;5;28;01mNone\u001b[39;00m, dtype\u001b[38;5;241m=\u001b[39m\u001b[38;5;28;01mNone\u001b[39;00m, out\u001b[38;5;241m=\u001b[39m\u001b[38;5;28;01mNone\u001b[39;00m, keepdims\u001b[38;5;241m=\u001b[39m\u001b[38;5;28;01mFalse\u001b[39;00m, \u001b[38;5;241m*\u001b[39m, where\u001b[38;5;241m=\u001b[39m\u001b[38;5;28;01mTrue\u001b[39;00m):\n\u001b[0;32m     56\u001b[0m     \u001b[38;5;66;03m# Parsing keyword arguments is currently fairly slow, so avoid it for now\u001b[39;00m\n\u001b[0;32m     57\u001b[0m     \u001b[38;5;28;01mif\u001b[39;00m where \u001b[38;5;129;01mis\u001b[39;00m \u001b[38;5;28;01mTrue\u001b[39;00m:\n\u001b[1;32m---> 58\u001b[0m         \u001b[38;5;28;01mreturn\u001b[39;00m umr_any(a, axis, dtype, out, keepdims)\n\u001b[0;32m     59\u001b[0m     \u001b[38;5;28;01mreturn\u001b[39;00m umr_any(a, axis, dtype, out, keepdims, where\u001b[38;5;241m=\u001b[39mwhere)\n",
            "\u001b[1;31mKeyboardInterrupt\u001b[0m: "
          ]
        }
      ],
      "source": [
        "df = pd.read_csv('Datasets/random_sinusoid.csv')\n",
        "\n",
        "pd_data_feeder = PdDataFeeder(\n",
        "    df = df,\n",
        "    indicators = [\n",
        "        BolingerBands(data=df, period=20, std=2),\n",
        "        RSI(data=df, period=14),\n",
        "        PSAR(data=df),\n",
        "        MACD(data=df),\n",
        "        SMA(data=df, period=7),\n",
        "    ]\n",
        ")\n",
        "\n",
        "env = TradingEnv(\n",
        "    data_feeder = pd_data_feeder,\n",
        "    output_transformer = ZScoreScaler(),\n",
        "    initial_balance = 1000.0,\n",
        "    max_episode_steps = 1000,\n",
        "    window_size = 50,\n",
        "    reward_function = AccountValueChangeReward(),\n",
        "    metrics = [\n",
        "        DifferentActions(),\n",
        "        AccountValue(),\n",
        "        MaxDrawdown(),\n",
        "        SharpeRatio(),\n",
        "    ]\n",
        ")\n",
        "action_space = env.action_space\n",
        "input_shape = env.observation_space.shape\n",
        "\n",
        "env.save_config()\n",
        "\n",
        "pygameRender = PygameRender(frame_rate=60, screen_width=640, screen_height=480)\n",
        "\n",
        "state, info = env.reset()\n",
        "pygameRender.render(info)\n",
        "rewards = 0.0\n",
        "while True:\n",
        "    # simulate model prediction, now use random action\n",
        "    action = np.random.randint(0, action_space)\n",
        "\n",
        "    state, reward, terminated, truncated, info = env.step(action)\n",
        "    rewards += reward\n",
        "    pygameRender.render(info)\n",
        "\n",
        "    if terminated or truncated:\n",
        "        print(info['states'][-1].account_value, rewards)\n",
        "        rewards = 0.0\n",
        "        state, info = env.reset()\n",
        "        pygameRender.reset()\n"
      ]
    }
  ],
  "metadata": {
    "colab": {
      "authorship_tag": "ABX9TyOSYhPs1lX76ee7V5qmoI3J",
      "provenance": []
    },
    "kernelspec": {
      "display_name": "Python 3",
      "name": "python3"
    },
    "language_info": {
      "codemirror_mode": {
        "name": "ipython",
        "version": 3
      },
      "file_extension": ".py",
      "mimetype": "text/x-python",
      "name": "python",
      "nbconvert_exporter": "python",
      "pygments_lexer": "ipython3",
      "version": "3.11.5"
    }
  },
  "nbformat": 4,
  "nbformat_minor": 0
}
