{
  "cells": [
    {
      "cell_type": "code",
      "execution_count": 1,
      "metadata": {},
      "outputs": [
        {
          "name": "stdout",
          "output_type": "stream",
          "text": [
            "WARNING:tensorflow:From c:\\Users\\ivas\\AppData\\Local\\anaconda3\\Lib\\site-packages\\keras\\src\\losses.py:2976: The name tf.losses.sparse_softmax_cross_entropy is deprecated. Please use tf.compat.v1.losses.sparse_softmax_cross_entropy instead.\n",
            "\n"
          ]
        }
      ],
      "source": [
        "import numpy as np\n",
        "import pandas as pd\n",
        "import tensorflow as tf\n",
        "tf.get_logger().setLevel('ERROR')\n",
        "for gpu in tf.config.experimental.list_physical_devices('GPU'):\n",
        "    tf.config.experimental.set_memory_growth(gpu, True)\n",
        "\n",
        "from finrock.data_feeder import PdDataFeeder\n",
        "from finrock.trading_env import TradingEnv\n",
        "from finrock.render import PygameRender\n",
        "\n",
        "# The following allows to save plots in SVG format.\n",
        "import matplotlib_inline\n",
        "%matplotlib inline\n",
        "matplotlib_inline.backend_inline.set_matplotlib_formats('svg')"
      ]
    },
    {
      "cell_type": "code",
      "execution_count": 5,
      "metadata": {},
      "outputs": [
        {
          "ename": "UnboundLocalError",
          "evalue": "cannot access local variable 'prev_value_map' where it is not associated with a value",
          "output_type": "error",
          "traceback": [
            "\u001b[1;31m---------------------------------------------------------------------------\u001b[0m",
            "\u001b[1;31mUnboundLocalError\u001b[0m                         Traceback (most recent call last)",
            "Cell \u001b[1;32mIn[5], line 16\u001b[0m\n\u001b[0;32m     13\u001b[0m agent \u001b[38;5;241m=\u001b[39m tf\u001b[38;5;241m.\u001b[39mkeras\u001b[38;5;241m.\u001b[39mmodels\u001b[38;5;241m.\u001b[39mload_model(\u001b[38;5;124mf\u001b[39m\u001b[38;5;124m'\u001b[39m\u001b[38;5;132;01m{\u001b[39;00mmodel_path\u001b[38;5;132;01m}\u001b[39;00m\u001b[38;5;124m/ppo_sinusoid_actor.h5\u001b[39m\u001b[38;5;124m'\u001b[39m)\n\u001b[0;32m     15\u001b[0m state, info \u001b[38;5;241m=\u001b[39m env\u001b[38;5;241m.\u001b[39mreset()\n\u001b[1;32m---> 16\u001b[0m pygameRender\u001b[38;5;241m.\u001b[39mrender(info)\n\u001b[0;32m     17\u001b[0m rewards \u001b[38;5;241m=\u001b[39m \u001b[38;5;241m0.0\u001b[39m\n\u001b[0;32m     18\u001b[0m \u001b[38;5;28;01mwhile\u001b[39;00m \u001b[38;5;28;01mTrue\u001b[39;00m:\n\u001b[0;32m     19\u001b[0m     \u001b[38;5;66;03m# simulate model prediction, now use random action\u001b[39;00m\n",
            "File \u001b[1;32mc:\\Users\\ivas\\source\\repos\\Proeftuin-py\\pythonlessons-FinRock\\finrock\\render.py:205\u001b[0m, in \u001b[0;36mPygameRender._prerender.<locals>.wrapper\u001b[1;34m(self, info, rgb_array)\u001b[0m\n\u001b[0;32m    200\u001b[0m                     \u001b[38;5;28;01mreturn\u001b[39;00m\n\u001b[0;32m    202\u001b[0m             \u001b[38;5;28mself\u001b[39m\u001b[38;5;241m.\u001b[39mmainWindow\u001b[38;5;241m.\u001b[39mscreen_shape \u001b[38;5;241m=\u001b[39m \u001b[38;5;28mself\u001b[39m\u001b[38;5;241m.\u001b[39mpygame\u001b[38;5;241m.\u001b[39mdisplay\u001b[38;5;241m.\u001b[39mget_surface()\u001b[38;5;241m.\u001b[39mget_size()\n\u001b[1;32m--> 205\u001b[0m canvas \u001b[38;5;241m=\u001b[39m func(\u001b[38;5;28mself\u001b[39m, info)\n\u001b[0;32m    206\u001b[0m canvas \u001b[38;5;241m=\u001b[39m \u001b[38;5;28mself\u001b[39m\u001b[38;5;241m.\u001b[39mpygame\u001b[38;5;241m.\u001b[39mtransform\u001b[38;5;241m.\u001b[39mscale(canvas, \u001b[38;5;28mself\u001b[39m\u001b[38;5;241m.\u001b[39mmainWindow\u001b[38;5;241m.\u001b[39mscreen_shape)\n\u001b[0;32m    207\u001b[0m \u001b[38;5;66;03m# The following line copies our drawings from `canvas` to the visible window\u001b[39;00m\n",
            "File \u001b[1;32mc:\\Users\\ivas\\source\\repos\\Proeftuin-py\\pythonlessons-FinRock\\finrock\\render.py:332\u001b[0m, in \u001b[0;36mPygameRender.render\u001b[1;34m(self, info)\u001b[0m\n\u001b[0;32m    327\u001b[0m font \u001b[38;5;241m=\u001b[39m \u001b[38;5;28mself\u001b[39m\u001b[38;5;241m.\u001b[39mpygame\u001b[38;5;241m.\u001b[39mfont\u001b[38;5;241m.\u001b[39mSysFont(\u001b[38;5;28mself\u001b[39m\u001b[38;5;241m.\u001b[39mcolor_theme\u001b[38;5;241m.\u001b[39mfont, \u001b[38;5;28mself\u001b[39m\u001b[38;5;241m.\u001b[39mmainWindow\u001b[38;5;241m.\u001b[39mfont_size)\n\u001b[0;32m    329\u001b[0m \u001b[38;5;28;01mfor\u001b[39;00m state \u001b[38;5;129;01min\u001b[39;00m \u001b[38;5;28mself\u001b[39m\u001b[38;5;241m.\u001b[39m_states[\u001b[38;5;241m-\u001b[39m\u001b[38;5;28mself\u001b[39m\u001b[38;5;241m.\u001b[39mwindow_size:]:\n\u001b[0;32m    330\u001b[0m \n\u001b[0;32m    331\u001b[0m     \u001b[38;5;66;03m# draw indicators\u001b[39;00m\n\u001b[1;32m--> 332\u001b[0m     \u001b[38;5;28mself\u001b[39m\u001b[38;5;241m.\u001b[39mrender_indicators(state, canvas, candle_offset, max_low, max_high)\n\u001b[0;32m    334\u001b[0m     \u001b[38;5;66;03m# draw candle\u001b[39;00m\n\u001b[0;32m    335\u001b[0m     \u001b[38;5;28mself\u001b[39m\u001b[38;5;241m.\u001b[39mrender_candle(state, canvas, candle_offset, max_low, max_high, font)\n",
            "File \u001b[1;32mc:\\Users\\ivas\\source\\repos\\Proeftuin-py\\pythonlessons-FinRock\\finrock\\render.py:240\u001b[0m, in \u001b[0;36mPygameRender.render_indicators\u001b[1;34m(self, state, canvas, candle_offset, max_low, max_high)\u001b[0m\n\u001b[0;32m    236\u001b[0m         cur_value_map \u001b[38;5;241m=\u001b[39m \u001b[38;5;28mself\u001b[39m\u001b[38;5;241m.\u001b[39mmainWindow\u001b[38;5;241m.\u001b[39mmap_to_seperate_window(render_option\u001b[38;5;241m.\u001b[39mvalue, render_option\u001b[38;5;241m.\u001b[39mmin, render_option\u001b[38;5;241m.\u001b[39mmax)\n\u001b[0;32m    237\u001b[0m         prev_value_map \u001b[38;5;241m=\u001b[39m \u001b[38;5;28mself\u001b[39m\u001b[38;5;241m.\u001b[39mmainWindow\u001b[38;5;241m.\u001b[39mmap_to_seperate_window(prev_render_option\u001b[38;5;241m.\u001b[39mvalue, prev_render_option\u001b[38;5;241m.\u001b[39mmin, prev_render_option\u001b[38;5;241m.\u001b[39mmax)\n\u001b[0;32m    239\u001b[0m     \u001b[38;5;28mself\u001b[39m\u001b[38;5;241m.\u001b[39mpygame\u001b[38;5;241m.\u001b[39mdraw\u001b[38;5;241m.\u001b[39mline(canvas, render_option\u001b[38;5;241m.\u001b[39mcolor, \n\u001b[1;32m--> 240\u001b[0m                             (candle_offset \u001b[38;5;241m-\u001b[39m \u001b[38;5;28mself\u001b[39m\u001b[38;5;241m.\u001b[39mmainWindow\u001b[38;5;241m.\u001b[39mcandle_width \u001b[38;5;241m/\u001b[39m \u001b[38;5;241m2\u001b[39m, prev_value_map), \n\u001b[0;32m    241\u001b[0m                             (candle_offset \u001b[38;5;241m+\u001b[39m \u001b[38;5;28mself\u001b[39m\u001b[38;5;241m.\u001b[39mmainWindow\u001b[38;5;241m.\u001b[39mcandle_width \u001b[38;5;241m/\u001b[39m \u001b[38;5;241m2\u001b[39m, cur_value_map))\n\u001b[0;32m    243\u001b[0m \u001b[38;5;28;01melif\u001b[39;00m render_option\u001b[38;5;241m.\u001b[39mrender_type \u001b[38;5;241m==\u001b[39m RenderType\u001b[38;5;241m.\u001b[39mDOT:\n\u001b[0;32m    244\u001b[0m     \u001b[38;5;28;01mif\u001b[39;00m render_option\u001b[38;5;241m.\u001b[39mwindow_type \u001b[38;5;241m==\u001b[39m WindowType\u001b[38;5;241m.\u001b[39mMAIN:\n",
            "\u001b[1;31mUnboundLocalError\u001b[0m: cannot access local variable 'prev_value_map' where it is not associated with a value"
          ]
        }
      ],
      "source": [
        "df = pd.read_csv('Datasets/random_sinusoid.csv')\n",
        "df = df[-1000:]\n",
        "\n",
        "model_path = \"runs/1715936222\"\n",
        "\n",
        "pd_data_feeder = PdDataFeeder.load_config(df, model_path)\n",
        "env = TradingEnv.load_config(pd_data_feeder, model_path)\n",
        "\n",
        "action_space = env.action_space\n",
        "input_shape = env.observation_space.shape\n",
        "pygameRender = PygameRender(frame_rate=30)#120\n",
        "\n",
        "agent = tf.keras.models.load_model(f'{model_path}/ppo_sinusoid_actor.h5')\n",
        "\n",
        "state, info = env.reset()\n",
        "pygameRender.render(info)\n",
        "rewards = 0.0\n",
        "while True:\n",
        "    # simulate model prediction, now use random action\n",
        "    prob = agent.predict(np.expand_dims(state, axis=0), verbose=False)[0]\n",
        "    action = np.argmax(prob)\n",
        "\n",
        "    state, reward, terminated, truncated, info = env.step(action)\n",
        "    rewards += reward\n",
        "    pygameRender.render(info)\n",
        "\n",
        "    if terminated or truncated:\n",
        "        print(rewards)\n",
        "        for metric, value in info['metrics'].items():\n",
        "            print(metric, value)\n",
        "        state, info = env.reset()\n",
        "        rewards = 0.0\n",
        "        pygameRender.reset()\n",
        "        pygameRender.render(info)\n"
      ]
    }
  ],
  "metadata": {
    "colab": {
      "authorship_tag": "ABX9TyOSYhPs1lX76ee7V5qmoI3J",
      "provenance": []
    },
    "kernelspec": {
      "display_name": "Python 3",
      "name": "python3"
    },
    "language_info": {
      "codemirror_mode": {
        "name": "ipython",
        "version": 3
      },
      "file_extension": ".py",
      "mimetype": "text/x-python",
      "name": "python",
      "nbconvert_exporter": "python",
      "pygments_lexer": "ipython3",
      "version": "3.11.5"
    }
  },
  "nbformat": 4,
  "nbformat_minor": 0
}
